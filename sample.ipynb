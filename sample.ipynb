{
 "cells": [
  {
   "metadata": {},
   "cell_type": "markdown",
   "source": [
    "### Veri Tipleri Uygulama\n",
    "# Python'da Temel Veri Tipleri\n",
    "\n",
    "| Kategori          | Veri Tipi      | Açıklama                                      |\n",
    "|-------------------|----------------|-----------------------------------------------|\n",
    "| **Metin**         | `str`          | Metin veri tipi.                              |\n",
    "| **Sayısal**       | `int`          | Tam sayılar.                                  |\n",
    "|                   | `float`        | Ondalıklı sayılar.                            |\n",
    "|                   | `complex`      | Karmaşık sayılar.                             |\n",
    "| **Sıralı**        | `list`         | Liste (değiştirilebilir sıralı veri yapısı).  |\n",
    "|                   | `tuple`        | Demet (değiştirilemez sıralı veri yapısı).    |\n",
    "|                   | `range`        | Belirli bir aralıktaki sıralı değerler.       |\n",
    "| **Sözlük**        | `dict`         | Sözlük (key-value çiftleri).                  |\n",
    "| **Küme**          | `set`          | Küme (benzersiz elemanlar).                   |\n",
    "|                   | `frozenset`    | Değiştirilemez küme.                          |\n",
    "| **Boolean**       | `bool`         | Mantıksal veri tipi (`True` veya `False`).    |\n",
    "| **Binary**        | `bytes`        | Değiştirilemez bayt dizisi.                   |\n",
    "|                   | `bytearray`    | Değiştirilebilir bayt dizisi.                 |\n",
    "|                   | `memoryview`   | Bellek görünümü.                              |\n",
    "\n",
    "## `type()` Fonksiyonu\n",
    "`type()` fonksiyonu, bir değişkenin veri tipini döndürür."
   ],
   "id": "8a77807f92f26ee"
  },
  {
   "metadata": {
    "ExecuteTime": {
     "end_time": "2025-03-06T07:33:18.504606Z",
     "start_time": "2025-03-06T07:33:15.255544Z"
    }
   },
   "cell_type": "code",
   "source": [
    "# 1. Örnek\n",
    "radius = float(input(\"Lütfen hesaplanması istenen dairenin yarıçapını giriniz:\")) #tip dönüşümü\n",
    "alan = 3.14 * radius * radius\n",
    "cevre = 2 * 3.14 * radius\n",
    "print(f\"Dairenin alanı: {alan}, dairenin cevresi: {cevre}\") #f string"
   ],
   "id": "fbc121e30a2defb3",
   "outputs": [
    {
     "name": "stdout",
     "output_type": "stream",
     "text": [
      "Dairenin alanı: 452.15999999999997, dairenin cevresi: 75.36\n"
     ]
    }
   ],
   "execution_count": 2
  },
  {
   "metadata": {
    "ExecuteTime": {
     "end_time": "2025-03-06T07:38:18.641283Z",
     "start_time": "2025-03-06T07:38:15.076639Z"
    }
   },
   "cell_type": "code",
   "source": [
    "# 2. Örnek\n",
    "constant = 1.609344\n",
    "km = float(input(\"Dönüşüm yapılacak km değerini giriniz:\"))\n",
    "mil = round(km * constant, 2) # Round fonksiyonu ilgili sayıyı yuvarlar. İkinci paramtre virgülden sonraki basamak sayısını ifade eder.\n",
    "print(f\"Mil {mil}\")\n",
    "print(f\"{km} kilometre {km * constant} mildir\")"
   ],
   "id": "62705c7232402e5f",
   "outputs": [
    {
     "name": "stdout",
     "output_type": "stream",
     "text": [
      "Mil 193.12\n",
      "120.0 kilometre 193.12128 mildir\n"
     ]
    }
   ],
   "execution_count": 6
  },
  {
   "metadata": {},
   "cell_type": "markdown",
   "source": "",
   "id": "c019da18d75791c6"
  }
 ],
 "metadata": {
  "kernelspec": {
   "display_name": "Python 3",
   "language": "python",
   "name": "python3"
  },
  "language_info": {
   "codemirror_mode": {
    "name": "ipython",
    "version": 2
   },
   "file_extension": ".py",
   "mimetype": "text/x-python",
   "name": "python",
   "nbconvert_exporter": "python",
   "pygments_lexer": "ipython2",
   "version": "2.7.6"
  }
 },
 "nbformat": 4,
 "nbformat_minor": 5
}
