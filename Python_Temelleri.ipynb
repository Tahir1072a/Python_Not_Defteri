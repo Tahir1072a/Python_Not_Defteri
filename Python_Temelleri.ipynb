{
 "cells": [
  {
   "metadata": {},
   "cell_type": "markdown",
   "source": [
    "### Veri Tipleri Uygulama\n",
    "# Python'da Temel Veri Tipleri\n",
    "\n",
    "| Kategori          | Veri Tipi      | Açıklama                                      |\n",
    "|-------------------|----------------|-----------------------------------------------|\n",
    "| **Metin**         | `str`          | Metin veri tipi.                              |\n",
    "| **Sayısal**       | `int`          | Tam sayılar.                                  |\n",
    "|                   | `float`        | Ondalıklı sayılar.                            |\n",
    "|                   | `complex`      | Karmaşık sayılar.                             |\n",
    "| **Sıralı**        | `list`         | Liste (değiştirilebilir sıralı veri yapısı).  |\n",
    "|                   | `tuple`        | Demet (değiştirilemez sıralı veri yapısı).    |\n",
    "|                   | `range`        | Belirli bir aralıktaki sıralı değerler.       |\n",
    "| **Sözlük**        | `dict`         | Sözlük (key-value çiftleri).                  |\n",
    "| **Küme**          | `set`          | Küme (benzersiz elemanlar).                   |\n",
    "|                   | `frozenset`    | Değiştirilemez küme.                          |\n",
    "| **Boolean**       | `bool`         | Mantıksal veri tipi (`True` veya `False`).    |\n",
    "| **Binary**        | `bytes`        | Değiştirilemez bayt dizisi.                   |\n",
    "|                   | `bytearray`    | Değiştirilebilir bayt dizisi.                 |\n",
    "|                   | `memoryview`   | Bellek görünümü.                              |\n",
    "\n",
    "## `type()` Fonksiyonu\n",
    "`type()` fonksiyonu, bir değişkenin veri tipini döndürür."
   ],
   "id": "8a77807f92f26ee"
  },
  {
   "metadata": {
    "ExecuteTime": {
     "end_time": "2025-03-06T07:33:18.504606Z",
     "start_time": "2025-03-06T07:33:15.255544Z"
    }
   },
   "cell_type": "code",
   "source": [
    "# 1. Örnek\n",
    "radius = float(input(\"Lütfen hesaplanması istenen dairenin yarıçapını giriniz:\")) #tip dönüşümü\n",
    "alan = 3.14 * radius * radius\n",
    "cevre = 2 * 3.14 * radius\n",
    "print(f\"Dairenin alanı: {alan}, dairenin cevresi: {cevre}\") #f string"
   ],
   "id": "fbc121e30a2defb3",
   "outputs": [
    {
     "name": "stdout",
     "output_type": "stream",
     "text": [
      "Dairenin alanı: 452.15999999999997, dairenin cevresi: 75.36\n"
     ]
    }
   ],
   "execution_count": 2
  },
  {
   "metadata": {
    "ExecuteTime": {
     "end_time": "2025-03-06T07:38:18.641283Z",
     "start_time": "2025-03-06T07:38:15.076639Z"
    }
   },
   "cell_type": "code",
   "source": [
    "# 2. Örnek\n",
    "constant = 1.609344\n",
    "km = float(input(\"Dönüşüm yapılacak km değerini giriniz:\"))\n",
    "mil = round(km * constant, 2) # Round fonksiyonu ilgili sayıyı yuvarlar. İkinci paramtre virgülden sonraki basamak sayısını ifade eder.\n",
    "print(f\"Mil {mil}\")\n",
    "print(f\"{km} kilometre {km * constant} mildir\")"
   ],
   "id": "62705c7232402e5f",
   "outputs": [
    {
     "name": "stdout",
     "output_type": "stream",
     "text": [
      "Mil 193.12\n",
      "120.0 kilometre 193.12128 mildir\n"
     ]
    }
   ],
   "execution_count": 6
  },
  {
   "metadata": {},
   "cell_type": "markdown",
   "source": [
    "# String Veri Tipi Ayrıntıları\n",
    "\n",
    "## String Kaçış Karakterleri\n",
    "\n",
    "| Kaçış Karakteri | Açıklama | Örnek | Çıktı |\n",
    "|---|---|---|---|\n",
    "| `\\'` | Tek Tırnak | `'Merhaba Dünya\\'m'` | Merhaba Dünya'm |\n",
    "| `\\\\` | Ters Eğik Çizgi | `'Merhaba \\\\ Dünya'` | Merhaba \\ Dünya |\n",
    "| `\\n` | Alt Satır | `'Merhaba \\n Dünya'` | Merhaba <br> Dünya |\n",
    "| `\\t` | Tab | `'Merhaba\\tDünya'` | Merhaba&nbsp;&nbsp;&nbsp;&nbsp;Dünya |\n",
    "| `\\b` | Backspace | `'Merhaba \\bDünya'` | MerhabaDünya |\n",
    "| `\\f` | Form Beslemesi |  |  |\n",
    "| `\\ooo` | Sekizlik Değer | `txt = \"\\115\\145\\162\\150\\141\\142\\141\"` <br> `print(txt)` | Merhaba |\n",
    "| `\\xhh` | Onaltılık Değer | `txt = \"\\x4D\\x65\\x72\\x68\\x61\\x62\\x61\"` <br> `print(txt)` | Merhaba |\n",
    "\n",
    "## String Metodları\n",
    "\n",
    "| Metod | Açıklama |\n",
    "|---|---|\n",
    "| `capitalize()` | İlk karakteri büyük harfe dönüştürür. |\n",
    "| `casefold()` | String'i küçük harfe dönüştürür. |\n",
    "| `center()` | Ortalanmış bir string döndürür. |\n",
    "| `count()` | Belirtilen değerin bir string'de kaç kez geçtiğini döndürür. |\n",
    "| `encode()` | String'in kodlanmış bir sürümünü döndürür. |\n",
    "| `endswith()` | String belirtilen değerle bitiyorsa true döndürür. |\n",
    "| `expandtabs()` | String'in sekme boyutunu ayarlar. |\n",
    "| `find()` | String'de belirtilen bir değeri arar ve bulunduğu konumu döndürür. |\n",
    "| `format()` | String'deki belirtilen değerleri biçimlendirir. |\n",
    "| `format_map()` | String'deki belirtilen değerleri biçimlendirir. |\n",
    "| `index()` | String'de belirtilen bir değeri arar ve bulunduğu konumu döndürür. |\n",
    "| `isalnum()` | String'deki tüm karakterler alfanümerikse True döndürür. |\n",
    "| `isalpha()` | String'deki tüm karakterler alfabedeyse True döndürür. |\n",
    "| `isdecimal()` | String'deki tüm karakterler ondalıksa True döndürür. |\n",
    "| `isdigit()` | String'deki tüm karakterler rakamsa True döndürür. |\n",
    "| `isidentifier()` | String bir tanımlayıcıysa True döndürür. |\n",
    "| `islower()` | String'deki tüm karakterler küçük harfse True döndürür. |\n",
    "| `isnumeric()` | String'deki tüm karakterler sayısal ise True döndürür. |\n",
    "| `isprintable()` | String'deki tüm karakterler yazdırılabilirse True döndürür. |\n",
    "| `isspace()` | String'deki tüm karakterler boşluksa True döndürür. |\n",
    "| `istitle()` | String bir başlık kurallarına uyuyorsa True döndürür. |\n",
    "| `isupper()` | String'deki tüm karakterler büyük harfse True döndürür. |\n",
    "| `join()` | Bir iterable'ın elemanlarını string'in sonuna birleştirir. |\n",
    "| `ljust()` | String'in sola hizalanmış bir sürümünü döndürür. |\n",
    "| `lower()` | String'i küçük harfe dönüştürür. |\n",
    "| `lstrip()` | String'in sol kırpılmış bir sürümünü döndürür. |\n",
    "| `maketrans()` | Çevirilerde kullanılacak bir çeviri tablosu döndürür. |\n",
    "| `partition()` | String'in üç parçaya ayrıldığı bir tuple döndürür. |\n",
    "| `replace()` | Belirtilen bir değerin belirtilen bir değerle değiştirildiği bir string döndürür. |\n",
    "| `rfind()` | String'de belirtilen bir değeri arar ve bulunduğu son konumu döndürür. |\n",
    "| `rindex()` | String'de belirtilen bir değeri arar ve bulunduğu son konumu döndürür. |\n",
    "| `rjust()` | String'in sağa hizalanmış bir sürümünü döndürür. |\n",
    "| `rpartition()` | String'in üç parçaya ayrıldığı bir tuple döndürür. |\n",
    "| `rsplit()` | String'i belirtilen ayırıcıda böler ve bir liste döndürür. |\n",
    "| `rstrip()` | String'in sağ kırpılmış bir sürümünü döndürür. |\n",
    "| `split()` | String'i belirtilen ayırıcıda böler ve bir liste döndürür. |\n",
    "| `splitlines()` | String'i satır sonlarında böler ve bir liste döndürür. |\n",
    "| `startswith()` | String belirtilen değerle başlıyorsa true döndürür. |\n",
    "| `strip()` | String'in kırpılmış bir sürümünü döndürür. |\n",
    "| `swapcase()` | Büyük/küçük harf değiştirir, küçük harf büyük harf olur ve tersi. |\n",
    "| `title()` | Her kelimenin ilk karakterini büyük harfe dönüştürür. |\n",
    "| `translate()` | Çevrilmiş bir string döndürür. |\n",
    "| `upper()` | String'i büyük harfe dönüştürür. |\n",
    "| `zfill()` | String'i başlangıçta belirtilen sayıda 0 değeriyle doldurur. |\n",
    "\n"
   ],
   "id": "c019da18d75791c6"
  },
  {
   "metadata": {
    "ExecuteTime": {
     "end_time": "2025-03-06T08:27:35.411319Z",
     "start_time": "2025-03-06T08:27:35.404146Z"
    }
   },
   "cell_type": "code",
   "source": [
    "x = \"Hello World\"\n",
    "print(x[10]) # dizi sayıldıkları için indekslenebilirler.\n",
    "print(x[-1])\n",
    "\n",
    "print(f\"Kelimenin uzunluğu: {len(x)}\")\n",
    "print(f\"Kelime içinde 'orl' geçiyor mu? {\"orl\" in x}\") #Kelime içi arama\n",
    "\n",
    "# Kelime içinde for ile dönme\n",
    "for harf in x:\n",
    "    print(harf)"
   ],
   "id": "75011193f8fd4e9c",
   "outputs": [
    {
     "name": "stdout",
     "output_type": "stream",
     "text": [
      "d\n",
      "d\n",
      "Kelimenin uzunluğu: 11\n",
      "Kelime içinde 'orl' geçiyor mu? True\n",
      "H\n",
      "e\n",
      "l\n",
      "l\n",
      "o\n",
      " \n",
      "W\n",
      "o\n",
      "r\n",
      "l\n",
      "d\n"
     ]
    }
   ],
   "execution_count": 40
  },
  {
   "metadata": {
    "ExecuteTime": {
     "end_time": "2025-03-06T08:18:37.844817Z",
     "start_time": "2025-03-06T08:18:37.836898Z"
    }
   },
   "cell_type": "code",
   "source": [
    "# Slicing\n",
    "hello, hell = x[0:5], x[0:4] #İndeks değerlerine göre parçalar. Son indeks dahil değildir.\n",
    "print(hello, hell)\n",
    "worl, world = x[-5:-1], x[-5:]\n",
    "print(worl, world)\n",
    "\n",
    "# Atlamalı dilimleme\n",
    "new_word = x[::2] # son değer atlama sayısını belirtir.\n",
    "reverse_word = x[::-1] # kelimeyi ters çevirir\n",
    "print(new_word)\n",
    "print(reverse_word)"
   ],
   "id": "7e7463527971bf7c",
   "outputs": [
    {
     "name": "stdout",
     "output_type": "stream",
     "text": [
      "Hello Hell\n",
      "Worl World\n",
      "HloWrd\n",
      "dlroW olleH\n"
     ]
    }
   ],
   "execution_count": 32
  },
  {
   "metadata": {
    "ExecuteTime": {
     "end_time": "2025-03-06T08:25:44.911094Z",
     "start_time": "2025-03-06T08:25:44.901133Z"
    }
   },
   "cell_type": "code",
   "outputs": [
    {
     "name": "stdout",
     "output_type": "stream",
     "text": [
      "My name is Ali Koçak. I am 40 years old\n",
      "My name is Ali Koçak. I am 40 years old\n"
     ]
    }
   ],
   "execution_count": 39,
   "source": [
    "#String Formatlama\n",
    "name = \"Ali\"\n",
    "last_name= \"Koçak\"\n",
    "age = 40\n",
    "msg_1 = \"My name is {} {}. I am {} years old\".format(name, last_name, age)\n",
    "msg_2 = \"My name is {n} {l}. I am {a} years old\".format(n=name, l=last_name, a=age)\n",
    "print(f\"{msg_1}\\n{msg_2}\") # f-string işe bu şekilde kullanılır. Parantezler içine python kodları girer."
   ],
   "id": "5239df430728ee87"
  },
  {
   "metadata": {
    "ExecuteTime": {
     "end_time": "2025-03-06T08:31:30.886669Z",
     "start_time": "2025-03-06T08:31:30.878062Z"
    }
   },
   "cell_type": "code",
   "outputs": [
    {
     "name": "stdout",
     "output_type": "stream",
     "text": [
      "30 Python Pytho Giriş şiriG ayamalmargorP eli nohtyP\n"
     ]
    }
   ],
   "execution_count": 48,
   "source": [
    "# Basit Uygulama Örnekleri\n",
    "title = \"Python ile Programlamaya Giriş\"\n",
    "\n",
    "title_len, title_first_word, last_five_and_first_five, title_reverse = len(title), title[0:6], (title[0:5] + \" \" + title[-5:]), title[::-1]\n",
    "print(title_len, title_first_word, last_five_and_first_five, title_reverse)"
   ],
   "id": "b2627ae80dbc2344"
  },
  {
   "metadata": {
    "ExecuteTime": {
     "end_time": "2025-03-06T08:53:22.934036Z",
     "start_time": "2025-03-06T08:53:22.925283Z"
    }
   },
   "cell_type": "code",
   "source": [
    "# Python String Metotları: Most Used\n",
    "title_lower = title.lower()\n",
    "title_upper = title.upper()\n",
    "title_capital = title.capitalize() # İlk karakteri büyük harfe çevirir.\n",
    "title_title = title_lower.title() # Tüm kelimelerin ilk karakterlerini büyük harfe çevirir.\n",
    "print(title_lower, title_upper, title_capital)\n",
    "print(title.startswith(\"x\")) # ilgili string x ile mi başlıyor?\n",
    "\n",
    "website = \"https://www.google.com.tr\"\n",
    "nokta_sayisi = website.count(\".\") # Count fonksiyonu görüldüğü üzere sayım yapar.\n",
    "print(nokta_sayisi)\n",
    "print(f\"Web sitesi url'inde www değeri var mıdır: {\"www\" in website} \")"
   ],
   "id": "5c1bc95e34bafaae",
   "outputs": [
    {
     "name": "stdout",
     "output_type": "stream",
     "text": [
      "python ile programlamaya giriş PYTHON ILE PROGRAMLAMAYA GIRIŞ Python ile programlamaya giriş\n",
      "False\n",
      "3\n",
      "Web sitesi url'inde www değeri var mıdır: True \n"
     ]
    }
   ],
   "execution_count": 65
  },
  {
   "metadata": {
    "ExecuteTime": {
     "end_time": "2025-03-06T08:54:22.147523Z",
     "start_time": "2025-03-06T08:54:22.142773Z"
    }
   },
   "cell_type": "code",
   "source": [
    "# Basit Örnek 2\n",
    "sentence = \"My name is john\"\n",
    "result_1 = sentence.isalpha()\n",
    "result_2 = sentence.replace(\" \", \"\").isalpha()\n",
    "print(f\"Boşluklar kaldırılmadı :{result_1}, boşluklar kalktı: {result_2}\")\n",
    "sentence_list = sentence.split(\" \")\n",
    "sentence_list"
   ],
   "id": "3fdda7882a6aa53f",
   "outputs": [
    {
     "name": "stdout",
     "output_type": "stream",
     "text": [
      "Boşluklar kaldırılmadı :False, boşluklar kalktı: True\n"
     ]
    },
    {
     "data": {
      "text/plain": [
       "['My', 'name', 'is', 'john']"
      ]
     },
     "execution_count": 68,
     "metadata": {},
     "output_type": "execute_result"
    }
   ],
   "execution_count": 68
  },
  {
   "metadata": {},
   "cell_type": "code",
   "outputs": [],
   "execution_count": null,
   "source": "",
   "id": "6dae840a30f10b9a"
  }
 ],
 "metadata": {
  "kernelspec": {
   "display_name": "Python 3",
   "language": "python",
   "name": "python3"
  },
  "language_info": {
   "codemirror_mode": {
    "name": "ipython",
    "version": 2
   },
   "file_extension": ".py",
   "mimetype": "text/x-python",
   "name": "python",
   "nbconvert_exporter": "python",
   "pygments_lexer": "ipython2",
   "version": "2.7.6"
  }
 },
 "nbformat": 4,
 "nbformat_minor": 5
}
