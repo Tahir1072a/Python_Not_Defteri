{
 "cells": [
  {
   "metadata": {},
   "cell_type": "markdown",
   "source": [
    "# File Operations\n",
    "\n",
    "## Dosya Modları\n",
    "\n",
    "| Mod | Açıklama | Davranış |\n",
    "|---|---|---|\n",
    "| r | Salt okuma modu. | Dosyayı okuma için açar. Dosya mevcut olmalıdır; aksi takdirde hata verir. |\n",
    "| rb | İkili modda salt okuma. | Dosyayı ikili veri okuma için açar. Dosya mevcut olmalıdır; aksi takdirde hata verir. |\n",
    "| r+ | Okuma ve yazma modu. | Dosyayı hem okuma hem de yazma için açar. Dosya mevcut olmalıdır; aksi takdirde hata verir. |\n",
    "| rb+ | İkili modda okuma ve yazma. | Dosyayı ikili veri okuma ve yazma için açar. Dosya mevcut olmalıdır; aksi takdirde hata verir. |\n",
    "| w | Yazma modu. | Dosyayı yazma için açar. Yeni bir dosya oluşturur veya mevcut dosyayı keser. |\n",
    "| wb | İkili modda yazma. | Dosyayı ikili veri yazma için açar. Yeni bir dosya oluşturur veya mevcut dosyayı keser. |\n",
    "| w+ | Yazma ve okuma modu. | Dosyayı hem yazma hem de okuma için açar. Yeni bir dosya oluşturur veya mevcut dosyayı keser. |\n",
    "| wb+ | İkili modda yazma ve okuma. | Dosyayı ikili veri yazma ve okuma için açar. Yeni bir dosya oluşturur veya mevcut dosyayı keser. |\n",
    "| a | Ekleme modu. | Dosyayı veri ekleme için açar. Dosya yoksa yeni bir dosya oluşturur. |\n",
    "| ab | İkili modda ekleme. | Dosyayı ikili veri ekleme için açar. Dosya yoksa yeni bir dosya oluşturur. |\n",
    "| a+ | Ekleme ve okuma modu. | Dosyayı ekleme ve okuma için açar. Dosya yoksa yeni bir dosya oluşturur. |\n",
    "| ab+ | İkili modda ekleme ve okuma. | Dosyayı ikili veri ekleme ve okuma için açar. Dosya yoksa yeni bir dosya oluşturur. |\n",
    "| x | Özel oluşturma modu. | Yeni bir dosya oluşturur. Dosya zaten varsa hata verir. |\n",
    "| xb | İkili modda özel oluşturma. | Yeni bir ikili dosya oluşturur. Dosya zaten varsa hata verir. |\n",
    "| x+ | Okuma ve yazma modu ile özel oluşturma. | Okuma ve yazma için yeni bir dosya oluşturur. Dosya mevcutsa hata verir. |\n",
    "| xb+ | İkili okuma ve yazma modu ile özel oluşturma. | Okuma ve yazma için yeni bir ikili dosya oluşturur. Dosya mevcutsa hata verir. |"
   ],
   "id": "fddf74af246510f0"
  },
  {
   "metadata": {
    "ExecuteTime": {
     "end_time": "2025-03-10T06:43:50.130697Z",
     "start_time": "2025-03-10T06:43:50.123848Z"
    }
   },
   "cell_type": "code",
   "source": [
    "from os import close\n",
    "\n",
    "try:\n",
    "    file = open(\"../data/log.txt\") # Çalıştığı dizinde log.txt isimle dosyayı arar varsa okuma modunda açar yoksa hata fırlatır (Default davranış). Dosya referansını return eder.\n",
    "    file.close()\n",
    "except Exception as e:\n",
    "    print(e)\n",
    "\n",
    "file = open(\"../data/log.txt\", \"w+\", encoding=\"utf-8\") # Write and read modunda dosyayı açar. Ayrıca dosya daha önceden varsa içeriği silinir.\n",
    "file.write(\"abciı\")\n",
    "file.close()\n",
    "\n",
    "file = open(\"../data/log.txt\", \"r\", encoding=\"utf-8\") # Türkçe karakterleri düzgün okuyabilmesi için encoding değeri utf-8'e ayarlanmalıdır.\n",
    "print(file.read())\n",
    "file.close()"
   ],
   "id": "985ec24e366741fa",
   "outputs": [
    {
     "name": "stdout",
     "output_type": "stream",
     "text": [
      "abciı\n"
     ]
    }
   ],
   "execution_count": 15
  },
  {
   "metadata": {
    "ExecuteTime": {
     "end_time": "2025-03-10T06:14:07.744581Z",
     "start_time": "2025-03-10T06:14:07.737388Z"
    }
   },
   "cell_type": "code",
   "source": [
    "# With Komutu => Bu komutu kullanırsak artık close ile sürekli kapatma yapmamıza gerek kalmıyor.\n",
    "with open(\"../data/log.txt\", \"r\", encoding=\"utf-8\") as file:\n",
    "    print(file.read())"
   ],
   "id": "1caacb4e8f7a0f92",
   "outputs": [
    {
     "name": "stdout",
     "output_type": "stream",
     "text": [
      "abciı\n"
     ]
    }
   ],
   "execution_count": 17
  },
  {
   "metadata": {
    "ExecuteTime": {
     "end_time": "2025-03-10T06:56:57.666046Z",
     "start_time": "2025-03-10T06:56:51.300270Z"
    }
   },
   "cell_type": "code",
   "source": [
    "# Örnek Uygulama\n",
    "file_path = \"../data/students_notes.txt\"\n",
    "\n",
    "def write_to_file_student_notes(file_path: str, name: str,  notes: []) -> None:\n",
    "    with open(file_path, \"r+\", encoding=\"utf-8\") as student_file:\n",
    "        student_file.writelines(f\"{name}:{\" \".join(notes)}\")\n",
    "\n",
    "def convert_to_float(not_str):\n",
    "    try:\n",
    "        return float(not_str)\n",
    "    except ValueError as e:\n",
    "        print(f\"Bir hata oluştur: {e}\")\n",
    "\n",
    "def menu():\n",
    "    name = input(\"Student name\")\n",
    "    # students_notes = [convert_to_float(not_str) for not_str in input(\"Enter students notes\").split(\" \")] Güzel tek satırda bir çevirme işlemi\n",
    "    students_notes = input(\"Enter students notes\").split(\" \")\n",
    "    write_to_file_student_notes(file_path, name, students_notes)\n",
    "\n",
    "menu()"
   ],
   "id": "de4bd32df8c40d13",
   "outputs": [],
   "execution_count": 28
  },
  {
   "metadata": {},
   "cell_type": "code",
   "outputs": [],
   "execution_count": null,
   "source": "",
   "id": "39d34bd10210fca2"
  }
 ],
 "metadata": {
  "kernelspec": {
   "display_name": "Python 3",
   "language": "python",
   "name": "python3"
  },
  "language_info": {
   "codemirror_mode": {
    "name": "ipython",
    "version": 2
   },
   "file_extension": ".py",
   "mimetype": "text/x-python",
   "name": "python",
   "nbconvert_exporter": "python",
   "pygments_lexer": "ipython2",
   "version": "2.7.6"
  }
 },
 "nbformat": 4,
 "nbformat_minor": 5
}
