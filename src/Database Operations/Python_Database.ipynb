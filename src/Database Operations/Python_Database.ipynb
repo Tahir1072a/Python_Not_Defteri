{
 "cells": [
  {
   "cell_type": "code",
   "id": "initial_id",
   "metadata": {
    "collapsed": true,
    "ExecuteTime": {
     "end_time": "2025-05-25T09:15:00.169009Z",
     "start_time": "2025-05-25T09:15:00.158406Z"
    }
   },
   "source": [
    "import sqlite3\n",
    "import sqlite3 as lite\n",
    "\n",
    "database_path = \"../../data/chinook.db\"\n",
    "connection = lite.connect(database_path) # Databaseile haberleşmeyi sağlayacağız.\n",
    "\n",
    "# SQL Sorguları\n",
    "\n",
    "cursor = connection.cursor() # Cursor objesi üzerinden sql sorguları yazılır.\n",
    "\n",
    "cursor.execute(\"Select * from customers\")\n",
    "result = cursor.fetchall()\n",
    "\n",
    "for customer in result:\n",
    "    print(customer)\n",
    "\n",
    "cursor.execute(\"Select * from customers where city='Oslo'\")\n",
    "result = cursor.fetchone()\n",
    "print(result)\n",
    "\n",
    "cursor.close()"
   ],
   "outputs": [
    {
     "name": "stdout",
     "output_type": "stream",
     "text": [
      "(1, 'Luís', 'Gonçalves', 'Embraer - Empresa Brasileira de Aeronáutica S.A.', 'Av. Brigadeiro Faria Lima, 2170', 'São José dos Campos', 'SP', 'Brazil', '12227-000', '+55 (12) 3923-5555', '+55 (12) 3923-5566', 'luisg@embraer.com.br', 3)\n",
      "(2, 'Leonie', 'Köhler', None, 'Theodor-Heuss-Straße 34', 'Stuttgart', None, 'Germany', '70174', '+49 0711 2842222', None, 'leonekohler@surfeu.de', 5)\n",
      "(3, 'François', 'Tremblay', None, '1498 rue Bélanger', 'Montréal', 'QC', 'Canada', 'H2G 1A7', '+1 (514) 721-4711', None, 'ftremblay@gmail.com', 3)\n",
      "(4, 'Bjørn', 'Hansen', None, 'Ullevålsveien 14', 'Oslo', None, 'Norway', '0171', '+47 22 44 22 22', None, 'bjorn.hansen@yahoo.no', 4)\n",
      "(5, 'František', 'Wichterlová', 'JetBrains s.r.o.', 'Klanova 9/506', 'Prague', None, 'Czech Republic', '14700', '+420 2 4172 5555', '+420 2 4172 5555', 'frantisekw@jetbrains.com', 4)\n",
      "(6, 'Helena', 'Holý', None, 'Rilská 3174/6', 'Prague', None, 'Czech Republic', '14300', '+420 2 4177 0449', None, 'hholy@gmail.com', 5)\n",
      "(7, 'Astrid', 'Gruber', None, 'Rotenturmstraße 4, 1010 Innere Stadt', 'Vienne', None, 'Austria', '1010', '+43 01 5134505', None, 'astrid.gruber@apple.at', 5)\n",
      "(8, 'Daan', 'Peeters', None, 'Grétrystraat 63', 'Brussels', None, 'Belgium', '1000', '+32 02 219 03 03', None, 'daan_peeters@apple.be', 4)\n",
      "(9, 'Kara', 'Nielsen', None, 'Sønder Boulevard 51', 'Copenhagen', None, 'Denmark', '1720', '+453 3331 9991', None, 'kara.nielsen@jubii.dk', 4)\n",
      "(10, 'Eduardo', 'Martins', 'Woodstock Discos', 'Rua Dr. Falcão Filho, 155', 'São Paulo', 'SP', 'Brazil', '01007-010', '+55 (11) 3033-5446', '+55 (11) 3033-4564', 'eduardo@woodstock.com.br', 4)\n",
      "(11, 'Alexandre', 'Rocha', 'Banco do Brasil S.A.', 'Av. Paulista, 2022', 'São Paulo', 'SP', 'Brazil', '01310-200', '+55 (11) 3055-3278', '+55 (11) 3055-8131', 'alero@uol.com.br', 5)\n",
      "(12, 'Roberto', 'Almeida', 'Riotur', 'Praça Pio X, 119', 'Rio de Janeiro', 'RJ', 'Brazil', '20040-020', '+55 (21) 2271-7000', '+55 (21) 2271-7070', 'roberto.almeida@riotur.gov.br', 3)\n",
      "(13, 'Fernanda', 'Ramos', None, 'Qe 7 Bloco G', 'Brasília', 'DF', 'Brazil', '71020-677', '+55 (61) 3363-5547', '+55 (61) 3363-7855', 'fernadaramos4@uol.com.br', 4)\n",
      "(14, 'Mark', 'Philips', 'Telus', '8210 111 ST NW', 'Edmonton', 'AB', 'Canada', 'T6G 2C7', '+1 (780) 434-4554', '+1 (780) 434-5565', 'mphilips12@shaw.ca', 5)\n",
      "(15, 'Jennifer', 'Peterson', 'Rogers Canada', '700 W Pender Street', 'Vancouver', 'BC', 'Canada', 'V6C 1G8', '+1 (604) 688-2255', '+1 (604) 688-8756', 'jenniferp@rogers.ca', 3)\n",
      "(16, 'Frank', 'Harris', 'Google Inc.', '1600 Amphitheatre Parkway', 'Mountain View', 'CA', 'USA', '94043-1351', '+1 (650) 253-0000', '+1 (650) 253-0000', 'fharris@google.com', 4)\n",
      "(17, 'Jack', 'Smith', 'Microsoft Corporation', '1 Microsoft Way', 'Redmond', 'WA', 'USA', '98052-8300', '+1 (425) 882-8080', '+1 (425) 882-8081', 'jacksmith@microsoft.com', 5)\n",
      "(18, 'Michelle', 'Brooks', None, '627 Broadway', 'New York', 'NY', 'USA', '10012-2612', '+1 (212) 221-3546', '+1 (212) 221-4679', 'michelleb@aol.com', 3)\n",
      "(19, 'Tim', 'Goyer', 'Apple Inc.', '1 Infinite Loop', 'Cupertino', 'CA', 'USA', '95014', '+1 (408) 996-1010', '+1 (408) 996-1011', 'tgoyer@apple.com', 3)\n",
      "(20, 'Dan', 'Miller', None, '541 Del Medio Avenue', 'Mountain View', 'CA', 'USA', '94040-111', '+1 (650) 644-3358', None, 'dmiller@comcast.com', 4)\n",
      "(21, 'Kathy', 'Chase', None, '801 W 4th Street', 'Reno', 'NV', 'USA', '89503', '+1 (775) 223-7665', None, 'kachase@hotmail.com', 5)\n",
      "(22, 'Heather', 'Leacock', None, '120 S Orange Ave', 'Orlando', 'FL', 'USA', '32801', '+1 (407) 999-7788', None, 'hleacock@gmail.com', 4)\n",
      "(23, 'John', 'Gordon', None, '69 Salem Street', 'Boston', 'MA', 'USA', '2113', '+1 (617) 522-1333', None, 'johngordon22@yahoo.com', 4)\n",
      "(24, 'Frank', 'Ralston', None, '162 E Superior Street', 'Chicago', 'IL', 'USA', '60611', '+1 (312) 332-3232', None, 'fralston@gmail.com', 3)\n",
      "(25, 'Victor', 'Stevens', None, '319 N. Frances Street', 'Madison', 'WI', 'USA', '53703', '+1 (608) 257-0597', None, 'vstevens@yahoo.com', 5)\n",
      "(26, 'Richard', 'Cunningham', None, '2211 W Berry Street', 'Fort Worth', 'TX', 'USA', '76110', '+1 (817) 924-7272', None, 'ricunningham@hotmail.com', 4)\n",
      "(27, 'Patrick', 'Gray', None, '1033 N Park Ave', 'Tucson', 'AZ', 'USA', '85719', '+1 (520) 622-4200', None, 'patrick.gray@aol.com', 4)\n",
      "(28, 'Julia', 'Barnett', None, '302 S 700 E', 'Salt Lake City', 'UT', 'USA', '84102', '+1 (801) 531-7272', None, 'jubarnett@gmail.com', 5)\n",
      "(29, 'Robert', 'Brown', None, '796 Dundas Street West', 'Toronto', 'ON', 'Canada', 'M6J 1V1', '+1 (416) 363-8888', None, 'robbrown@shaw.ca', 3)\n",
      "(30, 'Edward', 'Francis', None, '230 Elgin Street', 'Ottawa', 'ON', 'Canada', 'K2P 1L7', '+1 (613) 234-3322', None, 'edfrancis@yachoo.ca', 3)\n",
      "(31, 'Martha', 'Silk', None, '194A Chain Lake Drive', 'Halifax', 'NS', 'Canada', 'B3S 1C5', '+1 (902) 450-0450', None, 'marthasilk@gmail.com', 5)\n",
      "(32, 'Aaron', 'Mitchell', None, '696 Osborne Street', 'Winnipeg', 'MB', 'Canada', 'R3L 2B9', '+1 (204) 452-6452', None, 'aaronmitchell@yahoo.ca', 4)\n",
      "(33, 'Ellie', 'Sullivan', None, '5112 48 Street', 'Yellowknife', 'NT', 'Canada', 'X1A 1N6', '+1 (867) 920-2233', None, 'ellie.sullivan@shaw.ca', 3)\n",
      "(34, 'João', 'Fernandes', None, 'Rua da Assunção 53', 'Lisbon', None, 'Portugal', None, '+351 (213) 466-111', None, 'jfernandes@yahoo.pt', 4)\n",
      "(35, 'Madalena', 'Sampaio', None, 'Rua dos Campeões Europeus de Viena, 4350', 'Porto', None, 'Portugal', None, '+351 (225) 022-448', None, 'masampaio@sapo.pt', 4)\n",
      "(36, 'Hannah', 'Schneider', None, 'Tauentzienstraße 8', 'Berlin', None, 'Germany', '10789', '+49 030 26550280', None, 'hannah.schneider@yahoo.de', 5)\n",
      "(37, 'Fynn', 'Zimmermann', None, 'Berger Straße 10', 'Frankfurt', None, 'Germany', '60316', '+49 069 40598889', None, 'fzimmermann@yahoo.de', 3)\n",
      "(38, 'Niklas', 'Schröder', None, 'Barbarossastraße 19', 'Berlin', None, 'Germany', '10779', '+49 030 2141444', None, 'nschroder@surfeu.de', 3)\n",
      "(39, 'Camille', 'Bernard', None, '4, Rue Milton', 'Paris', None, 'France', '75009', '+33 01 49 70 65 65', None, 'camille.bernard@yahoo.fr', 4)\n",
      "(40, 'Dominique', 'Lefebvre', None, '8, Rue Hanovre', 'Paris', None, 'France', '75002', '+33 01 47 42 71 71', None, 'dominiquelefebvre@gmail.com', 4)\n",
      "(41, 'Marc', 'Dubois', None, '11, Place Bellecour', 'Lyon', None, 'France', '69002', '+33 04 78 30 30 30', None, 'marc.dubois@hotmail.com', 5)\n",
      "(42, 'Wyatt', 'Girard', None, '9, Place Louis Barthou', 'Bordeaux', None, 'France', '33000', '+33 05 56 96 96 96', None, 'wyatt.girard@yahoo.fr', 3)\n",
      "(43, 'Isabelle', 'Mercier', None, '68, Rue Jouvence', 'Dijon', None, 'France', '21000', '+33 03 80 73 66 99', None, 'isabelle_mercier@apple.fr', 3)\n",
      "(44, 'Terhi', 'Hämäläinen', None, 'Porthaninkatu 9', 'Helsinki', None, 'Finland', '00530', '+358 09 870 2000', None, 'terhi.hamalainen@apple.fi', 3)\n",
      "(45, 'Ladislav', 'Kovács', None, 'Erzsébet krt. 58.', 'Budapest', None, 'Hungary', 'H-1073', None, None, 'ladislav_kovacs@apple.hu', 3)\n",
      "(46, 'Hugh', \"O'Reilly\", None, '3 Chatham Street', 'Dublin', 'Dublin', 'Ireland', None, '+353 01 6792424', None, 'hughoreilly@apple.ie', 3)\n",
      "(47, 'Lucas', 'Mancini', None, 'Via Degli Scipioni, 43', 'Rome', 'RM', 'Italy', '00192', '+39 06 39733434', None, 'lucas.mancini@yahoo.it', 5)\n",
      "(48, 'Johannes', 'Van der Berg', None, 'Lijnbaansgracht 120bg', 'Amsterdam', 'VV', 'Netherlands', '1016', '+31 020 6223130', None, 'johavanderberg@yahoo.nl', 5)\n",
      "(49, 'Stanisław', 'Wójcik', None, 'Ordynacka 10', 'Warsaw', None, 'Poland', '00-358', '+48 22 828 37 39', None, 'stanisław.wójcik@wp.pl', 4)\n",
      "(50, 'Enrique', 'Muñoz', None, 'C/ San Bernardo 85', 'Madrid', None, 'Spain', '28015', '+34 914 454 454', None, 'enrique_munoz@yahoo.es', 5)\n",
      "(51, 'Joakim', 'Johansson', None, 'Celsiusg. 9', 'Stockholm', None, 'Sweden', '11230', '+46 08-651 52 52', None, 'joakim.johansson@yahoo.se', 5)\n",
      "(52, 'Emma', 'Jones', None, '202 Hoxton Street', 'London', None, 'United Kingdom', 'N1 5LH', '+44 020 7707 0707', None, 'emma_jones@hotmail.com', 3)\n",
      "(53, 'Phil', 'Hughes', None, '113 Lupus St', 'London', None, 'United Kingdom', 'SW1V 3EN', '+44 020 7976 5722', None, 'phil.hughes@gmail.com', 3)\n",
      "(54, 'Steve', 'Murray', None, '110 Raeburn Pl', 'Edinburgh ', None, 'United Kingdom', 'EH4 1HH', '+44 0131 315 3300', None, 'steve.murray@yahoo.uk', 5)\n",
      "(55, 'Mark', 'Taylor', None, '421 Bourke Street', 'Sidney', 'NSW', 'Australia', '2010', '+61 (02) 9332 3633', None, 'mark.taylor@yahoo.au', 4)\n",
      "(56, 'Diego', 'Gutiérrez', None, '307 Macacha Güemes', 'Buenos Aires', None, 'Argentina', '1106', '+54 (0)11 4311 4333', None, 'diego.gutierrez@yahoo.ar', 4)\n",
      "(57, 'Luis', 'Rojas', None, 'Calle Lira, 198', 'Santiago', None, 'Chile', None, '+56 (0)2 635 4444', None, 'luisrojas@yahoo.cl', 5)\n",
      "(58, 'Manoj', 'Pareek', None, '12,Community Centre', 'Delhi', None, 'India', '110017', '+91 0124 39883988', None, 'manoj.pareek@rediff.com', 3)\n",
      "(59, 'Puja', 'Srivastava', None, '3,Raj Bhavan Road', 'Bangalore', None, 'India', '560001', '+91 080 22289999', None, 'puja_srivastava@yahoo.in', 3)\n",
      "(4, 'Bjørn', 'Hansen', None, 'Ullevålsveien 14', 'Oslo', None, 'Norway', '0171', '+47 22 44 22 22', None, 'bjorn.hansen@yahoo.no', 4)\n"
     ]
    }
   ],
   "execution_count": 2
  },
  {
   "metadata": {
    "ExecuteTime": {
     "end_time": "2025-05-25T09:15:01.106148Z",
     "start_time": "2025-05-25T09:15:01.071934Z"
    }
   },
   "cell_type": "code",
   "source": [
    "# Add\n",
    "sql = \"INSERT INTO genres(name) VALUES('Macera')\"\n",
    "cursor.execute(sql)\n",
    "connection.commit()"
   ],
   "id": "c6dc147bacef4246",
   "outputs": [
    {
     "ename": "ProgrammingError",
     "evalue": "Cannot operate on a closed cursor.",
     "output_type": "error",
     "traceback": [
      "\u001B[1;31m---------------------------------------------------------------------------\u001B[0m",
      "\u001B[1;31mProgrammingError\u001B[0m                          Traceback (most recent call last)",
      "Cell \u001B[1;32mIn[3], line 3\u001B[0m\n\u001B[0;32m      1\u001B[0m \u001B[38;5;66;03m# Add\u001B[39;00m\n\u001B[0;32m      2\u001B[0m sql \u001B[38;5;241m=\u001B[39m \u001B[38;5;124m\"\u001B[39m\u001B[38;5;124mINSERT INTO genres(name) VALUES(\u001B[39m\u001B[38;5;124m'\u001B[39m\u001B[38;5;124mMacera\u001B[39m\u001B[38;5;124m'\u001B[39m\u001B[38;5;124m)\u001B[39m\u001B[38;5;124m\"\u001B[39m\n\u001B[1;32m----> 3\u001B[0m cursor\u001B[38;5;241m.\u001B[39mexecute(sql)\n\u001B[0;32m      4\u001B[0m connection\u001B[38;5;241m.\u001B[39mcommit()\n",
      "\u001B[1;31mProgrammingError\u001B[0m: Cannot operate on a closed cursor."
     ]
    }
   ],
   "execution_count": 3
  },
  {
   "metadata": {},
   "cell_type": "markdown",
   "source": [
    "**Soru 1:**\n",
    "\n",
    "Python kullanarak `okul.db` adında yeni bir veritabanı dosyası oluşturmak (eğer zaten varsa, ona bağlanmak) istiyorsun[cite: 21]. Ardından, bu veritabanı içinde, 'ogrenciler' adında bir tablo yaratman gerekiyor. Bu tablonun üç sütunu olmalı:\n",
    "\n",
    "* `isim` (Metin - TEXT)\n",
    "* `soyisim` (Metin - TEXT)\n",
    "* `numara` (Tam Sayı - INT)"
   ],
   "id": "3188b1237610f5b1"
  },
  {
   "metadata": {
    "ExecuteTime": {
     "end_time": "2025-05-25T10:12:37.610397Z",
     "start_time": "2025-05-25T10:12:37.603006Z"
    }
   },
   "cell_type": "code",
   "source": [
    "import sqlite3 as lite\n",
    "\n",
    "new_database = \"../../data/okul.db\"\n",
    "connection = lite.connect(new_database)\n",
    "\n",
    "cursor = connection.cursor()\n",
    "cursor.execute(\"Create Table if not exists Students (isim varchar(50), soyisim varchar(50), number int)\")\n",
    "\n",
    "connection.commit()\n",
    "connection.close()"
   ],
   "id": "1d8b74182efc6875",
   "outputs": [],
   "execution_count": 4
  },
  {
   "metadata": {
    "ExecuteTime": {
     "end_time": "2025-05-25T10:12:43.144029Z",
     "start_time": "2025-05-25T10:12:43.134338Z"
    }
   },
   "cell_type": "code",
   "source": [
    "connection = lite.connect(new_database)\n",
    "\n",
    "cursor = connection.cursor()\n",
    "cursor.execute(\"INSERT INTO Students (isim, soyisim, number) VALUES('Ayşe', 'Demir', 101)\")\n",
    "cursor.execute(\"INSERT INTO Students (isim, soyisim, number) VALUES('Mehmet', 'Çelik', 102)\")\n",
    "\n",
    "connection.commit()\n",
    "connection.close()"
   ],
   "id": "24b8a71cecccb950",
   "outputs": [],
   "execution_count": 6
  },
  {
   "metadata": {},
   "cell_type": "markdown",
   "source": [
    "##### Daha güvenli bir yöntem, SQL Injection önleme\n",
    "\n",
    "```\n",
    "import sqlite3\n",
    "\n",
    "db_yolu = \"../../data/okul.db\"\n",
    "baglanti = sqlite3.connect(db_yolu)\n",
    "imlec = baglanti.cursor()\n",
    "\n",
    "# Eklenecek öğrenciler\n",
    "ogrenci1 = ('Ayşe', 'Demir', 101)\n",
    "ogrenci2 = ('Mehmet', 'Çelik', 102)\n",
    "\n",
    "# Soru işareti (?) yöntemi ile ekleme\n",
    "imlec.execute(\"INSERT INTO ogrenciler VALUES (?, ?, ?)\", ogrenci1)\n",
    "imlec.execute(\"INSERT INTO ogrenciler VALUES (?, ?, ?)\", ogrenci2)\n",
    "\n",
    "baglanti.commit() # Değişiklikleri kaydet\n",
    "baglanti.close()  # Bağlantıyı kapat\n",
    "\n",
    "print(\"Öğrenciler başarıyla eklendi!\")\n",
    "```"
   ],
   "id": "cd6cbd88824ef95a"
  },
  {
   "metadata": {
    "ExecuteTime": {
     "end_time": "2025-05-25T10:17:38.342861Z",
     "start_time": "2025-05-25T10:17:38.337083Z"
    }
   },
   "cell_type": "code",
   "source": [
    "connection = lite.connect(new_database)\n",
    "cursor = connection.cursor()\n",
    "\n",
    "cursor.execute(\"Select * from Students\")\n",
    "\n",
    "for row in cursor.fetchall():\n",
    "    print(row)\n",
    "\n",
    "connection.close()"
   ],
   "id": "961a3f0ca68c5e91",
   "outputs": [
    {
     "name": "stdout",
     "output_type": "stream",
     "text": [
      "('Ayşe', 'Demir', 101)\n",
      "('Mehmet', 'Çelik', 102)\n"
     ]
    }
   ],
   "execution_count": 9
  },
  {
   "metadata": {
    "ExecuteTime": {
     "end_time": "2025-05-25T10:27:22.628421Z",
     "start_time": "2025-05-25T10:27:22.617746Z"
    }
   },
   "cell_type": "code",
   "source": [
    "import sqlite3 as lite\n",
    "\n",
    "new_database = \"../../data/okul.db\"\n",
    "\n",
    "connection = lite.connect(new_database)\n",
    "cursor = connection.cursor()\n",
    "\n",
    "new_student = (\"Can\", \"Taş\", 103)\n",
    "\n",
    "cursor.execute(\"Insert Into Students VALUES (?, ?, ?)\", new_student)\n",
    "cursor.execute(\"Update Students set soyisim = ? where number = ?\", (\"Yılmaz\",101))\n",
    "cursor.execute(\"Delete from Students where number = ?\", (102,))\n",
    "connection.commit()\n",
    "\n",
    "cursor.execute(\"Select * from Students\")\n",
    "\n",
    "for row in cursor.fetchall():\n",
    "    print(row)\n",
    "\n",
    "connection.close()"
   ],
   "id": "f77ce7f8dc6d4078",
   "outputs": [
    {
     "name": "stdout",
     "output_type": "stream",
     "text": [
      "('Ayşe', 'Yılmaz', 101)\n",
      "('Can', 'Taş', 103)\n"
     ]
    }
   ],
   "execution_count": 6
  },
  {
   "metadata": {},
   "cell_type": "code",
   "outputs": [],
   "execution_count": null,
   "source": "",
   "id": "679f1b2a0be0d3d5"
  }
 ],
 "metadata": {
  "kernelspec": {
   "display_name": "Python 3",
   "language": "python",
   "name": "python3"
  },
  "language_info": {
   "codemirror_mode": {
    "name": "ipython",
    "version": 2
   },
   "file_extension": ".py",
   "mimetype": "text/x-python",
   "name": "python",
   "nbconvert_exporter": "python",
   "pygments_lexer": "ipython2",
   "version": "2.7.6"
  }
 },
 "nbformat": 4,
 "nbformat_minor": 5
}
