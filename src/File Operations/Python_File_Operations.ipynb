{
 "cells": [
  {
   "cell_type": "markdown",
   "id": "fddf74af246510f0",
   "metadata": {},
   "source": [
    "# File Operations\n",
    "\n",
    "## Dosya Modları\n",
    "\n",
    "| Mod | Açıklama | Davranış |\n",
    "|---|---|---|\n",
    "| r | Salt okuma modu. | Dosyayı okuma için açar. Dosya mevcut olmalıdır; aksi takdirde hata verir. |\n",
    "| rb | İkili modda salt okuma. | Dosyayı ikili veri okuma için açar. Dosya mevcut olmalıdır; aksi takdirde hata verir. |\n",
    "| r+ | Okuma ve yazma modu. | Dosyayı hem okuma hem de yazma için açar. Dosya mevcut olmalıdır; aksi takdirde hata verir. |\n",
    "| rb+ | İkili modda okuma ve yazma. | Dosyayı ikili veri okuma ve yazma için açar. Dosya mevcut olmalıdır; aksi takdirde hata verir. |\n",
    "| w | Yazma modu. | Dosyayı yazma için açar. Yeni bir dosya oluşturur veya mevcut dosyayı keser. |\n",
    "| wb | İkili modda yazma. | Dosyayı ikili veri yazma için açar. Yeni bir dosya oluşturur veya mevcut dosyayı keser. |\n",
    "| w+ | Yazma ve okuma modu. | Dosyayı hem yazma hem de okuma için açar. Yeni bir dosya oluşturur veya mevcut dosyayı keser. |\n",
    "| wb+ | İkili modda yazma ve okuma. | Dosyayı ikili veri yazma ve okuma için açar. Yeni bir dosya oluşturur veya mevcut dosyayı keser. |\n",
    "| a | Ekleme modu. | Dosyayı veri ekleme için açar. Dosya yoksa yeni bir dosya oluşturur. |\n",
    "| ab | İkili modda ekleme. | Dosyayı ikili veri ekleme için açar. Dosya yoksa yeni bir dosya oluşturur. |\n",
    "| a+ | Ekleme ve okuma modu. | Dosyayı ekleme ve okuma için açar. Dosya yoksa yeni bir dosya oluşturur. |\n",
    "| ab+ | İkili modda ekleme ve okuma. | Dosyayı ikili veri ekleme ve okuma için açar. Dosya yoksa yeni bir dosya oluşturur. |\n",
    "| x | Özel oluşturma modu. | Yeni bir dosya oluşturur. Dosya zaten varsa hata verir. |\n",
    "| xb | İkili modda özel oluşturma. | Yeni bir ikili dosya oluşturur. Dosya zaten varsa hata verir. |\n",
    "| x+ | Okuma ve yazma modu ile özel oluşturma. | Okuma ve yazma için yeni bir dosya oluşturur. Dosya mevcutsa hata verir. |\n",
    "| xb+ | İkili okuma ve yazma modu ile özel oluşturma. | Okuma ve yazma için yeni bir ikili dosya oluşturur. Dosya mevcutsa hata verir. |"
   ]
  },
  {
   "cell_type": "code",
   "execution_count": 1,
   "id": "985ec24e366741fa",
   "metadata": {
    "ExecuteTime": {
     "end_time": "2025-05-26T06:43:14.805784Z",
     "start_time": "2025-05-26T06:43:14.792237Z"
    }
   },
   "outputs": [
    {
     "name": "stdout",
     "output_type": "stream",
     "text": [
      "abciı\n"
     ]
    }
   ],
   "source": [
    "from os import close\n",
    "\n",
    "try:\n",
    "    file = open(\"../../data/log.txt\") # Çalıştığı dizinde log.txt isimle dosyayı arar varsa okuma modunda açar yoksa hata fırlatır (Default davranış). Dosya referansını return eder.\n",
    "    file.close()\n",
    "except Exception as e:\n",
    "    print(e)\n",
    "\n",
    "file = open(\"../../data/log.txt\", \"w+\", encoding=\"utf-8\") # Write and read modunda dosyayı açar. Ayrıca dosya daha önceden varsa içeriği silinir.\n",
    "file.write(\"abciı\")\n",
    "file.close()\n",
    "\n",
    "file = open(\"../../data/log.txt\", \"r\", encoding=\"utf-8\") # Türkçe karakterleri düzgün okuyabilmesi için encoding değeri utf-8'e ayarlanmalıdır.\n",
    "print(file.read())\n",
    "file.close()"
   ]
  },
  {
   "cell_type": "code",
   "execution_count": 2,
   "id": "1caacb4e8f7a0f92",
   "metadata": {
    "ExecuteTime": {
     "end_time": "2025-05-26T06:43:14.814809Z",
     "start_time": "2025-05-26T06:43:14.810790Z"
    }
   },
   "outputs": [
    {
     "name": "stdout",
     "output_type": "stream",
     "text": [
      "abciı\n"
     ]
    }
   ],
   "source": [
    "# With Komutu => Bu komutu kullanırsak artık close ile sürekli kapatma yapmamıza gerek kalmıyor.\n",
    "with open(\"../../data/log.txt\", \"r\", encoding=\"utf-8\") as file:\n",
    "    print(file.read())"
   ]
  },
  {
   "cell_type": "code",
   "execution_count": 3,
   "id": "b0949da1538020f1",
   "metadata": {
    "ExecuteTime": {
     "end_time": "2025-05-26T06:43:16.613569Z",
     "start_time": "2025-05-26T06:43:14.870594Z"
    }
   },
   "outputs": [
    {
     "ename": "KeyboardInterrupt",
     "evalue": "Interrupted by user",
     "output_type": "error",
     "traceback": [
      "\u001b[1;31m---------------------------------------------------------------------------\u001b[0m",
      "\u001b[1;31mKeyboardInterrupt\u001b[0m                         Traceback (most recent call last)",
      "Cell \u001b[1;32mIn[3], line 14\u001b[0m\n\u001b[0;32m     11\u001b[0m     students_notes \u001b[38;5;241m=\u001b[39m \u001b[38;5;28minput\u001b[39m(\u001b[38;5;124m\"\u001b[39m\u001b[38;5;124mEnter students notes\u001b[39m\u001b[38;5;124m\"\u001b[39m)\u001b[38;5;241m.\u001b[39msplit(\u001b[38;5;124m\"\u001b[39m\u001b[38;5;124m \u001b[39m\u001b[38;5;124m\"\u001b[39m)\n\u001b[0;32m     12\u001b[0m     write_to_file_student_notes(file_path, name, students_notes)\n\u001b[1;32m---> 14\u001b[0m menu()\n",
      "Cell \u001b[1;32mIn[3], line 9\u001b[0m, in \u001b[0;36mmenu\u001b[1;34m()\u001b[0m\n\u001b[0;32m      8\u001b[0m \u001b[38;5;28;01mdef\u001b[39;00m \u001b[38;5;21mmenu\u001b[39m():\n\u001b[1;32m----> 9\u001b[0m     name \u001b[38;5;241m=\u001b[39m \u001b[38;5;28minput\u001b[39m(\u001b[38;5;124m\"\u001b[39m\u001b[38;5;124mStudent name\u001b[39m\u001b[38;5;124m\"\u001b[39m)\n\u001b[0;32m     10\u001b[0m     \u001b[38;5;66;03m# students_notes = [float(not_str) for not_str in input(\"Enter students notes\").split(\" \")] Güzel tek satırda bir çevirme işlemi\u001b[39;00m\n\u001b[0;32m     11\u001b[0m     students_notes \u001b[38;5;241m=\u001b[39m \u001b[38;5;28minput\u001b[39m(\u001b[38;5;124m\"\u001b[39m\u001b[38;5;124mEnter students notes\u001b[39m\u001b[38;5;124m\"\u001b[39m)\u001b[38;5;241m.\u001b[39msplit(\u001b[38;5;124m\"\u001b[39m\u001b[38;5;124m \u001b[39m\u001b[38;5;124m\"\u001b[39m)\n",
      "File \u001b[1;32m~\\anaconda3\\Lib\\site-packages\\ipykernel\\kernelbase.py:1262\u001b[0m, in \u001b[0;36mKernel.raw_input\u001b[1;34m(self, prompt)\u001b[0m\n\u001b[0;32m   1260\u001b[0m     msg \u001b[38;5;241m=\u001b[39m \u001b[38;5;124m\"\u001b[39m\u001b[38;5;124mraw_input was called, but this frontend does not support input requests.\u001b[39m\u001b[38;5;124m\"\u001b[39m\n\u001b[0;32m   1261\u001b[0m     \u001b[38;5;28;01mraise\u001b[39;00m StdinNotImplementedError(msg)\n\u001b[1;32m-> 1262\u001b[0m \u001b[38;5;28;01mreturn\u001b[39;00m \u001b[38;5;28mself\u001b[39m\u001b[38;5;241m.\u001b[39m_input_request(\n\u001b[0;32m   1263\u001b[0m     \u001b[38;5;28mstr\u001b[39m(prompt),\n\u001b[0;32m   1264\u001b[0m     \u001b[38;5;28mself\u001b[39m\u001b[38;5;241m.\u001b[39m_parent_ident[\u001b[38;5;124m\"\u001b[39m\u001b[38;5;124mshell\u001b[39m\u001b[38;5;124m\"\u001b[39m],\n\u001b[0;32m   1265\u001b[0m     \u001b[38;5;28mself\u001b[39m\u001b[38;5;241m.\u001b[39mget_parent(\u001b[38;5;124m\"\u001b[39m\u001b[38;5;124mshell\u001b[39m\u001b[38;5;124m\"\u001b[39m),\n\u001b[0;32m   1266\u001b[0m     password\u001b[38;5;241m=\u001b[39m\u001b[38;5;28;01mFalse\u001b[39;00m,\n\u001b[0;32m   1267\u001b[0m )\n",
      "File \u001b[1;32m~\\anaconda3\\Lib\\site-packages\\ipykernel\\kernelbase.py:1305\u001b[0m, in \u001b[0;36mKernel._input_request\u001b[1;34m(self, prompt, ident, parent, password)\u001b[0m\n\u001b[0;32m   1302\u001b[0m \u001b[38;5;28;01mexcept\u001b[39;00m \u001b[38;5;167;01mKeyboardInterrupt\u001b[39;00m:\n\u001b[0;32m   1303\u001b[0m     \u001b[38;5;66;03m# re-raise KeyboardInterrupt, to truncate traceback\u001b[39;00m\n\u001b[0;32m   1304\u001b[0m     msg \u001b[38;5;241m=\u001b[39m \u001b[38;5;124m\"\u001b[39m\u001b[38;5;124mInterrupted by user\u001b[39m\u001b[38;5;124m\"\u001b[39m\n\u001b[1;32m-> 1305\u001b[0m     \u001b[38;5;28;01mraise\u001b[39;00m \u001b[38;5;167;01mKeyboardInterrupt\u001b[39;00m(msg) \u001b[38;5;28;01mfrom\u001b[39;00m \u001b[38;5;28;01mNone\u001b[39;00m\n\u001b[0;32m   1306\u001b[0m \u001b[38;5;28;01mexcept\u001b[39;00m \u001b[38;5;167;01mException\u001b[39;00m:\n\u001b[0;32m   1307\u001b[0m     \u001b[38;5;28mself\u001b[39m\u001b[38;5;241m.\u001b[39mlog\u001b[38;5;241m.\u001b[39mwarning(\u001b[38;5;124m\"\u001b[39m\u001b[38;5;124mInvalid Message:\u001b[39m\u001b[38;5;124m\"\u001b[39m, exc_info\u001b[38;5;241m=\u001b[39m\u001b[38;5;28;01mTrue\u001b[39;00m)\n",
      "\u001b[1;31mKeyboardInterrupt\u001b[0m: Interrupted by user"
     ]
    }
   ],
   "source": [
    "# Örnek Uygulama\n",
    "file_path = \"../../data/students_notes.txt\"\n",
    "\n",
    "def write_to_file_student_notes(file_path: str, name: str,  notes: []) -> None:\n",
    "    with open(file_path, \"r+\", encoding=\"utf-8\") as student_file:\n",
    "        student_file.writelines(f\"{name}:{\" \".join(notes)}\")\n",
    "\n",
    "def menu():\n",
    "    name = input(\"Student name\")\n",
    "    # students_notes = [float(not_str) for not_str in input(\"Enter students notes\").split(\" \")] Güzel tek satırda bir çevirme işlemi\n",
    "    students_notes = input(\"Enter students notes\").split(\" \")\n",
    "    write_to_file_student_notes(file_path, name, students_notes)\n",
    "\n",
    "menu()"
   ]
  },
  {
   "cell_type": "markdown",
   "id": "e9816f2cd48870a4",
   "metadata": {},
   "source": [
    "### Sorular\n",
    "\n",
    "**Soru 1:**\n",
    "\n",
    "Diyelim ki `gunluk.txt` adında bir dosyan var ve içinde şu satırlar yazıyor:\n",
    "\n",
    "```\n",
    "Bugün hava çok güzeldi.\n",
    "Parkta biraz yürüdüm.\n",
    "```\n",
    "\n",
    "Bu dosyanın **başına**, mevcut içeriği **silmeden** \"Sevgili Günlük,\" satırını eklemek istiyorsun. Notlarında gördüğün dosya açma kiplerini (`r`, `w`, `a`, `r+` vb.) [cite: 2, 3, 4] ve dosya_işlemleri (`read()`, `write()`, `seek()` vb.) [cite: 7, 9, 13] fonksiyonlarını düşünerek, bu işlemi Python'da nasıl gerçekleştirebilirsin? Hangi adımları izlerdin ve neden o adımları seçerdin? 📝\n",
    "\n",
    "**Senaryo:**\n",
    "\n",
    "Elimizde `notlar.txt` adında bir dosya olduğunu düşünelim. Bu dosyanın içinde öğrencilerin adları ve sınavdan aldıkları notlar şu şekilde satır satır tutuluyor:\n",
    "\n",
    "```\n",
    "Ahmet Yılmaz,85\n",
    "Ayşe Demir,42\n",
    "Mehmet Kaya,91\n",
    "Zeynep Can,55\n",
    "Ali Vural,30\n",
    "Fatma Şahin,76\n",
    "```\n",
    "\n",
    "**Görevin:**\n",
    "\n",
    "Bu `notlar.txt` dosyasını okuyarak, notu 50 ve üzerinde olan öğrencilerin adlarını `gecti.txt` dosyasına, 50'nin altında olan öğrencilerin adlarını ise `kaldi.txt` dosyasına yazan bir Python programı yazmanı istiyorum.\n",
    "\n",
    "**İpuçları:**\n",
    "\n",
    "* `notlar.txt` dosyasını okumak için açman gerekecek (`r` kipi).\n",
    "* Satırları okurken `readlines()` kullanabilir veya dosya üzerinde döngü kurabilirsin.\n",
    "* Her satırı işlerken adı ve notu ayırmak için string metotlarından (`split()`, `strip()`) yararlanman gerekecek.\n",
    "* Notu sayıya çevirmeyi unutma (`int()`).\n",
    "* `gecti.txt` ve `kaldi.txt` dosyalarını yazmak için açman gerekecek. Burada `w` veya `a` kipini kullanmayı düşünebilirsin. Hangisi daha mantıklı sence?\n",
    "* Dosya işlemlerini `with` bloğu içinde yapmak her zaman iyi bir alışkanlıktır.\n",
    "\n",
    "Bu görevi adım adım nasıl planlar ve Python kodunu nasıl yazardın? Haydi bakalım, klavyen çalışsın! 💻✨"
   ]
  },
  {
   "cell_type": "code",
   "execution_count": 10,
   "id": "4eb35c573e79043b",
   "metadata": {
    "ExecuteTime": {
     "end_time": "2025-05-26T06:43:16.613569200Z",
     "start_time": "2025-05-25T08:44:36.700156Z"
    }
   },
   "outputs": [],
   "source": [
    "#Soru1\n",
    "with open(\"../../data/gunluk.txt\", \"r+\", encoding=\"utf-8\") as file:\n",
    "    file_content = file.read()\n",
    "    file.seek(0)\n",
    "    file.write(\"Sevgili Günlük \\n\")\n",
    "    file.write(file_content)\n",
    "\n",
    "# Kazanım :a kipi ile açılan her dosya, dosya sonuna ekleme yapma için programlanmıştır. f.seek(0) yapsan bile imleci başa almaz!!"
   ]
  },
  {
   "cell_type": "code",
   "execution_count": 12,
   "id": "9cbc4def63975c57",
   "metadata": {
    "ExecuteTime": {
     "end_time": "2025-05-26T06:43:16.631755100Z",
     "start_time": "2025-05-25T08:47:32.048257Z"
    }
   },
   "outputs": [],
   "source": [
    "with open(\"../../data/gunluk.txt\", \"r+\", encoding=\"utf-8\") as file:\n",
    "    file_content = file.readlines()\n",
    "    file_content[1] = \"Hava bugün biraz kapalıydı\\n\"\n",
    "    file.seek(0)\n",
    "    file.writelines(file_content)\n"
   ]
  },
  {
   "cell_type": "code",
   "execution_count": 30,
   "id": "fa1df4e9f51da508",
   "metadata": {
    "ExecuteTime": {
     "end_time": "2025-05-26T06:43:16.631755100Z",
     "start_time": "2025-05-25T09:05:13.174936Z"
    }
   },
   "outputs": [],
   "source": [
    "with open(\"../../data/notlar.txt\", \"r+\", encoding=\"utf-8\") as file, \\\n",
    "     open(\"../../data/gecti.txt\", \"a\", encoding=\"utf-8\") as gecti_file, \\\n",
    "     open(\"../../data/kaldı.txt\", \"a\", encoding=\"utf-8\") as kaldi_file:\n",
    "    file_content = file.readlines()\n",
    "    for student in file_content:\n",
    "        student = student.strip()\n",
    "        name, note = student.split(\",\")\n",
    "        if float(note) >= 50:\n",
    "                gecti_file.write(f\"{name}: {note} ile geçti! \\n\")\n",
    "        else:\n",
    "                kaldi_file.write(f\"{name}: {note} ile kaldı \\n\")"
   ]
  },
  {
   "cell_type": "code",
   "execution_count": null,
   "id": "790b567c806e82f4",
   "metadata": {},
   "outputs": [],
   "source": []
  }
 ],
 "metadata": {
  "kernelspec": {
   "display_name": "Python 3 (ipykernel)",
   "language": "python",
   "name": "python3"
  },
  "language_info": {
   "codemirror_mode": {
    "name": "ipython",
    "version": 3
   },
   "file_extension": ".py",
   "mimetype": "text/x-python",
   "name": "python",
   "nbconvert_exporter": "python",
   "pygments_lexer": "ipython3",
   "version": "3.12.7"
  }
 },
 "nbformat": 4,
 "nbformat_minor": 5
}
