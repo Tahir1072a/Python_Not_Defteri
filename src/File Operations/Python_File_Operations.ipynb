{
 "cells": [
  {
   "cell_type": "markdown",
   "id": "fddf74af246510f0",
   "metadata": {},
   "source": [
    "# File Operations and OS Library\n",
    "\n",
    "OS kütüphanesi ve file operations işlemlerini anlatan örnek kodlar ve notlar içermektedir.\n",
    "\n",
    "## Dosya Modları\n",
    "\n",
    "| Mod | Açıklama | Davranış |\n",
    "|---|---|---|\n",
    "| r | Salt okuma modu. | Dosyayı okuma için açar. Dosya mevcut olmalıdır; aksi takdirde hata verir. |\n",
    "| rb | İkili modda salt okuma. | Dosyayı ikili veri okuma için açar. Dosya mevcut olmalıdır; aksi takdirde hata verir. |\n",
    "| r+ | Okuma ve yazma modu. | Dosyayı hem okuma hem de yazma için açar. Dosya mevcut olmalıdır; aksi takdirde hata verir. |\n",
    "| rb+ | İkili modda okuma ve yazma. | Dosyayı ikili veri okuma ve yazma için açar. Dosya mevcut olmalıdır; aksi takdirde hata verir. |\n",
    "| w | Yazma modu. | Dosyayı yazma için açar. Yeni bir dosya oluşturur veya mevcut dosyayı keser. |\n",
    "| wb | İkili modda yazma. | Dosyayı ikili veri yazma için açar. Yeni bir dosya oluşturur veya mevcut dosyayı keser. |\n",
    "| w+ | Yazma ve okuma modu. | Dosyayı hem yazma hem de okuma için açar. Yeni bir dosya oluşturur veya mevcut dosyayı keser. |\n",
    "| wb+ | İkili modda yazma ve okuma. | Dosyayı ikili veri yazma ve okuma için açar. Yeni bir dosya oluşturur veya mevcut dosyayı keser. |\n",
    "| a | Ekleme modu. | Dosyayı veri ekleme için açar. Dosya yoksa yeni bir dosya oluşturur. |\n",
    "| ab | İkili modda ekleme. | Dosyayı ikili veri ekleme için açar. Dosya yoksa yeni bir dosya oluşturur. |\n",
    "| a+ | Ekleme ve okuma modu. | Dosyayı ekleme ve okuma için açar. Dosya yoksa yeni bir dosya oluşturur. |\n",
    "| ab+ | İkili modda ekleme ve okuma. | Dosyayı ikili veri ekleme ve okuma için açar. Dosya yoksa yeni bir dosya oluşturur. |\n",
    "| x | Özel oluşturma modu. | Yeni bir dosya oluşturur. Dosya zaten varsa hata verir. |\n",
    "| xb | İkili modda özel oluşturma. | Yeni bir ikili dosya oluşturur. Dosya zaten varsa hata verir. |\n",
    "| x+ | Okuma ve yazma modu ile özel oluşturma. | Okuma ve yazma için yeni bir dosya oluşturur. Dosya mevcutsa hata verir. |\n",
    "| xb+ | İkili okuma ve yazma modu ile özel oluşturma. | Okuma ve yazma için yeni bir ikili dosya oluşturur. Dosya mevcutsa hata verir. |"
   ]
  },
  {
   "cell_type": "code",
   "execution_count": 1,
   "id": "985ec24e366741fa",
   "metadata": {
    "ExecuteTime": {
     "end_time": "2025-05-26T06:43:14.805784Z",
     "start_time": "2025-05-26T06:43:14.792237Z"
    }
   },
   "outputs": [
    {
     "name": "stdout",
     "output_type": "stream",
     "text": [
      "abciı\n"
     ]
    }
   ],
   "source": [
    "from os import close\n",
    "\n",
    "try:\n",
    "    file = open(\"../../data/log.txt\") # Çalıştığı dizinde log.txt isimle dosyayı arar varsa okuma modunda açar yoksa hata fırlatır (Default davranış). Dosya referansını return eder.\n",
    "    file.close()\n",
    "except Exception as e:\n",
    "    print(e)\n",
    "\n",
    "file = open(\"../../data/log.txt\", \"w+\", encoding=\"utf-8\") # Write and read modunda dosyayı açar. Ayrıca dosya daha önceden varsa içeriği silinir.\n",
    "file.write(\"abciı\")\n",
    "file.close()\n",
    "\n",
    "file = open(\"../../data/log.txt\", \"r\", encoding=\"utf-8\") # Türkçe karakterleri düzgün okuyabilmesi için encoding değeri utf-8'e ayarlanmalıdır.\n",
    "print(file.read())\n",
    "file.close()"
   ]
  },
  {
   "cell_type": "code",
   "execution_count": 2,
   "id": "1caacb4e8f7a0f92",
   "metadata": {
    "ExecuteTime": {
     "end_time": "2025-05-26T06:43:14.814809Z",
     "start_time": "2025-05-26T06:43:14.810790Z"
    }
   },
   "outputs": [
    {
     "name": "stdout",
     "output_type": "stream",
     "text": [
      "abciı\n"
     ]
    }
   ],
   "source": [
    "# With Komutu => Bu komutu kullanırsak artık close ile sürekli kapatma yapmamıza gerek kalmıyor.\n",
    "with open(\"../../data/log.txt\", \"r\", encoding=\"utf-8\") as file:\n",
    "    print(file.read())"
   ]
  },
  {
   "cell_type": "code",
   "id": "b0949da1538020f1",
   "metadata": {
    "ExecuteTime": {
     "end_time": "2025-06-27T05:48:06.851025Z",
     "start_time": "2025-06-27T05:48:00.163450Z"
    }
   },
   "source": [
    "# Örnek Uygulama\n",
    "file_path = \"../../data/students_notes.txt\"\n",
    "\n",
    "def write_to_file_student_notes(file_path: str, name: str,  notes: []) -> None:\n",
    "    with open(file_path, \"a+\", encoding=\"utf-8\") as student_file:\n",
    "        student_file.write(\"\\n\")\n",
    "        student_file.writelines(f\"{name}: {\" \".join(notes)}\")\n",
    "\n",
    "def menu():\n",
    "    name = input(\"Student name\")\n",
    "    # students_notes = [float(not_str) for not_str in input(\"Enter students notes\").split(\" \")] Güzel tek satırda bir çevirme işlemi\n",
    "    students_notes = input(\"Enter students notes\").split(\" \")\n",
    "    write_to_file_student_notes(file_path, name, students_notes)\n",
    "\n",
    "menu()"
   ],
   "outputs": [],
   "execution_count": 5
  },
  {
   "cell_type": "markdown",
   "id": "e9816f2cd48870a4",
   "metadata": {},
   "source": [
    "### Sorular\n",
    "\n",
    "**Soru 1:**\n",
    "\n",
    "Diyelim ki `gunluk.txt` adında bir dosyan var ve içinde şu satırlar yazıyor:\n",
    "\n",
    "```\n",
    "Bugün hava çok güzeldi.\n",
    "Parkta biraz yürüdüm.\n",
    "```\n",
    "\n",
    "Bu dosyanın **başına**, mevcut içeriği **silmeden** \"Sevgili Günlük,\" satırını eklemek istiyorsun. Notlarında gördüğün dosya açma kiplerini (`r`, `w`, `a`, `r+` vb.) [cite: 2, 3, 4] ve dosya_işlemleri (`read()`, `write()`, `seek()` vb.) [cite: 7, 9, 13] fonksiyonlarını düşünerek, bu işlemi Python'da nasıl gerçekleştirebilirsin? Hangi adımları izlerdin ve neden o adımları seçerdin? 📝\n",
    "\n",
    "**Senaryo:**\n",
    "\n",
    "Elimizde `notlar.txt` adında bir dosya olduğunu düşünelim. Bu dosyanın içinde öğrencilerin adları ve sınavdan aldıkları notlar şu şekilde satır satır tutuluyor:\n",
    "\n",
    "```\n",
    "Ahmet Yılmaz,85\n",
    "Ayşe Demir,42\n",
    "Mehmet Kaya,91\n",
    "Zeynep Can,55\n",
    "Ali Vural,30\n",
    "Fatma Şahin,76\n",
    "```\n",
    "\n",
    "**Görevin:**\n",
    "\n",
    "Bu `notlar.txt` dosyasını okuyarak, notu 50 ve üzerinde olan öğrencilerin adlarını `gecti.txt` dosyasına, 50'nin altında olan öğrencilerin adlarını ise `kaldi.txt` dosyasına yazan bir Python programı yazmanı istiyorum.\n",
    "\n",
    "**İpuçları:**\n",
    "\n",
    "* `notlar.txt` dosyasını okumak için açman gerekecek (`r` kipi).\n",
    "* Satırları okurken `readlines()` kullanabilir veya dosya üzerinde döngü kurabilirsin.\n",
    "* Her satırı işlerken adı ve notu ayırmak için string metotlarından (`split()`, `strip()`) yararlanman gerekecek.\n",
    "* Notu sayıya çevirmeyi unutma (`int()`).\n",
    "* `gecti.txt` ve `kaldi.txt` dosyalarını yazmak için açman gerekecek. Burada `w` veya `a` kipini kullanmayı düşünebilirsin. Hangisi daha mantıklı sence?\n",
    "* Dosya işlemlerini `with` bloğu içinde yapmak her zaman iyi bir alışkanlıktır.\n",
    "\n",
    "Bu görevi adım adım nasıl planlar ve Python kodunu nasıl yazardın? Haydi bakalım, klavyen çalışsın! 💻✨"
   ]
  },
  {
   "cell_type": "code",
   "execution_count": 10,
   "id": "4eb35c573e79043b",
   "metadata": {
    "ExecuteTime": {
     "end_time": "2025-05-26T06:43:16.613569200Z",
     "start_time": "2025-05-25T08:44:36.700156Z"
    }
   },
   "outputs": [],
   "source": [
    "#Soru1\n",
    "with open(\"../../data/gunluk.txt\", \"r+\", encoding=\"utf-8\") as file:\n",
    "    file_content = file.read()\n",
    "    file.seek(0)\n",
    "    file.write(\"Sevgili Günlük \\n\")\n",
    "    file.write(file_content)\n",
    "\n",
    "# Kazanım :a kipi ile açılan her dosya, dosya sonuna ekleme yapma için programlanmıştır. f.seek(0) yapsan bile imleci başa almaz!!"
   ]
  },
  {
   "cell_type": "code",
   "execution_count": 12,
   "id": "9cbc4def63975c57",
   "metadata": {
    "ExecuteTime": {
     "end_time": "2025-05-26T06:43:16.631755100Z",
     "start_time": "2025-05-25T08:47:32.048257Z"
    }
   },
   "outputs": [],
   "source": [
    "with open(\"../../data/gunluk.txt\", \"r+\", encoding=\"utf-8\") as file:\n",
    "    file_content = file.readlines()\n",
    "    file_content[1] = \"Hava bugün biraz kapalıydı\\n\"\n",
    "    file.seek(0)\n",
    "    file.writelines(file_content)\n"
   ]
  },
  {
   "cell_type": "code",
   "execution_count": 30,
   "id": "fa1df4e9f51da508",
   "metadata": {
    "ExecuteTime": {
     "end_time": "2025-05-26T06:43:16.631755100Z",
     "start_time": "2025-05-25T09:05:13.174936Z"
    }
   },
   "outputs": [],
   "source": [
    "with open(\"../../data/notlar.txt\", \"r+\", encoding=\"utf-8\") as file, \\\n",
    "     open(\"../../data/gecti.txt\", \"a\", encoding=\"utf-8\") as gecti_file, \\\n",
    "     open(\"../../data/kaldı.txt\", \"a\", encoding=\"utf-8\") as kaldi_file:\n",
    "    file_content = file.readlines()\n",
    "    for student in file_content:\n",
    "        student = student.strip()\n",
    "        name, note = student.split(\",\")\n",
    "        if float(note) >= 50:\n",
    "                gecti_file.write(f\"{name}: {note} ile geçti! \\n\")\n",
    "        else:\n",
    "                kaldi_file.write(f\"{name}: {note} ile kaldı \\n\")"
   ]
  },
  {
   "cell_type": "code",
   "id": "790b567c806e82f4",
   "metadata": {
    "ExecuteTime": {
     "end_time": "2025-06-27T05:58:00.808794Z",
     "start_time": "2025-06-27T05:58:00.789385Z"
    }
   },
   "source": [
    "import os\n",
    "\n",
    "file_path = r\"C:\\Users\\tahir\\PycharmProjects\\Python_Notes\"\n",
    "\n",
    "for root, dirs, files in os.walk(file_path):\n",
    "    if \".git\" in root or \".idea\" in root:\n",
    "        continue\n",
    "\n",
    "    print(f\"Şu anki dizin: {root}\")\n",
    "    print(f\"Alt Dizinler: {dirs}\")\n",
    "    print(f\"İlgili dizinde bulunan dosyalar: {files}\")"
   ],
   "outputs": [
    {
     "name": "stdout",
     "output_type": "stream",
     "text": [
      "Şu anki dizin: C:\\Users\\tahir\\PycharmProjects\\Python_Notes\n",
      "Alt Dizinler: ['.git', '.idea', 'data', 'models', 'src']\n",
      "İlgili dizinde bulunan dosyalar: ['.gitignore', 'LICENSE', 'README.md', 'requirements.txt']\n",
      "Şu anki dizin: C:\\Users\\tahir\\PycharmProjects\\Python_Notes\\data\n",
      "Alt Dizinler: []\n",
      "İlgili dizinde bulunan dosyalar: ['chinook.db', 'config.ini', 'gecti.txt', 'gunluk.txt', 'kaldı.txt', 'log.txt', 'notlar.txt', 'okul.db', 'onlinefoods.csv', 'persons.csv', 'products.json', 'students_notes.txt']\n",
      "Şu anki dizin: C:\\Users\\tahir\\PycharmProjects\\Python_Notes\\models\n",
      "Alt Dizinler: []\n",
      "İlgili dizinde bulunan dosyalar: []\n",
      "Şu anki dizin: C:\\Users\\tahir\\PycharmProjects\\Python_Notes\\src\n",
      "Alt Dizinler: ['.ipynb_checkpoints', 'Database Operations', 'DateTime', 'File Operations', 'ML', 'Numpy', 'OOP', 'Pandas', 'Scikit_Learn']\n",
      "İlgili dizinde bulunan dosyalar: ['async_example.py', 'multiprocessing_example..py', 'Python_OOP_Uygulama.ipynb', 'Python_Temelleri.ipynb', 'Python_Temel_Modüller.ipynb', 'Python_İleri_Seviye.ipynb']\n",
      "Şu anki dizin: C:\\Users\\tahir\\PycharmProjects\\Python_Notes\\src\\.ipynb_checkpoints\n",
      "Alt Dizinler: []\n",
      "İlgili dizinde bulunan dosyalar: ['Python_İleri_Seviye-checkpoint.ipynb']\n",
      "Şu anki dizin: C:\\Users\\tahir\\PycharmProjects\\Python_Notes\\src\\Database Operations\n",
      "Alt Dizinler: []\n",
      "İlgili dizinde bulunan dosyalar: ['Python_Database.ipynb']\n",
      "Şu anki dizin: C:\\Users\\tahir\\PycharmProjects\\Python_Notes\\src\\DateTime\n",
      "Alt Dizinler: []\n",
      "İlgili dizinde bulunan dosyalar: ['Datetime_Examples.ipynb']\n",
      "Şu anki dizin: C:\\Users\\tahir\\PycharmProjects\\Python_Notes\\src\\File Operations\n",
      "Alt Dizinler: ['.ipynb_checkpoints']\n",
      "İlgili dizinde bulunan dosyalar: ['Python_File_Operations.ipynb']\n",
      "Şu anki dizin: C:\\Users\\tahir\\PycharmProjects\\Python_Notes\\src\\File Operations\\.ipynb_checkpoints\n",
      "Alt Dizinler: []\n",
      "İlgili dizinde bulunan dosyalar: ['Python_File_Operations-checkpoint.ipynb']\n",
      "Şu anki dizin: C:\\Users\\tahir\\PycharmProjects\\Python_Notes\\src\\ML\n",
      "Alt Dizinler: []\n",
      "İlgili dizinde bulunan dosyalar: ['Desicion Trees.ipynb', 'K_NN Algorithm.ipynb']\n",
      "Şu anki dizin: C:\\Users\\tahir\\PycharmProjects\\Python_Notes\\src\\Numpy\n",
      "Alt Dizinler: ['.ipynb_checkpoints']\n",
      "İlgili dizinde bulunan dosyalar: ['numpy.ipynb']\n",
      "Şu anki dizin: C:\\Users\\tahir\\PycharmProjects\\Python_Notes\\src\\Numpy\\.ipynb_checkpoints\n",
      "Alt Dizinler: []\n",
      "İlgili dizinde bulunan dosyalar: ['numpy-checkpoint.ipynb']\n",
      "Şu anki dizin: C:\\Users\\tahir\\PycharmProjects\\Python_Notes\\src\\OOP\n",
      "Alt Dizinler: []\n",
      "İlgili dizinde bulunan dosyalar: ['class.ipynb', 'pydantic.ipynb']\n",
      "Şu anki dizin: C:\\Users\\tahir\\PycharmProjects\\Python_Notes\\src\\Pandas\n",
      "Alt Dizinler: ['.ipynb_checkpoints']\n",
      "İlgili dizinde bulunan dosyalar: ['pandas.ipynb']\n",
      "Şu anki dizin: C:\\Users\\tahir\\PycharmProjects\\Python_Notes\\src\\Pandas\\.ipynb_checkpoints\n",
      "Alt Dizinler: []\n",
      "İlgili dizinde bulunan dosyalar: ['pandas-checkpoint.ipynb']\n",
      "Şu anki dizin: C:\\Users\\tahir\\PycharmProjects\\Python_Notes\\src\\Scikit_Learn\n",
      "Alt Dizinler: []\n",
      "İlgili dizinde bulunan dosyalar: ['Function Examples.ipynb']\n"
     ]
    }
   ],
   "execution_count": 13
  },
  {
   "metadata": {},
   "cell_type": "code",
   "outputs": [],
   "execution_count": null,
   "source": "",
   "id": "b1bb68db6d015566"
  }
 ],
 "metadata": {
  "kernelspec": {
   "display_name": "Python 3 (ipykernel)",
   "language": "python",
   "name": "python3"
  },
  "language_info": {
   "codemirror_mode": {
    "name": "ipython",
    "version": 3
   },
   "file_extension": ".py",
   "mimetype": "text/x-python",
   "name": "python",
   "nbconvert_exporter": "python",
   "pygments_lexer": "ipython3",
   "version": "3.12.7"
  }
 },
 "nbformat": 4,
 "nbformat_minor": 5
}
