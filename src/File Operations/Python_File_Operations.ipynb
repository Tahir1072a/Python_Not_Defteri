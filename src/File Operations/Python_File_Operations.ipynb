{
 "cells": [
  {
   "metadata": {},
   "cell_type": "markdown",
   "source": [
    "# File Operations\n",
    "\n",
    "## Dosya Modları\n",
    "\n",
    "| Mod | Açıklama | Davranış |\n",
    "|---|---|---|\n",
    "| r | Salt okuma modu. | Dosyayı okuma için açar. Dosya mevcut olmalıdır; aksi takdirde hata verir. |\n",
    "| rb | İkili modda salt okuma. | Dosyayı ikili veri okuma için açar. Dosya mevcut olmalıdır; aksi takdirde hata verir. |\n",
    "| r+ | Okuma ve yazma modu. | Dosyayı hem okuma hem de yazma için açar. Dosya mevcut olmalıdır; aksi takdirde hata verir. |\n",
    "| rb+ | İkili modda okuma ve yazma. | Dosyayı ikili veri okuma ve yazma için açar. Dosya mevcut olmalıdır; aksi takdirde hata verir. |\n",
    "| w | Yazma modu. | Dosyayı yazma için açar. Yeni bir dosya oluşturur veya mevcut dosyayı keser. |\n",
    "| wb | İkili modda yazma. | Dosyayı ikili veri yazma için açar. Yeni bir dosya oluşturur veya mevcut dosyayı keser. |\n",
    "| w+ | Yazma ve okuma modu. | Dosyayı hem yazma hem de okuma için açar. Yeni bir dosya oluşturur veya mevcut dosyayı keser. |\n",
    "| wb+ | İkili modda yazma ve okuma. | Dosyayı ikili veri yazma ve okuma için açar. Yeni bir dosya oluşturur veya mevcut dosyayı keser. |\n",
    "| a | Ekleme modu. | Dosyayı veri ekleme için açar. Dosya yoksa yeni bir dosya oluşturur. |\n",
    "| ab | İkili modda ekleme. | Dosyayı ikili veri ekleme için açar. Dosya yoksa yeni bir dosya oluşturur. |\n",
    "| a+ | Ekleme ve okuma modu. | Dosyayı ekleme ve okuma için açar. Dosya yoksa yeni bir dosya oluşturur. |\n",
    "| ab+ | İkili modda ekleme ve okuma. | Dosyayı ikili veri ekleme ve okuma için açar. Dosya yoksa yeni bir dosya oluşturur. |\n",
    "| x | Özel oluşturma modu. | Yeni bir dosya oluşturur. Dosya zaten varsa hata verir. |\n",
    "| xb | İkili modda özel oluşturma. | Yeni bir ikili dosya oluşturur. Dosya zaten varsa hata verir. |\n",
    "| x+ | Okuma ve yazma modu ile özel oluşturma. | Okuma ve yazma için yeni bir dosya oluşturur. Dosya mevcutsa hata verir. |\n",
    "| xb+ | İkili okuma ve yazma modu ile özel oluşturma. | Okuma ve yazma için yeni bir ikili dosya oluşturur. Dosya mevcutsa hata verir. |"
   ],
   "id": "fddf74af246510f0"
  },
  {
   "metadata": {
    "ExecuteTime": {
     "end_time": "2025-03-10T06:43:50.130697Z",
     "start_time": "2025-03-10T06:43:50.123848Z"
    }
   },
   "cell_type": "code",
   "source": [
    "from os import close\n",
    "\n",
    "try:\n",
    "    file = open(\"../../data/log.txt\") # Çalıştığı dizinde log.txt isimle dosyayı arar varsa okuma modunda açar yoksa hata fırlatır (Default davranış). Dosya referansını return eder.\n",
    "    file.close()\n",
    "except Exception as e:\n",
    "    print(e)\n",
    "\n",
    "file = open(\"../../data/log.txt\", \"w+\", encoding=\"utf-8\") # Write and read modunda dosyayı açar. Ayrıca dosya daha önceden varsa içeriği silinir.\n",
    "file.write(\"abciı\")\n",
    "file.close()\n",
    "\n",
    "file = open(\"../../data/log.txt\", \"r\", encoding=\"utf-8\") # Türkçe karakterleri düzgün okuyabilmesi için encoding değeri utf-8'e ayarlanmalıdır.\n",
    "print(file.read())\n",
    "file.close()"
   ],
   "id": "985ec24e366741fa",
   "outputs": [
    {
     "name": "stdout",
     "output_type": "stream",
     "text": [
      "abciı\n"
     ]
    }
   ],
   "execution_count": 15
  },
  {
   "metadata": {
    "ExecuteTime": {
     "end_time": "2025-03-10T06:14:07.744581Z",
     "start_time": "2025-03-10T06:14:07.737388Z"
    }
   },
   "cell_type": "code",
   "source": [
    "# With Komutu => Bu komutu kullanırsak artık close ile sürekli kapatma yapmamıza gerek kalmıyor.\n",
    "with open(\"../../data/log.txt\", \"r\", encoding=\"utf-8\") as file:\n",
    "    print(file.read())"
   ],
   "id": "1caacb4e8f7a0f92",
   "outputs": [
    {
     "name": "stdout",
     "output_type": "stream",
     "text": [
      "abciı\n"
     ]
    }
   ],
   "execution_count": 17
  },
  {
   "metadata": {},
   "cell_type": "code",
   "outputs": [],
   "execution_count": null,
   "source": [
    "# Örnek Uygulama\n",
    "file_path = \"../../data/students_notes.txt\"\n",
    "\n",
    "def write_to_file_student_notes(file_path: str, name: str,  notes: []) -> None:\n",
    "    with open(file_path, \"r+\", encoding=\"utf-8\") as student_file:\n",
    "        student_file.writelines(f\"{name}:{\" \".join(notes)}\")\n",
    "\n",
    "def menu():\n",
    "    name = input(\"Student name\")\n",
    "    # students_notes = [float(not_str) for not_str in input(\"Enter students notes\").split(\" \")] Güzel tek satırda bir çevirme işlemi\n",
    "    students_notes = input(\"Enter students notes\").split(\" \")\n",
    "    write_to_file_student_notes(file_path, name, students_notes)\n",
    "\n",
    "menu()"
   ],
   "id": "b0949da1538020f1"
  },
  {
   "metadata": {},
   "cell_type": "markdown",
   "source": [
    "### Sorular\n",
    "\n",
    "**Soru 1:**\n",
    "\n",
    "Diyelim ki `gunluk.txt` adında bir dosyan var ve içinde şu satırlar yazıyor:\n",
    "\n",
    "```\n",
    "Bugün hava çok güzeldi.\n",
    "Parkta biraz yürüdüm.\n",
    "```\n",
    "\n",
    "Bu dosyanın **başına**, mevcut içeriği **silmeden** \"Sevgili Günlük,\" satırını eklemek istiyorsun. Notlarında gördüğün dosya açma kiplerini (`r`, `w`, `a`, `r+` vb.) [cite: 2, 3, 4] ve dosya_işlemleri (`read()`, `write()`, `seek()` vb.) [cite: 7, 9, 13] fonksiyonlarını düşünerek, bu işlemi Python'da nasıl gerçekleştirebilirsin? Hangi adımları izlerdin ve neden o adımları seçerdin? 📝\n",
    "\n",
    "**Senaryo:**\n",
    "\n",
    "Elimizde `notlar.txt` adında bir dosya olduğunu düşünelim. Bu dosyanın içinde öğrencilerin adları ve sınavdan aldıkları notlar şu şekilde satır satır tutuluyor:\n",
    "\n",
    "```\n",
    "Ahmet Yılmaz,85\n",
    "Ayşe Demir,42\n",
    "Mehmet Kaya,91\n",
    "Zeynep Can,55\n",
    "Ali Vural,30\n",
    "Fatma Şahin,76\n",
    "```\n",
    "\n",
    "**Görevin:**\n",
    "\n",
    "Bu `notlar.txt` dosyasını okuyarak, notu 50 ve üzerinde olan öğrencilerin adlarını `gecti.txt` dosyasına, 50'nin altında olan öğrencilerin adlarını ise `kaldi.txt` dosyasına yazan bir Python programı yazmanı istiyorum.\n",
    "\n",
    "**İpuçları:**\n",
    "\n",
    "* `notlar.txt` dosyasını okumak için açman gerekecek (`r` kipi).\n",
    "* Satırları okurken `readlines()` kullanabilir veya dosya üzerinde döngü kurabilirsin.\n",
    "* Her satırı işlerken adı ve notu ayırmak için string metotlarından (`split()`, `strip()`) yararlanman gerekecek.\n",
    "* Notu sayıya çevirmeyi unutma (`int()`).\n",
    "* `gecti.txt` ve `kaldi.txt` dosyalarını yazmak için açman gerekecek. Burada `w` veya `a` kipini kullanmayı düşünebilirsin. Hangisi daha mantıklı sence?\n",
    "* Dosya işlemlerini `with` bloğu içinde yapmak her zaman iyi bir alışkanlıktır. [cite: 11, 12]\n",
    "\n",
    "Bu görevi adım adım nasıl planlar ve Python kodunu nasıl yazardın? Haydi bakalım, klavyen çalışsın! 💻✨"
   ],
   "id": "e9816f2cd48870a4"
  },
  {
   "metadata": {
    "ExecuteTime": {
     "end_time": "2025-05-25T08:44:36.709685Z",
     "start_time": "2025-05-25T08:44:36.700156Z"
    }
   },
   "cell_type": "code",
   "source": [
    "#Soru1\n",
    "with open(\"../../data/gunluk.txt\", \"r+\", encoding=\"utf-8\") as file:\n",
    "    file_content = file.read()\n",
    "    file.seek(0)\n",
    "    file.write(\"Sevgili Günlük \\n\")\n",
    "    file.write(file_content)\n",
    "\n",
    "# Kazanım :a kipi ile açılan her dosya, dosya sonuna ekleme yapma için programlanmıştır. f.seek(0) yapsan bile imleci başa almaz!!"
   ],
   "id": "4eb35c573e79043b",
   "outputs": [],
   "execution_count": 10
  },
  {
   "metadata": {
    "ExecuteTime": {
     "end_time": "2025-05-25T08:47:32.054099Z",
     "start_time": "2025-05-25T08:47:32.048257Z"
    }
   },
   "cell_type": "code",
   "source": [
    "with open(\"../../data/gunluk.txt\", \"r+\", encoding=\"utf-8\") as file:\n",
    "    file_content = file.readlines()\n",
    "    file_content[1] = \"Hava bugün biraz kapalıydı\\n\"\n",
    "    file.seek(0)\n",
    "    file.writelines(file_content)\n"
   ],
   "id": "9cbc4def63975c57",
   "outputs": [],
   "execution_count": 12
  },
  {
   "metadata": {
    "ExecuteTime": {
     "end_time": "2025-05-25T09:05:13.183833Z",
     "start_time": "2025-05-25T09:05:13.174936Z"
    }
   },
   "cell_type": "code",
   "source": [
    "with open(\"../../data/notlar.txt\", \"r+\", encoding=\"utf-8\") as file, \\\n",
    "     open(\"../../data/gecti.txt\", \"a\", encoding=\"utf-8\") as gecti_file, \\\n",
    "     open(\"../../data/kaldı.txt\", \"a\", encoding=\"utf-8\") as kaldi_file:\n",
    "    file_content = file.readlines()\n",
    "    for student in file_content:\n",
    "        student = student.strip()\n",
    "        name, note = student.split(\",\")\n",
    "        if float(note) >= 50:\n",
    "                gecti_file.write(f\"{name}: {note} ile geçti! \\n\")\n",
    "        else:\n",
    "                kaldi_file.write(f\"{name}: {note} ile kaldı \\n\")"
   ],
   "id": "fa1df4e9f51da508",
   "outputs": [],
   "execution_count": 30
  },
  {
   "metadata": {},
   "cell_type": "code",
   "outputs": [],
   "execution_count": null,
   "source": "",
   "id": "790b567c806e82f4"
  }
 ],
 "metadata": {
  "kernelspec": {
   "display_name": "Python 3",
   "language": "python",
   "name": "python3"
  },
  "language_info": {
   "codemirror_mode": {
    "name": "ipython",
    "version": 2
   },
   "file_extension": ".py",
   "mimetype": "text/x-python",
   "name": "python",
   "nbconvert_exporter": "python",
   "pygments_lexer": "ipython2",
   "version": "2.7.6"
  }
 },
 "nbformat": 4,
 "nbformat_minor": 5
}
