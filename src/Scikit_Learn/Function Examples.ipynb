{
 "cells": [
  {
   "metadata": {},
   "cell_type": "markdown",
   "source": [
    "### Train_Test_Split Fonksiyonu\n",
    "\n",
    "Bu fonksiyon tek seferde veri setini, verdiğimiz parametrelere göre test ve train olarak ayırmamızı sağlar."
   ],
   "id": "f5f09a1a7ad14483"
  },
  {
   "cell_type": "code",
   "id": "initial_id",
   "metadata": {
    "collapsed": true,
    "ExecuteTime": {
     "end_time": "2025-06-25T06:02:19.381015Z",
     "start_time": "2025-06-25T06:02:19.358748Z"
    }
   },
   "source": [
    "import numpy as np\n",
    "from sklearn.model_selection import train_test_split\n",
    "\n",
    "X = np.arange(10).reshape((5, 2))\n",
    "y = range(5)\n",
    "\n",
    "print(f\"X: {X}\")\n",
    "print(f\"y: {list(y)}\")"
   ],
   "outputs": [
    {
     "name": "stdout",
     "output_type": "stream",
     "text": [
      "X: [[0 1]\n",
      " [2 3]\n",
      " [4 5]\n",
      " [6 7]\n",
      " [8 9]]\n",
      "y: [0, 1, 2, 3, 4]\n"
     ]
    }
   ],
   "execution_count": 11
  },
  {
   "metadata": {},
   "cell_type": "markdown",
   "source": "",
   "id": "d8ae3204ac86b84b"
  },
  {
   "metadata": {
    "ExecuteTime": {
     "end_time": "2025-06-25T06:04:40.426899Z",
     "start_time": "2025-06-25T06:04:40.415291Z"
    }
   },
   "cell_type": "code",
   "source": [
    "# random_state = tekrarlanabilir çıktı üretmek için kullanılır. Aynı tam sayı değeri her zaman aynı karıştırmayı (shuffling) kontrol eder.\n",
    "X_train, X_test, y_train, y_test = train_test_split(X, y, test_size=0.33, random_state=42)\n",
    "\n",
    "\n",
    "print(\"\\nEğitim (train) setleri:\")\n",
    "print(\"X_train (özellikler):\")\n",
    "print(X_train)\n",
    "print(\"y_train (hedefler):\")\n",
    "print(list(y_train))\n",
    "\n",
    "print(\"\\nTest (test) setleri:\")\n",
    "print(\"X_test (özellikler):\")\n",
    "print(X_test)\n",
    "print(\"y_test (hedefler):\")\n",
    "print(list(y_test))"
   ],
   "id": "ac1c4021a64eaf61",
   "outputs": [
    {
     "name": "stdout",
     "output_type": "stream",
     "text": [
      "\n",
      "Eğitim (train) setleri:\n",
      "X_train (özellikler):\n",
      "[[4 5]\n",
      " [0 1]\n",
      " [6 7]]\n",
      "y_train (hedefler):\n",
      "[2, 0, 3]\n",
      "\n",
      "Test (test) setleri:\n",
      "X_test (özellikler):\n",
      "[[2 3]\n",
      " [8 9]]\n",
      "y_test (hedefler):\n",
      "[1, 4]\n"
     ]
    }
   ],
   "execution_count": 13
  },
  {
   "metadata": {},
   "cell_type": "markdown",
   "source": [
    "### Veri Seti Ölçeklendirmesi - Normalization\n",
    "\n",
    "Veri setindeki sayısal feature değerlerini makine öğrenmesi algoritmaları için normalize etmemiz gerekir. Çünkü makine öğrenmesi algoritmaları ortalması 0 olan ve varyansı 1 olan dağılımlarda daha iyi performans göstermektedir. Sklearn kütüphanesinde bulunan StandartScaler fonskiyonu ile her bir veri noktasının z_score'u hesaplanarak bu işlem yapılabilir.\n",
    "\n",
    "z_score = (x - u) / s"
   ],
   "id": "2ab7bb802b9b4350"
  },
  {
   "metadata": {
    "ExecuteTime": {
     "end_time": "2025-06-25T06:47:00.080519Z",
     "start_time": "2025-06-25T06:47:00.055869Z"
    }
   },
   "cell_type": "code",
   "source": [
    "# Standart Scaler\n",
    "from sklearn.preprocessing import StandardScaler\n",
    "\n",
    "scaler = StandardScaler()\n",
    "data = [[0, 0], [0, 0], [1, 1], [1, 1]]\n",
    "scaler.fit(data) # İlgili veri seti için mean ve standart sapma değerleri hesaplanır.\n",
    "normalize_data = scaler.transform(data) # Normalizasyon işlemini gerçekleştirir.\n",
    "\n",
    "# Not: fit_transform ile eğitim veri seti için bu işlemi tek adımda gerçekleştirebiliriz.\n",
    "\n",
    "normalize_data"
   ],
   "id": "7ebe5b2e6385b8aa",
   "outputs": [
    {
     "data": {
      "text/plain": [
       "array([[-1., -1.],\n",
       "       [-1., -1.],\n",
       "       [ 1.,  1.],\n",
       "       [ 1.,  1.]])"
      ]
     },
     "execution_count": 14,
     "metadata": {},
     "output_type": "execute_result"
    }
   ],
   "execution_count": 14
  },
  {
   "metadata": {},
   "cell_type": "code",
   "outputs": [],
   "execution_count": null,
   "source": "",
   "id": "c84e20acd7a1727d"
  }
 ],
 "metadata": {
  "kernelspec": {
   "display_name": "Python 3",
   "language": "python",
   "name": "python3"
  },
  "language_info": {
   "codemirror_mode": {
    "name": "ipython",
    "version": 2
   },
   "file_extension": ".py",
   "mimetype": "text/x-python",
   "name": "python",
   "nbconvert_exporter": "python",
   "pygments_lexer": "ipython2",
   "version": "2.7.6"
  }
 },
 "nbformat": 4,
 "nbformat_minor": 5
}
