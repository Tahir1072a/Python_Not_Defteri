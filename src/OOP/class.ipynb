{
 "cells": [
  {
   "metadata": {},
   "cell_type": "markdown",
   "source": [
    "### Class Nedir?\n",
    "\n",
    "Bir nesne oluşturabilmek için, öncelikle onu modellememiz gerekir. Elimizde bir model olduktan sonra ondan nesne üretebiliriz. OOP'de nesneleri modelleyebilmek için ise classları kullanırız.\n",
    "\n",
    "### Class'lar Nerede Oluşturulur?\n",
    "Classlar, namespace altında oluşturulur. Ayrıca, class içinde class kavramı vardır. Buda nested class'ları işaret eder.\n",
    "\n",
    "Not : Bir class, bir türü temsil eder. Referans tiplidir ve nesnenin modelidir. Nesne oluşturulduktan sonra onu referans edebilmek için ilgili türe ait bir değişken oluşturmamız gerekir."
   ],
   "id": "3e70bd77f5931253"
  },
  {
   "cell_type": "code",
   "id": "initial_id",
   "metadata": {
    "collapsed": true,
    "ExecuteTime": {
     "end_time": "2025-05-29T06:21:41.330672Z",
     "start_time": "2025-05-29T06:21:41.324711Z"
    }
   },
   "source": [
    "from copy import deepcopy\n",
    "\n",
    "\n",
    "class ExampleModel:\n",
    "\n",
    "    a = 0 # Bu static bir class field'dır. Class ismi üzerinden erişebiliriz. Varsayılan olarak bir değer girmemiz gerekiyor.\n",
    "\n",
    "    def __init__(self):\n",
    "        self.b = 10 # Bu ise nesneye ait bir field'dır\n",
    "        self.__gizli = 120\n",
    "\n",
    "    def X(self):\n",
    "        print(f\"X metodu çağrıldı\") # Nesneye ait bir field'dır."
   ],
   "outputs": [],
   "execution_count": 2
  },
  {
   "metadata": {
    "ExecuteTime": {
     "end_time": "2025-05-29T06:25:22.934108Z",
     "start_time": "2025-05-29T06:25:22.920451Z"
    }
   },
   "cell_type": "code",
   "source": [
    "object = ExampleModel()\n",
    "\n",
    "object.X()\n",
    "print(f\"{object.b}\")\n",
    "print(f\"{object.a}\")\n",
    "print(f\"{ExampleModel.a}\")\n",
    "\n",
    "ExampleModel.a = 100\n",
    "print(f\"{object.a}\") # Nesne içinde de değişti!\n",
    "print(f\"{ExampleModel.a}\")\n",
    "\n",
    "# Ancak garip bir davranışı vardır.\n",
    "\n",
    "object_2 = ExampleModel()\n",
    "object_2.a = 20 # Kendi nesnesi üzerinden yapılan class metodundaki değişiklik ilgili nesneye özeldir.\n",
    "print(f\"Object 2: {object_2.a}\")\n",
    "print(f\"Object 1: {object.a}\")"
   ],
   "id": "69981103f7323324",
   "outputs": [
    {
     "name": "stdout",
     "output_type": "stream",
     "text": [
      "X metodu çağrıldı\n",
      "10\n",
      "100\n",
      "100\n",
      "100\n",
      "100\n",
      "Object 2: 20\n",
      "Object 1: 100\n"
     ]
    }
   ],
   "execution_count": 15
  },
  {
   "metadata": {},
   "cell_type": "markdown",
   "source": [
    "### Field Nedir?\n",
    "Nesne içerisinde değer tutmamızı sağlayan alanlardır. Varsayılan olarak python dilinde her field publictir. Ancak bunları \"__\" ile başlayarak isimlendirirsek doğrudan erişimi engelleriz. Ancak yine de tam olarak private olmaz. Python'da field oluştururken varsayılan değer ataması yapmamız gerekiyor."
   ],
   "id": "224fb294f70c3d86"
  },
  {
   "metadata": {
    "ExecuteTime": {
     "end_time": "2025-05-29T10:45:08.939836Z",
     "start_time": "2025-05-29T10:45:08.936222Z"
    }
   },
   "cell_type": "code",
   "source": [
    "object_3 = ExampleModel()\n",
    "# print(f\"Object_3: {object_3.__gizli}\") # Görüldüğü üzere dışarıdan doğrudan ismi üzerinden erişilemiyor. (private)\n",
    "print(f\"Object 3 b: {object_3.b}\")"
   ],
   "id": "8708529b3f43b880",
   "outputs": [
    {
     "name": "stdout",
     "output_type": "stream",
     "text": [
      "Object 3 b: 10\n"
     ]
    }
   ],
   "execution_count": 27
  },
  {
   "metadata": {},
   "cell_type": "markdown",
   "source": [
    "Property Nedir?\n",
    "\n",
    "Field'lara doğrudan erişimi engeller. Property kısaca ilgili field için erişim sağlayan metotlar bütünüdür. C# dilinde özel yapılandırılmış, get ve set metotları vardır. Python'da ise bunları ayrı olarak yazarız. Burada yapılan işleme **encapsulation** denir!\n",
    "\n",
    "- Get ve Set decarator'u tam olarak tanımlanmış ise buna **full property** denir.\n",
    "- Set metodu olmayan property'ler readonly olur.\n",
    "- Auto propert initializer yapmak için de python'da **\\_\\_init__** fonksiyonu içerisinde ilgili propert'ye değer atayabilirsin.\n",
    "\n",
    "\n",
    "Python'da isimlendirme olarak genellikle snake_case kullanılır.\n",
    "\n",
    "### Indexer\n",
    "Python'da bir nesnenin [] üzerinden erişebilmesini sağlamak için bazı özel fonksiyonlar kullanılmaktadır. Aslında indeksleme class ile bağdaşmış bir sözlüğü, diziyi field olarak arka planda saklamak ve bunu indeksleme üzerinden yönetmektir.\n",
    "- **\\_\\_getitem\\_\\_**(self, key) metodu nesne[key] şeklinde veri okumak için tanımlanır.\n",
    "- **\\_\\_setitem__** metodu ise nesne[key] = value şeklinde veri atamak için tanımlanır.\n",
    "- **\\_\\_delitem\\_\\_** metodu ise bir nesneden del nesne[key] şeklinde veri silmek için kullanılır.\n",
    "\n",
    "### This - Self Keywordü\n",
    "C# dilinde this keywordü kullanılır. Bu ilgili sınıfın runtime'da çalışan o anki nesnesini temsil eder. Ancak c# derlenen bir dil olduğu için this keywordü açıkça kullanılma zorunluluğu yoktur. Python satır satır yorumlandığı için self keywordü açıkça kullanılmalı ve metotlara parametre olarak geçilmelidir. This keywordü c#'da isim benzerliklerini önlemek için kullanılırken, python dilinde ise nesnenin kendi field ve metotlarına erişmek için kullanılır."
   ],
   "id": "a679355c8aab8185"
  },
  {
   "metadata": {
    "ExecuteTime": {
     "end_time": "2025-06-01T12:25:35.275223Z",
     "start_time": "2025-06-01T12:25:35.267878Z"
    }
   },
   "cell_type": "code",
   "source": [
    "class ExampleModel2:\n",
    "    \"\"\"\n",
    "    Bu bir örnek sınıftır.\n",
    "    \"\"\"\n",
    "\n",
    "    def __init__(self, a = 1 , b = 10):\n",
    "        \"\"\"\n",
    "        Constructor metottur.\n",
    "        \"\"\"\n",
    "        self.a =  a\n",
    "        self.__b = b # Sadece burada initialize edilirken, değer ataması yaparız. Readonly.\n",
    "\n",
    "        self.__settings = {}\n",
    "\n",
    "    def __getitem__(self, key):\n",
    "        try:\n",
    "            return self.__settings[key]\n",
    "        except KeyError:\n",
    "            print(f\"Hata: {key} adında bir ayar bulunamadı\")\n",
    "            return None\n",
    "\n",
    "    def __setitem__(self, key, value):\n",
    "        self.__settings[key] = value\n",
    "\n",
    "    def __delitem__(self, key):\n",
    "        try:\n",
    "            del self.__settings[key]\n",
    "        except KeyError:\n",
    "            print(f\"{key} adında bir ayar bulunamadi\")\n",
    "\n",
    "    @property\n",
    "    def a(self):\n",
    "        \"\"\"\n",
    "        a getter metodu.\n",
    "        :return: a field'ının orjinal değerini return eder.\n",
    "        \"\"\"\n",
    "        return self.__a\n",
    "\n",
    "    @a.setter\n",
    "    def a(self, value):\n",
    "        if value > 0:\n",
    "            self.__a = value\n",
    "        else:\n",
    "            raise ValueError(\"Geçesiz bir değer\")\n",
    "\n",
    "    @property\n",
    "    def b(self):\n",
    "        return self.__b\n",
    "\n",
    "    class ExampleModel3:\n",
    "        def __init__(self):\n",
    "            self.age = 12\n",
    "\n",
    "\n",
    "example = ExampleModel2()\n",
    "example.a = 100 # setter tetiklendi\n",
    "print(f\"{example.a}\") # getter tetiklendi.\n",
    "#example.a = -10 # Burada hata fırlatılır.\n",
    "print(f\"{example.a}\")\n",
    "\n",
    "example[\"topic\"] = 120\n",
    "example3 = example.ExampleModel3() # Python'da iç içe sınıflar bu şekilde new'lenebilir.\n",
    "print(f\"Example Model: {example3.age}\")\n",
    "print(f\"{example[\"topic\"]}\")\n",
    "ExampleModel2().a #Referans ataması yapılmadan oluşturulan nesne..."
   ],
   "id": "ecab3126ae9ecdf9",
   "outputs": [
    {
     "name": "stdout",
     "output_type": "stream",
     "text": [
      "100\n",
      "100\n",
      "Example Model: 12\n",
      "120\n",
      "Example Model 2: 120\n"
     ]
    }
   ],
   "execution_count": 2
  },
  {
   "metadata": {},
   "cell_type": "markdown",
   "source": [
    "### Object Initializer\n",
    "Nesne oluşturulurken ilgili sınıfın propertylerine değer atama yöntemidir. Bunu yapmayı kolaylaştıran yapıya object initializer denir. Ancak c# olduğu gibi nesne oluşturulurken süslü parantezler açıp propertylere doğrudan değer atanamaz. Bunun için ilgili sınıfın **\\_\\_init__** metodu tanımlanması gerekmektedir. Bu işi sürekli bir şekilde manuel olarak yapmak yerine dataclasses modülü kullanarak **@dataclass** dekaratör yardımı ile otomatik olarak, constructor (init) metodu oluşturulabilir. Ayrıca \\_\\_repr__ ( nesnenin string temsili) ve \\_\\_eq__ gibi özel fonksiyonlarıda otomatik olarak oluşturur."
   ],
   "id": "12a34921b024fb8b"
  },
  {
   "metadata": {
    "ExecuteTime": {
     "end_time": "2025-06-01T12:28:11.344253Z",
     "start_time": "2025-06-01T12:28:11.337333Z"
    }
   },
   "cell_type": "code",
   "source": [
    "# Object Initializer, Manuel Yöntem\n",
    "example2 = ExampleModel2(a=120, b=10)\n",
    "print(f\"Example Model 2: {example2.a}\")\n",
    "\n",
    "# Data Classes\n",
    "from dataclasses import dataclass\n",
    "\n",
    "@dataclass # Bu dekoratör __init__, __repr__ gibi metotları otomatik oluşturur\n",
    "class Student:\n",
    "    name: str\n",
    "    number: str\n",
    "    age: int\n",
    "\n",
    "student_1 = Student(\"John\", \"212\", 20)\n",
    "print(student_1)\n",
    "print(f\"Student 1 name: {student_1.name}\")\n",
    "student_1.name = \"Tahiri\"\n",
    "print(f\"Student 1 name: {student_1.name}\")"
   ],
   "id": "c593440081e55498",
   "outputs": [
    {
     "name": "stdout",
     "output_type": "stream",
     "text": [
      "Example Model 2: 120\n",
      "Student(name='John', number='212', age=20)\n",
      "Student 1 name: John\n",
      "Student 1 name: Tahiri\n"
     ]
    }
   ],
   "execution_count": 3
  },
  {
   "metadata": {},
   "cell_type": "markdown",
   "source": [
    "### Deep Copy & Shallow Copy\n",
    "Deep copy ve shallow copy kavramlarını biliyoruz. Deep Copy ilgili nesnenin değerinin kopyalanması anlamına gelir. Yani Bellekte değerler çoğalır. Shallow Copy ise sadece referansları çoğaltır. Aşağıda biraz örnek yapalım.\n",
    "\n",
    "Burada dikkat edilmesi gereken kritik nokta, bir nesne içinde referans tipli bir değişken veyahut başka bir nesne tutuluyorsa, deep copy yapabilmek için ilgili nesne içindeki tüm referans tipli değişkenlerin değerleri çoğaltılması gerekir!!"
   ],
   "id": "fe79fae06c52b5bf"
  },
  {
   "metadata": {
    "ExecuteTime": {
     "end_time": "2025-06-02T19:19:36.835303Z",
     "start_time": "2025-06-02T19:19:36.827537Z"
    }
   },
   "cell_type": "code",
   "source": [
    "from copy import deepcopy, copy\n",
    "from dataclasses import dataclass\n",
    "\n",
    "list_a = [20, 10, [30, 40]]\n",
    "list_b = list_a  # Shallow Copy\n",
    "\n",
    "list_a.append(100)\n",
    "list_b[0] = 30\n",
    "\n",
    "print(f\"List a: {list_a}\")\n",
    "print(f\"List b: {list_b}\")\n",
    "\n",
    "@dataclass\n",
    "class Book:\n",
    "    name: str\n",
    "    author: str\n",
    "    page_number : int\n",
    "    member_list : list\n",
    "\n",
    "book_1 = Book(\"Kız Kardeşler\", \"John\", 20, [\"a\", \"b\"])\n",
    "book_2 = book_1 # Shallow Copy - Doğrudan referans üzerinden yapıyor...\n",
    "\n",
    "book_2.name = \"Hasan\"\n",
    "book_2.member_list.append(\"c\")\n",
    "\n",
    "print(f\"Book 1: {book_1.name}\")\n",
    "print(f\"Book 2: {book_2.name}\")\n",
    "\n",
    "book_3 = copy(book_1) # Shallow Copy - this.MemberwiseCopy ile aynı şekilde çalışır...\n",
    "book_4 = deepcopy(book_1) # Deep copy\n",
    "\n",
    "book_3.name = \"Elmacık\"\n",
    "book_3.member_list.append(\"d\")\n",
    "book_4.name = \"Kehribar\"\n",
    "book_4.member_list.append(\"e\")\n",
    "\n",
    "print(f\"Book 1 name: {book_1.name}\")\n",
    "print(f\"Book 2 name: {book_2.name}\")\n",
    "print(f\"Book 3 name: {book_3.name}\")\n",
    "print(f\"Book 4 name: {book_4.name}\")\n",
    "\n",
    "print(f\"Book 1 list: {book_1.member_list}\")\n",
    "print(f\"Book 2 list: {book_2.member_list}\")\n",
    "print(f\"Book 3 list: {book_3.member_list}\")\n",
    "print(f\"Book 4 list: {book_4.member_list}\") # Görüldüğü üzere tam olarak deep copy işlemi book_4 ile yapılmış olur."
   ],
   "id": "47af9c7006bddad4",
   "outputs": [
    {
     "name": "stdout",
     "output_type": "stream",
     "text": [
      "List a: [30, 10, [30, 40], 100]\n",
      "List b: [30, 10, [30, 40], 100]\n",
      "Book 1: Hasan\n",
      "Book 2: Hasan\n",
      "Book 1 name: Hasan\n",
      "Book 2 name: Hasan\n",
      "Book 3 name: Elmacık\n",
      "Book 4 name: Kehribar\n",
      "Book 1 list: ['a', 'b', 'c', 'd']\n",
      "Book 2 list: ['a', 'b', 'c', 'd']\n",
      "Book 3 list: ['a', 'b', 'c', 'd']\n",
      "Book 4 list: ['a', 'b', 'c', 'e']\n"
     ]
    }
   ],
   "execution_count": 8
  },
  {
   "metadata": {},
   "cell_type": "markdown",
   "source": "### Immutable Kavramı - Record Yapılanması",
   "id": "1ffee6f8a393cf7c"
  },
  {
   "metadata": {},
   "cell_type": "code",
   "outputs": [],
   "execution_count": null,
   "source": "",
   "id": "6c26643001d26bbf"
  }
 ],
 "metadata": {
  "kernelspec": {
   "display_name": "Python 3",
   "language": "python",
   "name": "python3"
  },
  "language_info": {
   "codemirror_mode": {
    "name": "ipython",
    "version": 2
   },
   "file_extension": ".py",
   "mimetype": "text/x-python",
   "name": "python",
   "nbconvert_exporter": "python",
   "pygments_lexer": "ipython2",
   "version": "2.7.6"
  }
 },
 "nbformat": 4,
 "nbformat_minor": 5
}
