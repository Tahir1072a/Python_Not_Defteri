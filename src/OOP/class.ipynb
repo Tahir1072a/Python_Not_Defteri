{
 "cells": [
  {
   "metadata": {},
   "cell_type": "markdown",
   "source": [
    "### Class Nedir?\n",
    "\n",
    "Bir nesne oluşturabilmek için, öncelikle onu modellememiz gerekir. Elimizde bir model olduktan sonra ondan nesne üretebiliriz. OOP'de nesneleri modelleyebilmek için ise classları kullanırız.\n",
    "\n",
    "### Class'lar Nerede Oluşturulur?\n",
    "Classlar, namespace altında oluşturulur. Ayrıca, class içinde class kavramı vardır. Buda nested class'ları işaret eder.\n",
    "\n",
    "Not : Bir class, bir türü temsil eder. Referans tiplidir ve nesnenin modelidir. Nesne oluşturulduktan sonra onu referans edebilmek için ilgili türe ait bir değişken oluşturmamız gerekir."
   ],
   "id": "3e70bd77f5931253"
  },
  {
   "cell_type": "code",
   "id": "initial_id",
   "metadata": {
    "collapsed": true,
    "ExecuteTime": {
     "end_time": "2025-05-29T06:21:41.330672Z",
     "start_time": "2025-05-29T06:21:41.324711Z"
    }
   },
   "source": [
    "from copy import deepcopy\n",
    "\n",
    "\n",
    "class ExampleModel:\n",
    "\n",
    "    a = 0 # Bu static bir class field'dır. Class ismi üzerinden erişebiliriz. Varsayılan olarak bir değer girmemiz gerekiyor.\n",
    "\n",
    "    def __init__(self):\n",
    "        self.b = 10 # Bu ise nesneye ait bir field'dır\n",
    "        self.__gizli = 120\n",
    "\n",
    "    def X(self):\n",
    "        print(f\"X metodu çağrıldı\") # Nesneye ait bir field'dır."
   ],
   "outputs": [],
   "execution_count": 2
  },
  {
   "metadata": {
    "ExecuteTime": {
     "end_time": "2025-05-29T06:25:22.934108Z",
     "start_time": "2025-05-29T06:25:22.920451Z"
    }
   },
   "cell_type": "code",
   "source": [
    "object = ExampleModel()\n",
    "\n",
    "object.X()\n",
    "print(f\"{object.b}\")\n",
    "print(f\"{object.a}\")\n",
    "print(f\"{ExampleModel.a}\")\n",
    "\n",
    "ExampleModel.a = 100\n",
    "print(f\"{object.a}\") # Nesne içinde de değişti!\n",
    "print(f\"{ExampleModel.a}\")\n",
    "\n",
    "# Ancak garip bir davranışı vardır.\n",
    "\n",
    "object_2 = ExampleModel()\n",
    "object_2.a = 20 # Kendi nesnesi üzerinden yapılan class metodundaki değişiklik ilgili nesneye özeldir.\n",
    "print(f\"Object 2: {object_2.a}\")\n",
    "print(f\"Object 1: {object.a}\")"
   ],
   "id": "69981103f7323324",
   "outputs": [
    {
     "name": "stdout",
     "output_type": "stream",
     "text": [
      "X metodu çağrıldı\n",
      "10\n",
      "100\n",
      "100\n",
      "100\n",
      "100\n",
      "Object 2: 20\n",
      "Object 1: 100\n"
     ]
    }
   ],
   "execution_count": 15
  },
  {
   "metadata": {},
   "cell_type": "markdown",
   "source": [
    "### Field Nedir?\n",
    "Nesne içerisinde değer tutmamızı sağlayan alanlardır. Varsayılan olarak python dilinde her field publictir. Ancak bunları \"__\" ile başlayarak isimlendirirsek doğrudan erişimi engelleriz. Ancak yine de tam olarak private olmaz. Python'da field oluştururken varsayılan değer ataması yapmamız gerekiyor."
   ],
   "id": "224fb294f70c3d86"
  },
  {
   "metadata": {
    "ExecuteTime": {
     "end_time": "2025-05-29T10:45:08.939836Z",
     "start_time": "2025-05-29T10:45:08.936222Z"
    }
   },
   "cell_type": "code",
   "source": [
    "object_3 = ExampleModel()\n",
    "# print(f\"Object_3: {object_3.__gizli}\") # Görüldüğü üzere dışarıdan doğrudan ismi üzerinden erişilemiyor. (private)\n",
    "print(f\"Object 3 b: {object_3.b}\")"
   ],
   "id": "8708529b3f43b880",
   "outputs": [
    {
     "name": "stdout",
     "output_type": "stream",
     "text": [
      "Object 3 b: 10\n"
     ]
    }
   ],
   "execution_count": 27
  },
  {
   "metadata": {},
   "cell_type": "markdown",
   "source": [
    "Property Nedir?\n",
    "\n",
    "Field'lara doğrudan erişimi engeller. Property kısaca ilgili field için erişim sağlayan metotlar bütünüdür. C# dilinde özel yapılandırılmış, get ve set metotları vardır. Python'da ise bunları ayrı olarak yazarız. Burada yapılan işleme **encapsulation** denir!\n",
    "\n",
    "- Get ve Set decarator'u tam olarak tanımlanmış ise buna **full property** denir.\n",
    "- Set metodu olmayan property'ler readonly olur.\n",
    "- Auto propert initializer yapmak için de python'da **\\_\\_init__** fonksiyonu içerisinde ilgili propert'ye değer atayabilirsin.\n",
    "\n",
    "\n",
    "Python'da isimlendirme olarak genellikle snake_case kullanılır.\n",
    "\n",
    "### Indexer\n",
    "Python'da bir nesnenin [] üzerinden erişebilmesini sağlamak için bazı özel fonksiyonlar kullanılmaktadır. Aslında indeksleme class ile bağdaşmış bir sözlüğü, diziyi field olarak arka planda saklamak ve bunu indeksleme üzerinden yönetmektir.\n",
    "- **\\_\\_getitem\\_\\_**(self, key) metodu nesne[key] şeklinde veri okumak için tanımlanır.\n",
    "- **\\_\\_setitem__** metodu ise nesne[key] = value şeklinde veri atamak için tanımlanır.\n",
    "- **\\_\\_delitem\\_\\_** metodu ise bir nesneden del nesne[key] şeklinde veri silmek için kullanılır.\n",
    "\n",
    "### This - Self Keywordü\n",
    "C# dilinde this keywordü kullanılır. Bu ilgili sınıfın runtime'da çalışan o anki nesnesini temsil eder. Ancak c# derlenen bir dil olduğu için this keywordü açıkça kullanılma zorunluluğu yoktur. Python satır satır yorumlandığı için self keywordü açıkça kullanılmalı ve metotlara parametre olarak geçilmelidir. This keywordü c#'da isim benzerliklerini önlemek için kullanılırken, python dilinde ise nesnenin kendi field ve metotlarına erişmek için kullanılır."
   ],
   "id": "a679355c8aab8185"
  },
  {
   "metadata": {
    "ExecuteTime": {
     "end_time": "2025-06-01T12:25:35.275223Z",
     "start_time": "2025-06-01T12:25:35.267878Z"
    }
   },
   "cell_type": "code",
   "source": [
    "class ExampleModel2:\n",
    "    \"\"\"\n",
    "    Bu bir örnek sınıftır.\n",
    "    \"\"\"\n",
    "\n",
    "    def __init__(self, a = 1 , b = 10):\n",
    "        \"\"\"\n",
    "        Constructor metottur.\n",
    "        \"\"\"\n",
    "        self.a =  a\n",
    "        self.__b = b # Sadece burada initialize edilirken, değer ataması yaparız. Readonly.\n",
    "\n",
    "        self.__settings = {}\n",
    "\n",
    "    def __getitem__(self, key):\n",
    "        try:\n",
    "            return self.__settings[key]\n",
    "        except KeyError:\n",
    "            print(f\"Hata: {key} adında bir ayar bulunamadı\")\n",
    "            return None\n",
    "\n",
    "    def __setitem__(self, key, value):\n",
    "        self.__settings[key] = value\n",
    "\n",
    "    def __delitem__(self, key):\n",
    "        try:\n",
    "            del self.__settings[key]\n",
    "        except KeyError:\n",
    "            print(f\"{key} adında bir ayar bulunamadi\")\n",
    "\n",
    "    @property\n",
    "    def a(self):\n",
    "        \"\"\"\n",
    "        a getter metodu.\n",
    "        :return: a field'ının orjinal değerini return eder.\n",
    "        \"\"\"\n",
    "        return self.__a\n",
    "\n",
    "    @a.setter\n",
    "    def a(self, value):\n",
    "        if value > 0:\n",
    "            self.__a = value\n",
    "        else:\n",
    "            raise ValueError(\"Geçesiz bir değer\")\n",
    "\n",
    "    @property\n",
    "    def b(self):\n",
    "        return self.__b\n",
    "\n",
    "    class ExampleModel3:\n",
    "        def __init__(self):\n",
    "            self.age = 12\n",
    "\n",
    "\n",
    "example = ExampleModel2()\n",
    "example.a = 100 # setter tetiklendi\n",
    "print(f\"{example.a}\") # getter tetiklendi.\n",
    "#example.a = -10 # Burada hata fırlatılır.\n",
    "print(f\"{example.a}\")\n",
    "\n",
    "example[\"topic\"] = 120\n",
    "example3 = example.ExampleModel3() # Python'da iç içe sınıflar bu şekilde new'lenebilir.\n",
    "print(f\"Example Model: {example3.age}\")\n",
    "print(f\"{example[\"topic\"]}\")\n",
    "ExampleModel2().a #Referans ataması yapılmadan oluşturulan nesne..."
   ],
   "id": "ecab3126ae9ecdf9",
   "outputs": [
    {
     "name": "stdout",
     "output_type": "stream",
     "text": [
      "100\n",
      "100\n",
      "Example Model: 12\n",
      "120\n",
      "Example Model 2: 120\n"
     ]
    }
   ],
   "execution_count": 2
  },
  {
   "metadata": {},
   "cell_type": "markdown",
   "source": [
    "### Object Initializer\n",
    "Nesne oluşturulurken ilgili sınıfın propertylerine değer atama yöntemidir. Bunu yapmayı kolaylaştıran yapıya object initializer denir. Ancak c# olduğu gibi nesne oluşturulurken süslü parantezler açıp propertylere doğrudan değer atanamaz. Bunun için ilgili sınıfın **\\_\\_init__** metodu tanımlanması gerekmektedir. Bu işi sürekli bir şekilde manuel olarak yapmak yerine dataclasses modülü kullanarak **@dataclass** dekaratör yardımı ile otomatik olarak, constructor (init) metodu oluşturulabilir. Ayrıca \\_\\_repr__ ( nesnenin string temsili) ve \\_\\_eq__ gibi özel fonksiyonlarıda otomatik olarak oluşturur."
   ],
   "id": "12a34921b024fb8b"
  },
  {
   "metadata": {
    "ExecuteTime": {
     "end_time": "2025-06-01T12:28:11.344253Z",
     "start_time": "2025-06-01T12:28:11.337333Z"
    }
   },
   "cell_type": "code",
   "source": [
    "# Object Initializer, Manuel Yöntem\n",
    "example2 = ExampleModel2(a=120, b=10)\n",
    "print(f\"Example Model 2: {example2.a}\")\n",
    "\n",
    "# Data Classes\n",
    "from dataclasses import dataclass\n",
    "\n",
    "@dataclass # Bu dekoratör __init__, __repr__ gibi metotları otomatik oluşturur\n",
    "class Student:\n",
    "    name: str\n",
    "    number: str\n",
    "    age: int\n",
    "\n",
    "student_1 = Student(\"John\", \"212\", 20)\n",
    "print(student_1)\n",
    "print(f\"Student 1 name: {student_1.name}\")\n",
    "student_1.name = \"Tahiri\"\n",
    "print(f\"Student 1 name: {student_1.name}\")"
   ],
   "id": "c593440081e55498",
   "outputs": [
    {
     "name": "stdout",
     "output_type": "stream",
     "text": [
      "Example Model 2: 120\n",
      "Student(name='John', number='212', age=20)\n",
      "Student 1 name: John\n",
      "Student 1 name: Tahiri\n"
     ]
    }
   ],
   "execution_count": 3
  },
  {
   "metadata": {},
   "cell_type": "markdown",
   "source": [
    "### Deep Copy & Shallow Copy\n",
    "Deep copy ve shallow copy kavramlarını biliyoruz. Deep Copy ilgili nesnenin değerinin kopyalanması anlamına gelir. Yani Bellekte değerler çoğalır. Shallow Copy ise sadece referansları çoğaltır. Aşağıda biraz örnek yapalım.\n",
    "\n",
    "Burada dikkat edilmesi gereken kritik nokta, bir nesne içinde referans tipli bir değişken veyahut başka bir nesne tutuluyorsa, deep copy yapabilmek için ilgili nesne içindeki tüm referans tipli değişkenlerin değerleri çoğaltılması gerekir!!!"
   ],
   "id": "fe79fae06c52b5bf"
  },
  {
   "metadata": {
    "ExecuteTime": {
     "end_time": "2025-06-02T19:24:59.001790Z",
     "start_time": "2025-06-02T19:24:58.994792Z"
    }
   },
   "cell_type": "code",
   "source": [
    "from copy import deepcopy, copy\n",
    "from dataclasses import dataclass\n",
    "\n",
    "list_a = [20, 10, [30, 40]]\n",
    "list_b = list_a  # Shallow Copy\n",
    "\n",
    "list_a.append(100)\n",
    "list_b[0] = 30\n",
    "\n",
    "print(f\"List a: {list_a}\")\n",
    "print(f\"List b: {list_b}\")\n",
    "\n",
    "@dataclass\n",
    "class Book:\n",
    "    name: str\n",
    "    author: str\n",
    "    page_number : int\n",
    "    member_list : list\n",
    "\n",
    "book_1 = Book(\"Kız Kardeşler\", \"John\", 20, [\"a\", \"b\"])\n",
    "book_2 = book_1 # Shallow Copy - Doğrudan referans üzerinden yapıyor...\n",
    "\n",
    "book_2.name = \"Hasan\"\n",
    "book_2.member_list.append(\"c\")\n",
    "\n",
    "print(f\"Book 1: {book_1.name}\")\n",
    "print(f\"Book 2: {book_2.name}\")\n",
    "\n",
    "book_3 = copy(book_1) # Shallow Copy - this.MemberwiseCopy ile aynı şekilde çalışır...\n",
    "book_4 = deepcopy(book_1) # Deep copy\n",
    "\n",
    "book_3.name = \"Elmacık\"\n",
    "book_3.member_list.append(\"d\")\n",
    "book_4.name = \"Kehribar\"\n",
    "book_4.member_list.append(\"e\")\n",
    "\n",
    "print(f\"Book 1 name: {book_1.name}\")\n",
    "print(f\"Book 2 name: {book_2.name}\")\n",
    "print(f\"Book 3 name: {book_3.name}\")\n",
    "print(f\"Book 4 name: {book_4.name}\")\n",
    "\n",
    "print(f\"Book 1 list: {book_1.member_list}\")\n",
    "print(f\"Book 2 list: {book_2.member_list}\")\n",
    "print(f\"Book 3 list: {book_3.member_list}\")\n",
    "print(f\"Book 4 list: {book_4.member_list}\") # Görüldüğü üzere tam olarak deep copy işlemi book_4 ile yapılmış olur."
   ],
   "id": "47af9c7006bddad4",
   "outputs": [
    {
     "name": "stdout",
     "output_type": "stream",
     "text": [
      "List a: [30, 10, [30, 40], 100]\n",
      "List b: [30, 10, [30, 40], 100]\n",
      "Book 1: Hasan\n",
      "Book 2: Hasan\n",
      "Book 1 name: Hasan\n",
      "Book 2 name: Hasan\n",
      "Book 3 name: Elmacık\n",
      "Book 4 name: Kehribar\n",
      "Book 1 list: ['a', 'b', 'c', 'd']\n",
      "Book 2 list: ['a', 'b', 'c', 'd']\n",
      "Book 3 list: ['a', 'b', 'c', 'd']\n",
      "Book 4 list: ['a', 'b', 'c', 'e']\n"
     ]
    }
   ],
   "execution_count": 9
  },
  {
   "metadata": {},
   "cell_type": "markdown",
   "source": [
    "### Encapsulation\n",
    "Encapsulation, oop özelinde düşünecek olursak fieldlarımıza doğrudan erişimin engellenmesidir. Koruma amaçlı oluşturulan bir yapıdır."
   ],
   "id": "711965b5a2156cbb"
  },
  {
   "metadata": {},
   "cell_type": "code",
   "outputs": [],
   "execution_count": null,
   "source": [
    "class Car:\n",
    "\n",
    "    def __init__(self, model, year):\n",
    "        self.model = model\n",
    "        self.year = year\n",
    "\n",
    "    # Kapsülleme işlemi...\n",
    "\n",
    "    @property\n",
    "    def year(self):\n",
    "        return self.__year\n",
    "\n",
    "    @year.setter\n",
    "    def year(self, value):\n",
    "        self.__year = value\n",
    "\n",
    "    @property\n",
    "    def model(self):\n",
    "        return self.__model\n",
    "\n",
    "    @model.setter\n",
    "    def model(self, value):\n",
    "        self.__model = value"
   ],
   "id": "517bdee22ae0981b"
  },
  {
   "metadata": {},
   "cell_type": "markdown",
   "source": [
    "### Immutable Kavramı - Record Yapılanması\n",
    "Immutable kavramı, nesnesin runtime'da değiştirilebilir olmadığını ifade eden kavramdır. Yani bir nesne oluşturulduktan sonra, içindeki değerler üzerinde herhangi bir değişiklik yapılamaz. Mesela string'ler hem c# dilinde hem de python dilinde immutable'dır. Runtime'da ilgili değişkenin değeri değiştirilemez, yapılan her bir değişiklik yeni nesne oluşumuna yol açar.\n",
    "\n",
    "Python dilinde, **stringler**, **tuple'lar** immutable'dır. **List'ler** ise mutable'dır. C# Dilinde oluşturulan **record** yapısı da bununla ilgilidir. Record'lar fieldları runtime'da değişmeyecek şekilde yani immutable olacak şekilde tasarlanmıştır. Ayrıca record yapılarında with deyimi ile kolayca nesneler üzerinde deep copy yapılabilir. Record'ın asıl amacı değeri ön planda tutmaktır.\n"
   ],
   "id": "1ffee6f8a393cf7c"
  },
  {
   "metadata": {
    "ExecuteTime": {
     "end_time": "2025-06-02T19:58:24.375422Z",
     "start_time": "2025-06-02T19:58:24.370839Z"
    }
   },
   "cell_type": "code",
   "source": [
    "# String örnek\n",
    "string_1 = \"Hello World\"\n",
    "string_2 = string_1.upper()\n",
    "\n",
    "print(f\"String 1: {string_1}\")\n",
    "print(f\"String 2: {string_2}\")"
   ],
   "id": "6c26643001d26bbf",
   "outputs": [
    {
     "name": "stdout",
     "output_type": "stream",
     "text": [
      "String 1: Hello World\n",
      "String 2: HELLO WORLD\n"
     ]
    }
   ],
   "execution_count": 16
  },
  {
   "metadata": {},
   "cell_type": "markdown",
   "source": "**Record** yapılanması python'da da uygulanabilmektedir. Bunun için dataclass modülünü veyahut pydantic kütüphanesini kullanabiliriz. Pydantic biraz daha geniş yapılı bir kütüphanedir. Daha fazla özellik içerir. Dataclass modülü de gayet kullanılabilir, daha basit bir çözümdür.",
   "id": "9041037d72fef266"
  },
  {
   "metadata": {
    "ExecuteTime": {
     "end_time": "2025-06-03T19:05:35.917245Z",
     "start_time": "2025-06-03T19:05:35.910570Z"
    }
   },
   "cell_type": "code",
   "source": [
    "# dataclasses örnek\n",
    "from dataclasses import dataclass, replace\n",
    "\n",
    "@dataclass(frozen=True)\n",
    "class Point:\n",
    "    x: float\n",
    "    y: float\n",
    "\n",
    "# Kullanım\n",
    "p1 = Point(1, 2)\n",
    "p2 = Point(3, 4)\n",
    "p3 = Point(1, 2)\n",
    "\n",
    "print(f\"p1 {p1}\") # Otomatik oluşturulan __repr__ fonksiyonu...\n",
    "print(f\"p1 == p3: {p1 == p3}\") # Değer tipli kontrol\n",
    "\n",
    "try:\n",
    "    p1.x = 10\n",
    "except Exception as e:\n",
    "    print(f\"Değişmezlik hatası: {e}\")\n",
    "\n",
    "p4 = replace(p1, x=10, y=2)\n",
    "print(f\"p4: {p4}\")\n",
    "print(f\"p1: {p1}\")"
   ],
   "id": "ffe3e2c614d636b5",
   "outputs": [
    {
     "name": "stdout",
     "output_type": "stream",
     "text": [
      "p1 Point(x=1, y=2)\n",
      "p1 == p3: True\n",
      "Değişmezlik hatası: cannot assign to field 'x'\n",
      "p4: Point(x=10, y=2)\n",
      "p1: Point(x=1, y=2)\n"
     ]
    }
   ],
   "execution_count": 2
  },
  {
   "metadata": {
    "ExecuteTime": {
     "end_time": "2025-06-03T19:11:14.148124Z",
     "start_time": "2025-06-03T19:11:14.138200Z"
    }
   },
   "cell_type": "code",
   "source": [
    "# Pydantic Örneği\n",
    "# Pydantic ile de record'a benzer bir yapılanma kurulabilir.\n",
    "\n",
    "from pydantic import BaseModel, Field\n",
    "\n",
    "class UserRecord(BaseModel):\n",
    "    model_config = {\"frozen\": True}\n",
    "\n",
    "    id: int\n",
    "    name: str\n",
    "    email: str = Field(pattern=r\"^[a-zA-Z0-9_.+-]+@[a-zA-Z0-9-]+\\.[a-zA-Z0-9-.]+$\") # Pydantic doğrulama gücü...\n",
    "    is_active: bool = True\n",
    "\n",
    "user1 = UserRecord(id=1, name=\"john_doe\", email=\"john.doe@example.com\")\n",
    "user2 = UserRecord(id=1, name=\"john_doe\", email=\"john.doe@example.com\", is_active=True)\n",
    "user3 = UserRecord(id=2, name=\"jane_doe\", email=\"jane.doe@example.com\")\n",
    "\n",
    "print(f\"user1: {user1}\")\n",
    "print(f\"user1 == user2: {user1 == user2}\")\n",
    "print(f\"user1 == user3: {user1 == user3}\")\n",
    "\n",
    "try:\n",
    "    user1.name = \"Hasan Basri\"\n",
    "except Exception as e:\n",
    "    print(f\"Değişmezlik Hatası: {e}\")\n",
    "\n",
    "# with benzeri kopyalama\n",
    "user_4 = user1.model_copy(update={\"is_active\": False, \"name\": \"John_inactive\"})\n",
    "print(f\"user_4: {user_4}\")\n",
    "print(f\"user_1: {user1}\")\n",
    "\n",
    "print(f\"User1 (dict): {user1.model_dump()}\")"
   ],
   "id": "bf3d8963839e0ab8",
   "outputs": [
    {
     "name": "stdout",
     "output_type": "stream",
     "text": [
      "user1: id=1 name='john_doe' email='john.doe@example.com' is_active=True\n",
      "user1 == user2: True\n",
      "user1 == user3: False\n",
      "Değişmezlik Hatası: 1 validation error for UserRecord\n",
      "name\n",
      "  Instance is frozen [type=frozen_instance, input_value='Hasan Basri', input_type=str]\n",
      "    For further information visit https://errors.pydantic.dev/2.8/v/frozen_instance\n",
      "user_4: id=1 name='John_inactive' email='john.doe@example.com' is_active=False\n",
      "user_1: id=1 name='john_doe' email='john.doe@example.com' is_active=True\n",
      "User1 (dict): {'id': 1, 'name': 'john_doe', 'email': 'john.doe@example.com', 'is_active': True}\n"
     ]
    }
   ],
   "execution_count": 4
  },
  {
   "metadata": {},
   "cell_type": "markdown",
   "source": [
    "### Custom Class Members\n",
    "\n",
    "4 farklı özel metodu inceleyeceğiz:\n",
    "- Constructor\n",
    "- Destructor\n",
    "- Deconstructor\n",
    "- Static Constructor\n",
    "\n"
   ],
   "id": "c70bfb09942f4081"
  },
  {
   "metadata": {},
   "cell_type": "code",
   "outputs": [],
   "execution_count": null,
   "source": [
    "class CustomClassMembers:\n",
    "    # Constructor metodu python'da bu şekilde tanımlanır. Nesne ilk örneklendiğinde çağrılır. Field'ların değer ataması burada yapılır.\n",
    "    def __init__(self, name: str, age : int):\n",
    "        self.name = name\n",
    "        self.age = age"
   ],
   "id": "46e0f7b827aa5da6"
  }
 ],
 "metadata": {
  "kernelspec": {
   "display_name": "Python 3",
   "language": "python",
   "name": "python3"
  },
  "language_info": {
   "codemirror_mode": {
    "name": "ipython",
    "version": 2
   },
   "file_extension": ".py",
   "mimetype": "text/x-python",
   "name": "python",
   "nbconvert_exporter": "python",
   "pygments_lexer": "ipython2",
   "version": "2.7.6"
  }
 },
 "nbformat": 4,
 "nbformat_minor": 5
}
