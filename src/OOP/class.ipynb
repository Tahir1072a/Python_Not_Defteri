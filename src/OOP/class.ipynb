{
 "cells": [
  {
   "metadata": {},
   "cell_type": "markdown",
   "source": [
    "### Class Nedir?\n",
    "\n",
    "Bir nesne oluşturabilmek için, öncelikle onu modellememiz gerekir. Elimizde bir model olduktan sonra ondan nesne üretebiliriz. OOP'de nesneleri modelleyebilmek için ise classları kullanırız.\n",
    "\n",
    "### Class'lar Nerede Oluşturulur?\n",
    "Classlar, namespace altında oluşturulur. Ayrıca, class içinde class kavramı vardır. Buda nested class'ları işaret eder.\n",
    "\n",
    "Not : Bir class, bir türü temsil eder. Referans tiplidir ve nesnenin modelidir. Nesne oluşturulduktan sonra onu referans edebilmek için ilgili türe ait bir değişken oluşturmamız gerekir."
   ],
   "id": "3e70bd77f5931253"
  },
  {
   "cell_type": "code",
   "id": "initial_id",
   "metadata": {
    "collapsed": true,
    "ExecuteTime": {
     "end_time": "2025-05-29T06:21:41.330672Z",
     "start_time": "2025-05-29T06:21:41.324711Z"
    }
   },
   "source": [
    "class ExampleModel:\n",
    "\n",
    "    a = 0 # Bu static bir class field'dır. Class ismi üzerinden erişebiliriz. Varsayılan olarak bir değer girmemiz gerekiyor.\n",
    "\n",
    "    def __init__(self):\n",
    "        self.b = 10 # Bu ise nesneye ait bir field'dır\n",
    "        self.__gizli = 120\n",
    "\n",
    "    def X(self):\n",
    "        print(f\"X metodu çağrıldı\") # Nesneye ait bir field'dır."
   ],
   "outputs": [],
   "execution_count": 2
  },
  {
   "metadata": {
    "ExecuteTime": {
     "end_time": "2025-05-29T06:25:22.934108Z",
     "start_time": "2025-05-29T06:25:22.920451Z"
    }
   },
   "cell_type": "code",
   "source": [
    "object = ExampleModel()\n",
    "\n",
    "object.X()\n",
    "print(f\"{object.b}\")\n",
    "print(f\"{object.a}\")\n",
    "print(f\"{ExampleModel.a}\")\n",
    "\n",
    "ExampleModel.a = 100\n",
    "print(f\"{object.a}\") # Nesne içinde de değişti!\n",
    "print(f\"{ExampleModel.a}\")\n",
    "\n",
    "# Ancak garip bir davranışı vardır.\n",
    "\n",
    "object_2 = ExampleModel()\n",
    "object_2.a = 20 # Kendi nesnesi üzerinden yapılan class metodundaki değişiklik ilgili nesneye özeldir.\n",
    "print(f\"Object 2: {object_2.a}\")\n",
    "print(f\"Object 1: {object.a}\")"
   ],
   "id": "69981103f7323324",
   "outputs": [
    {
     "name": "stdout",
     "output_type": "stream",
     "text": [
      "X metodu çağrıldı\n",
      "10\n",
      "100\n",
      "100\n",
      "100\n",
      "100\n",
      "Object 2: 20\n",
      "Object 1: 100\n"
     ]
    }
   ],
   "execution_count": 15
  },
  {
   "metadata": {},
   "cell_type": "markdown",
   "source": [
    "### Field Nedir?\n",
    "Nesne içerisinde değer tutmamızı sağlayan alanlardır. Varsayılan olarak python dilinde her field publictir. Ancak bunları \"__\" ile başlayarak isimlendirirsek doğrudan erişimi engelleriz. Ancak yine de tam olarak private olmaz. Python'da field oluştururken varsayılan değer ataması yapmamız gerekiyor."
   ],
   "id": "224fb294f70c3d86"
  },
  {
   "metadata": {
    "ExecuteTime": {
     "end_time": "2025-05-29T10:45:08.939836Z",
     "start_time": "2025-05-29T10:45:08.936222Z"
    }
   },
   "cell_type": "code",
   "source": [
    "object_3 = ExampleModel()\n",
    "# print(f\"Object_3: {object_3.__gizli}\") # Görüldüğü üzere dışarıdan doğrudan ismi üzerinden erişilemiyor. (private)\n",
    "print(f\"Object 3 b: {object_3.b}\")"
   ],
   "id": "8708529b3f43b880",
   "outputs": [
    {
     "name": "stdout",
     "output_type": "stream",
     "text": [
      "Object 3 b: 10\n"
     ]
    }
   ],
   "execution_count": 27
  },
  {
   "metadata": {},
   "cell_type": "markdown",
   "source": [
    "Property Nedir?\n",
    "\n",
    "Field'lara doğrudan erişimi engeller. Property kısaca ilgili field için erişim sağlayan metotlar bütünüdür. C# dilinde özel yapılandırılmış, get ve set metotları vardır. Python'da ise bunları ayrı olarak yazarız. Burada yapılan işleme **encapsulation** denir!\n",
    "\n",
    "- Get ve Set decarator'u tam olarak tanımlanmış ise buna **full property** denir.\n",
    "- Set metodu olmayan property'ler readonly olur.\n",
    "- Auto propert initializer yapmak için de python'da **\\_\\_init__** fonksiyonu içerisinde ilgili propert'ye değer atayabilirsin.\n",
    "\n",
    "\n",
    "Python'da isimlendirme olarak genellikle snake_case kullanılır.\n",
    "\n",
    "### Indexer\n",
    "Python'da bir nesnenin [] üzerinden erişebilmesini sağlamak için bazı özel fonksiyonlar kullanılmaktadır.\n",
    "- **\\_\\_getitem\\_\\_**(self, key) metodu nesne[key] şeklinde veri okumak için tanımlanır.\n",
    "- **\\_\\_setitem__** metodu ise nesne[key] = value şeklinde veri atamak için tanımlanır.\n",
    "- **\\_\\_delitem\\_\\_** metodu ise bir nesneden del nesne[key] şeklinde veri silmek için kullanılır."
   ],
   "id": "a679355c8aab8185"
  },
  {
   "metadata": {
    "ExecuteTime": {
     "end_time": "2025-05-29T12:03:47.997331Z",
     "start_time": "2025-05-29T12:03:47.985785Z"
    }
   },
   "cell_type": "code",
   "source": [
    "class ExampleModel2:\n",
    "\n",
    "    def __init__(self):\n",
    "        self.a =  1\n",
    "        self.__b = 10 # Sadece burada initialize edilirken, değer ataması yaparız. Readonly.\n",
    "\n",
    "        self.__settings = {}\n",
    "\n",
    "    def __getitem__(self, key):\n",
    "        try:\n",
    "            return self.__settings[key]\n",
    "        except KeyError:\n",
    "            print(f\"Hata: {key} adında bir ayar bulunamadı\")\n",
    "            return None\n",
    "\n",
    "    def __setitem__(self, key, value):\n",
    "        self.__settings[key] = value\n",
    "\n",
    "    def __delitem__(self, key):\n",
    "        try:\n",
    "            del self.__settings[key]\n",
    "        except KeyError:\n",
    "            print(f\"{key} adında bir ayar bulunamadi\")\n",
    "\n",
    "    @property\n",
    "    def a(self):\n",
    "        return self.__a\n",
    "\n",
    "    @a.setter\n",
    "    def a(self, value):\n",
    "        if value > 0:\n",
    "            self.__a = value\n",
    "        else:\n",
    "            raise ValueError(\"Geçesiz bir değer\")\n",
    "\n",
    "    @property\n",
    "    def b(self):\n",
    "        return self.__b\n",
    "\n",
    "\n",
    "example = ExampleModel2()\n",
    "example.a = 100 # setter tetiklendi\n",
    "print(f\"{example.a}\") # getter tetiklendi.\n",
    "#example.a = -10 # Burada hata fırlatılır.\n",
    "print(f\"{example.a}\")\n",
    "\n",
    "example[\"topic\"] = 120\n",
    "\n",
    "print(f\"{example[\"topic\"]}\")"
   ],
   "id": "ecab3126ae9ecdf9",
   "outputs": [
    {
     "name": "stdout",
     "output_type": "stream",
     "text": [
      "100\n",
      "100\n",
      "120\n"
     ]
    }
   ],
   "execution_count": 37
  },
  {
   "metadata": {},
   "cell_type": "code",
   "outputs": [],
   "execution_count": null,
   "source": "",
   "id": "6c26643001d26bbf"
  }
 ],
 "metadata": {
  "kernelspec": {
   "display_name": "Python 3",
   "language": "python",
   "name": "python3"
  },
  "language_info": {
   "codemirror_mode": {
    "name": "ipython",
    "version": 2
   },
   "file_extension": ".py",
   "mimetype": "text/x-python",
   "name": "python",
   "nbconvert_exporter": "python",
   "pygments_lexer": "ipython2",
   "version": "2.7.6"
  }
 },
 "nbformat": 4,
 "nbformat_minor": 5
}
