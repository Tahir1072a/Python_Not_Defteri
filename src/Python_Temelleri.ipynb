{
 "cells": [
  {
   "metadata": {},
   "cell_type": "markdown",
   "source": [
    "### Veri Tipleri Uygulama\n",
    "# Python'da Temel Veri Tipleri\n",
    "\n",
    "| Kategori          | Veri Tipi      | Açıklama                                      |\n",
    "|-------------------|----------------|-----------------------------------------------|\n",
    "| **Metin**         | `str`          | Metin veri tipi.                              |\n",
    "| **Sayısal**       | `int`          | Tam sayılar.                                  |\n",
    "|                   | `float`        | Ondalıklı sayılar.                            |\n",
    "|                   | `complex`      | Karmaşık sayılar.                             |\n",
    "| **Sıralı**        | `list`         | Liste (değiştirilebilir sıralı veri yapısı).  |\n",
    "|                   | `tuple`        | Demet (değiştirilemez sıralı veri yapısı).    |\n",
    "|                   | `range`        | Belirli bir aralıktaki sıralı değerler.       |\n",
    "| **Sözlük**        | `dict`         | Sözlük (key-value çiftleri).                  |\n",
    "| **Küme**          | `set`          | Küme (benzersiz elemanlar).                   |\n",
    "|                   | `frozenset`    | Değiştirilemez küme.                          |\n",
    "| **Boolean**       | `bool`         | Mantıksal veri tipi (`True` veya `False`).    |\n",
    "| **Binary**        | `bytes`        | Değiştirilemez bayt dizisi.                   |\n",
    "|                   | `bytearray`    | Değiştirilebilir bayt dizisi.                 |\n",
    "|                   | `memoryview`   | Bellek görünümü.                              |\n",
    "\n",
    "## `type()` Fonksiyonu\n",
    "`type()` fonksiyonu, bir değişkenin veri tipini döndürür."
   ],
   "id": "8a77807f92f26ee"
  },
  {
   "metadata": {
    "ExecuteTime": {
     "end_time": "2025-03-06T16:31:24.123534Z",
     "start_time": "2025-03-06T16:31:19.860140Z"
    }
   },
   "cell_type": "code",
   "source": [
    "# 1. Örnek\n",
    "radius = float(input(\"Lütfen hesaplanması istenen dairenin yarıçapını giriniz:\")) #tip dönüşümü\n",
    "alan = 3.14 * radius * radius\n",
    "cevre = 2 * 3.14 * radius\n",
    "print(f\"Dairenin alanı: {alan}, dairenin cevresi: {cevre}\") #f string"
   ],
   "id": "fbc121e30a2defb3",
   "outputs": [
    {
     "name": "stdout",
     "output_type": "stream",
     "text": [
      "Dairenin alanı: 452.15999999999997, dairenin cevresi: 75.36\n"
     ]
    }
   ],
   "execution_count": 1
  },
  {
   "metadata": {
    "ExecuteTime": {
     "end_time": "2025-03-06T16:31:26.473673Z",
     "start_time": "2025-03-06T16:31:24.169244Z"
    }
   },
   "cell_type": "code",
   "source": [
    "# 2. Örnek\n",
    "constant = 1.609344\n",
    "km = float(input(\"Dönüşüm yapılacak km değerini giriniz:\"))\n",
    "mil = round(km * constant, 2) # Round fonksiyonu ilgili sayıyı yuvarlar. İkinci paramtre virgülden sonraki basamak sayısını ifade eder.\n",
    "print(f\"Mil {mil}\")\n",
    "print(f\"{km} kilometre {km * constant} mildir\")"
   ],
   "id": "62705c7232402e5f",
   "outputs": [
    {
     "name": "stdout",
     "output_type": "stream",
     "text": [
      "Mil 193.12\n",
      "120.0 kilometre 193.12128 mildir\n"
     ]
    }
   ],
   "execution_count": 2
  },
  {
   "metadata": {},
   "cell_type": "markdown",
   "source": [
    "# String Veri Tipi Ayrıntıları\n",
    "\n",
    "## String Kaçış Karakterleri\n",
    "\n",
    "| Kaçış Karakteri | Açıklama | Örnek | Çıktı |\n",
    "|---|---|---|---|\n",
    "| `\\'` | Tek Tırnak | `'Merhaba Dünya\\'m'` | Merhaba Dünya'm |\n",
    "| `\\\\` | Ters Eğik Çizgi | `'Merhaba \\\\ Dünya'` | Merhaba \\ Dünya |\n",
    "| `\\n` | Alt Satır | `'Merhaba \\n Dünya'` | Merhaba <br> Dünya |\n",
    "| `\\t` | Tab | `'Merhaba\\tDünya'` | Merhaba&nbsp;&nbsp;&nbsp;&nbsp;Dünya |\n",
    "| `\\b` | Backspace | `'Merhaba \\bDünya'` | MerhabaDünya |\n",
    "| `\\f` | Form Beslemesi |  |  |\n",
    "| `\\ooo` | Sekizlik Değer | `txt = \"\\115\\145\\162\\150\\141\\142\\141\"` <br> `print(txt)` | Merhaba |\n",
    "| `\\xhh` | Onaltılık Değer | `txt = \"\\x4D\\x65\\x72\\x68\\x61\\x62\\x61\"` <br> `print(txt)` | Merhaba |\n",
    "\n",
    "## String Metodları\n",
    "\n",
    "| Metod | Açıklama |\n",
    "|---|---|\n",
    "| `capitalize()` | İlk karakteri büyük harfe dönüştürür. |\n",
    "| `casefold()` | String'i küçük harfe dönüştürür. |\n",
    "| `center()` | Ortalanmış bir string döndürür. |\n",
    "| `count()` | Belirtilen değerin bir string'de kaç kez geçtiğini döndürür. |\n",
    "| `encode()` | String'in kodlanmış bir sürümünü döndürür. |\n",
    "| `endswith()` | String belirtilen değerle bitiyorsa true döndürür. |\n",
    "| `expandtabs()` | String'in sekme boyutunu ayarlar. |\n",
    "| `find()` | String'de belirtilen bir değeri arar ve bulunduğu konumu döndürür. |\n",
    "| `format()` | String'deki belirtilen değerleri biçimlendirir. |\n",
    "| `format_map()` | String'deki belirtilen değerleri biçimlendirir. |\n",
    "| `index()` | String'de belirtilen bir değeri arar ve bulunduğu konumu döndürür. |\n",
    "| `isalnum()` | String'deki tüm karakterler alfanümerikse True döndürür. |\n",
    "| `isalpha()` | String'deki tüm karakterler alfabedeyse True döndürür. |\n",
    "| `isdecimal()` | String'deki tüm karakterler ondalıksa True döndürür. |\n",
    "| `isdigit()` | String'deki tüm karakterler rakamsa True döndürür. |\n",
    "| `isidentifier()` | String bir tanımlayıcıysa True döndürür. |\n",
    "| `islower()` | String'deki tüm karakterler küçük harfse True döndürür. |\n",
    "| `isnumeric()` | String'deki tüm karakterler sayısal ise True döndürür. |\n",
    "| `isprintable()` | String'deki tüm karakterler yazdırılabilirse True döndürür. |\n",
    "| `isspace()` | String'deki tüm karakterler boşluksa True döndürür. |\n",
    "| `istitle()` | String bir başlık kurallarına uyuyorsa True döndürür. |\n",
    "| `isupper()` | String'deki tüm karakterler büyük harfse True döndürür. |\n",
    "| `join()` | Bir iterable'ın elemanlarını string'in sonuna birleştirir. |\n",
    "| `ljust()` | String'in sola hizalanmış bir sürümünü döndürür. |\n",
    "| `lower()` | String'i küçük harfe dönüştürür. |\n",
    "| `lstrip()` | String'in sol kırpılmış bir sürümünü döndürür. |\n",
    "| `maketrans()` | Çevirilerde kullanılacak bir çeviri tablosu döndürür. |\n",
    "| `partition()` | String'in üç parçaya ayrıldığı bir tuple döndürür. |\n",
    "| `replace()` | Belirtilen bir değerin belirtilen bir değerle değiştirildiği bir string döndürür. |\n",
    "| `rfind()` | String'de belirtilen bir değeri arar ve bulunduğu son konumu döndürür. |\n",
    "| `rindex()` | String'de belirtilen bir değeri arar ve bulunduğu son konumu döndürür. |\n",
    "| `rjust()` | String'in sağa hizalanmış bir sürümünü döndürür. |\n",
    "| `rpartition()` | String'in üç parçaya ayrıldığı bir tuple döndürür. |\n",
    "| `rsplit()` | String'i belirtilen ayırıcıda böler ve bir liste döndürür. |\n",
    "| `rstrip()` | String'in sağ kırpılmış bir sürümünü döndürür. |\n",
    "| `split()` | String'i belirtilen ayırıcıda böler ve bir liste döndürür. |\n",
    "| `splitlines()` | String'i satır sonlarında böler ve bir liste döndürür. |\n",
    "| `startswith()` | String belirtilen değerle başlıyorsa true döndürür. |\n",
    "| `strip()` | String'in kırpılmış bir sürümünü döndürür. |\n",
    "| `swapcase()` | Büyük/küçük harf değiştirir, küçük harf büyük harf olur ve tersi. |\n",
    "| `title()` | Her kelimenin ilk karakterini büyük harfe dönüştürür. |\n",
    "| `translate()` | Çevrilmiş bir string döndürür. |\n",
    "| `upper()` | String'i büyük harfe dönüştürür. |\n",
    "| `zfill()` | String'i başlangıçta belirtilen sayıda 0 değeriyle doldurur. |\n",
    "\n"
   ],
   "id": "c019da18d75791c6"
  },
  {
   "metadata": {
    "ExecuteTime": {
     "end_time": "2025-03-06T16:31:26.787895Z",
     "start_time": "2025-03-06T16:31:26.783332Z"
    }
   },
   "cell_type": "code",
   "source": [
    "x = \"Hello World\"\n",
    "print(x[10]) # dizi sayıldıkları için indekslenebilirler.\n",
    "print(x[-1])\n",
    "\n",
    "print(f\"Kelimenin uzunluğu: {len(x)}\")\n",
    "print(f\"Kelime içinde 'orl' geçiyor mu? {\"orl\" in x}\") #Kelime içi arama\n",
    "\n",
    "# Kelime içinde for ile dönme\n",
    "for harf in x:\n",
    "    print(harf)"
   ],
   "id": "75011193f8fd4e9c",
   "outputs": [
    {
     "name": "stdout",
     "output_type": "stream",
     "text": [
      "d\n",
      "d\n",
      "Kelimenin uzunluğu: 11\n",
      "Kelime içinde 'orl' geçiyor mu? True\n",
      "H\n",
      "e\n",
      "l\n",
      "l\n",
      "o\n",
      " \n",
      "W\n",
      "o\n",
      "r\n",
      "l\n",
      "d\n"
     ]
    }
   ],
   "execution_count": 3
  },
  {
   "metadata": {
    "ExecuteTime": {
     "end_time": "2025-03-06T16:31:26.800088Z",
     "start_time": "2025-03-06T16:31:26.796695Z"
    }
   },
   "cell_type": "code",
   "source": [
    "# Slicing\n",
    "hello, hell = x[0:5], x[0:4] #İndeks değerlerine göre parçalar. Son indeks dahil değildir.\n",
    "print(hello, hell)\n",
    "worl, world = x[-5:-1], x[-5:]\n",
    "print(worl, world)\n",
    "\n",
    "# Atlamalı dilimleme\n",
    "new_word = x[::2] # son değer atlama sayısını belirtir.\n",
    "reverse_word = x[::-1] # kelimeyi ters çevirir\n",
    "print(new_word)\n",
    "print(reverse_word)"
   ],
   "id": "7e7463527971bf7c",
   "outputs": [
    {
     "name": "stdout",
     "output_type": "stream",
     "text": [
      "Hello Hell\n",
      "Worl World\n",
      "HloWrd\n",
      "dlroW olleH\n"
     ]
    }
   ],
   "execution_count": 4
  },
  {
   "metadata": {
    "ExecuteTime": {
     "end_time": "2025-03-06T16:31:26.835984Z",
     "start_time": "2025-03-06T16:31:26.816864Z"
    }
   },
   "cell_type": "code",
   "source": [
    "#String Formatlama\n",
    "name = \"Ali\"\n",
    "last_name= \"Koçak\"\n",
    "age = 40\n",
    "msg_1 = \"My name is {} {}. I am {} years old\".format(name, last_name, age)\n",
    "msg_2 = \"My name is {n} {l}. I am {a} years old\".format(n=name, l=last_name, a=age)\n",
    "print(f\"{msg_1}\\n{msg_2}\") # f-string işe bu şekilde kullanılır. Parantezler içine python kodları girer."
   ],
   "id": "5239df430728ee87",
   "outputs": [
    {
     "name": "stdout",
     "output_type": "stream",
     "text": [
      "My name is Ali Koçak. I am 40 years old\n",
      "My name is Ali Koçak. I am 40 years old\n"
     ]
    }
   ],
   "execution_count": 5
  },
  {
   "metadata": {
    "ExecuteTime": {
     "end_time": "2025-03-06T16:31:26.860869Z",
     "start_time": "2025-03-06T16:31:26.848948Z"
    }
   },
   "cell_type": "code",
   "source": [
    "# Basit Uygulama Örnekleri\n",
    "title = \"Python ile Programlamaya Giriş\"\n",
    "\n",
    "title_len, title_first_word, last_five_and_first_five, title_reverse = len(title), title[0:6], (title[0:5] + \" \" + title[-5:]), title[::-1]\n",
    "print(title_len, title_first_word, last_five_and_first_five, title_reverse)"
   ],
   "id": "b2627ae80dbc2344",
   "outputs": [
    {
     "name": "stdout",
     "output_type": "stream",
     "text": [
      "30 Python Pytho Giriş şiriG ayamalmargorP eli nohtyP\n"
     ]
    }
   ],
   "execution_count": 6
  },
  {
   "metadata": {
    "ExecuteTime": {
     "end_time": "2025-03-06T16:31:26.885382Z",
     "start_time": "2025-03-06T16:31:26.880527Z"
    }
   },
   "cell_type": "code",
   "source": [
    "# Python String Metotları: Most Used\n",
    "title_lower = title.lower()\n",
    "title_upper = title.upper()\n",
    "title_capital = title.capitalize() # İlk karakteri büyük harfe çevirir.\n",
    "title_title = title_lower.title() # Tüm kelimelerin ilk karakterlerini büyük harfe çevirir.\n",
    "print(title_lower, title_upper, title_capital)\n",
    "print(title.startswith(\"x\")) # ilgili string x ile mi başlıyor?\n",
    "\n",
    "website = \"https://www.google.com.tr\"\n",
    "nokta_sayisi = website.count(\".\") # Count fonksiyonu görüldüğü üzere sayım yapar.\n",
    "print(nokta_sayisi)\n",
    "print(f\"Web sitesi url'inde www değeri var mıdır: {\"www\" in website} \")"
   ],
   "id": "5c1bc95e34bafaae",
   "outputs": [
    {
     "name": "stdout",
     "output_type": "stream",
     "text": [
      "python ile programlamaya giriş PYTHON ILE PROGRAMLAMAYA GIRIŞ Python ile programlamaya giriş\n",
      "False\n",
      "3\n",
      "Web sitesi url'inde www değeri var mıdır: True \n"
     ]
    }
   ],
   "execution_count": 7
  },
  {
   "metadata": {
    "ExecuteTime": {
     "end_time": "2025-03-06T16:31:26.911367Z",
     "start_time": "2025-03-06T16:31:26.896329Z"
    }
   },
   "cell_type": "code",
   "source": [
    "# Basit Örnek 2\n",
    "sentence = \"My name is john\"\n",
    "result_1 = sentence.isalpha()\n",
    "result_2 = sentence.replace(\" \", \"\").isalpha()\n",
    "print(f\"Boşluklar kaldırılmadı :{result_1}, boşluklar kalktı: {result_2}\")\n",
    "sentence_list = sentence.split(\" \")\n",
    "sentence_list"
   ],
   "id": "3fdda7882a6aa53f",
   "outputs": [
    {
     "name": "stdout",
     "output_type": "stream",
     "text": [
      "Boşluklar kaldırılmadı :False, boşluklar kalktı: True\n"
     ]
    },
    {
     "data": {
      "text/plain": [
       "['My', 'name', 'is', 'john']"
      ]
     },
     "execution_count": 8,
     "metadata": {},
     "output_type": "execute_result"
    }
   ],
   "execution_count": 8
  },
  {
   "metadata": {},
   "cell_type": "markdown",
   "source": [
    "# Listeler\n",
    "\n",
    "Elbette, Python listeleri hakkında verdiğiniz bilgileri Markdown formatında, daha düzenli ve açıklayıcı bir şekilde sunuyorum:\n",
    "\n",
    "## Python Listeleri\n",
    "\n",
    "Listeler, birden çok öğeyi tek bir değişkende saklamak için kullanılan temel veri yapılarından biridir.\n",
    "\n",
    "### Liste Oluşturma\n",
    "\n",
    "* **Köşeli Parantezlerle:**\n",
    "    ```python\n",
    "    list1 = [\"Ankara\", \"Konya\", \"İstanbul\"]\n",
    "    print(list1)  # ['Ankara', 'Konya', 'İstanbul']\n",
    "    ```\n",
    "* **`list()` Yapıcısı ile:**\n",
    "    ```python\n",
    "    list2 = list([\"Ankara\", \"Konya\", \"İstanbul\"])\n",
    "    list3 = list((\"Ankara\", \"Konya\", \"İstanbul\"))\n",
    "    list4 = (\"Ankara\", \"Konya\", \"İstanbul\") # tuple veri tipi\n",
    "    print(list2)  # ['Ankara', 'Konya', 'İstanbul']\n",
    "    print(list3)  # ['Ankara', 'Konya', 'İstanbul']\n",
    "    print(list4) # (\"Ankara\", \"Konya\", \"İstanbul\")\n",
    "    ```\n",
    "\n",
    "### Liste Özellikleri\n",
    "\n",
    "* **Sıralı:** Öğeler belirli bir sırayla saklanır ve bu sıra korunur.\n",
    "* **Değiştirilebilir (Mutable):** Öğeler eklenebilir, çıkarılabilir veya değiştirilebilir.\n",
    "* **İndekslenmiş:** Öğelere indeks numaraları ile erişilebilir (ilk öğe 0 indeksine sahiptir).\n",
    "* **Aynı Değerleri İçerebilir:** Bir listede aynı değer birden fazla kez bulunabilir.\n",
    "\n",
    "    ```python\n",
    "    list1 = [\"Ankara\", \"Konya\", \"Ankara\", \"İstanbul\"]\n",
    "    print(list1)  # ['Ankara', 'Konya', 'Ankara', 'İstanbul']\n",
    "    ```\n",
    "\n",
    "* **Farklı Veri Tiplerini İçerebilir:** Bir liste, farklı veri tiplerinden (sayılar, stringler, booleanlar vb.) öğeler içerebilir.\n",
    "\n",
    "    ```python\n",
    "    list1 = [\"abc\", 34, True, 40, \"male\"]\n",
    "    print(list1)  # ['abc', 34, True, 40, 'male']\n",
    "    ```\n",
    "\n",
    "### Liste İşlemleri\n",
    "\n",
    "* **Uzunluk (`len()`):** Listenin öğe sayısını döndürür.\n",
    "\n",
    "    ```python\n",
    "    list1 = [\"Ankara\", \"Konya\", \"İstanbul\"]\n",
    "    print(len(list1))  # 3\n",
    "    ```\n",
    "\n",
    "* **İçiçe Listeler (Nested Lists):** Bir liste, başka listeleri de içerebilir.\n",
    "\n",
    "    ```python\n",
    "    list1 = [\"a\", \"b\", \"c\"]\n",
    "    list2 = [1, 2, 3]\n",
    "    list3 = [list1, list2]\n",
    "    print(list3)  # [['a', 'b', 'c'], [1, 2, 3]]\n",
    "    ```\n",
    "\n",
    "### Liste Öğelerine Erişim\n",
    "\n",
    "* **İndeks ile Erişim:**\n",
    "\n",
    "    ```python\n",
    "    list1 = [\"Ankara\", \"Konya\", \"İstanbul\"]\n",
    "    print(list1[1])  # Konya\n",
    "    list1 = [['a', 'b', 'c'], [1, 2, 3]]\n",
    "    print(list1[0][1])  # b (matris erişimi gibi)\n",
    "    ```\n",
    "\n",
    "* **Negatif İndeksleme:** Sondan başlamak için kullanılır.\n",
    "\n",
    "    ```python\n",
    "    list1 = [\"Ankara\", \"Konya\", \"İstanbul\"]\n",
    "    print(list1[-1])  # İstanbul\n",
    "    ```\n",
    "\n",
    "* **Dilimleme (Slicing):** Belirli bir aralıktaki öğelere erişim sağlar.\n",
    "\n",
    "    ```python\n",
    "    list1 = [\"Ankara\", \"Konya\", \"İstanbul\", \"Bursa\", \"Karaman\"]\n",
    "    print(list1[1:3])  # ['Konya', 'İstanbul']\n",
    "    print(list1[:3])   # ['Ankara', 'Konya', 'İstanbul']\n",
    "    print(list1[1:])   # ['Konya', 'İstanbul', 'Bursa', 'Karaman']\n",
    "    print(list1[-4:-1]) # ['Konya', 'İstanbul', 'Bursa']\n",
    "    ```\n",
    "\n",
    "* **`in` Anahtar Kelimesi:** Bir öğenin listede olup olmadığını kontrol eder.\n",
    "\n",
    "    ```python\n",
    "    list1 = [\"Ankara\", \"Konya\", \"İstanbul\", \"Bursa\", \"Karaman\"]\n",
    "    if \"Bursa\" in list1:\n",
    "        print(\"Bursa listede var\")  # Bursa listede var\n",
    "    ```\n",
    "\n",
    "### Liste Öğelerini Değiştirme\n",
    "\n",
    "* **İndeks ile Değer Değiştirme:**\n",
    "\n",
    "    ```python\n",
    "    list1 = [\"Ankara\", \"Konya\", \"İstanbul\", \"Bursa\", \"Karaman\"]\n",
    "    list1[2] = \"İzmir\"\n",
    "    print(list1)  # ['Ankara', 'Konya', 'İzmir', 'Bursa', 'Karaman']\n",
    "    ```\n",
    "\n",
    "* **Dilimleme ile Değer Değiştirme:**\n",
    "\n",
    "    ```python\n",
    "    list1 = [\"Ankara\", \"Konya\", \"İstanbul\", \"Bursa\", \"Karaman\"]\n",
    "    list1[1:3] = [\"Bolu\", \"İzmir\"]\n",
    "    print(list1)  # ['Ankara', 'Bolu', 'İzmir', 'Bursa', 'Karaman']\n",
    "    ```\n",
    "\n",
    "### Liste Öğeleri Ekleme\n",
    "\n",
    "* **`insert()` Metodu:** Belirli bir indekse öğe ekler.\n",
    "\n",
    "    ```python\n",
    "    list1 = [\"Ankara\", \"Konya\", \"İstanbul\"]\n",
    "    list1.insert(2, \"Bolu\")\n",
    "    print(list1)  # ['Ankara', 'Konya', 'Bolu', 'İstanbul']\n",
    "    ```\n",
    "\n",
    "* **`append()` Metodu:** Listenin sonuna öğe ekler.\n",
    "\n",
    "    ```python\n",
    "    list1 = [\"Ankara\", \"Konya\", \"İstanbul\"]\n",
    "    list1.append(\"Bolu\")\n",
    "    print(list1)  # ['Ankara', 'Konya', 'İstanbul', 'Bolu']\n",
    "    ```\n",
    "\n",
    "* **`extend()` Metodu:** Başka bir listeyi listenin sonuna ekler. Tuple, set ve dict nesneleri de eklenebilir.\n",
    "\n",
    "    ```python\n",
    "    list1 = [\"Ankara\", \"Konya\", \"İstanbul\"]\n",
    "    list2 = [\"İzmir\", \"Bursa\"]\n",
    "    list1.extend(list2)\n",
    "    print(list1)  # ['Ankara', 'Konya', 'İstanbul', 'İzmir', 'Bursa']\n",
    "    ```\n",
    "\n",
    "### Liste Öğeleri Silme\n",
    "\n",
    "* **`remove()` Metodu:** Belirtilen öğeyi siler.\n",
    "\n",
    "    ```python\n",
    "    list1 = [\"Ankara\", \"Konya\", \"İstanbul\"]\n",
    "    list1.remove(\"Konya\")\n",
    "    print(list1)  # ['Ankara', 'İstanbul']\n",
    "    ```\n",
    "\n",
    "* **`pop()` Metodu:** Belirtilen indeksteki öğeyi siler. İndeks belirtilmezse son öğeyi siler.\n",
    "\n",
    "    ```python\n",
    "    list1 = [\"Ankara\", \"Konya\", \"İstanbul\"]\n",
    "    list1.pop(1)\n",
    "    print(list1)  # ['Ankara', 'İstanbul']\n",
    "    list1.pop()\n",
    "    print(list1) # ['Ankara', 'Konya']\n",
    "    ```\n",
    "\n",
    "* **`clear()` Metodu:** Listenin tüm öğelerini siler.\n",
    "\n",
    "    ```python\n",
    "    list1 = [\"Ankara\", \"Konya\", \"İstanbul\"]\n",
    "    list1.clear()\n",
    "    print(list1)  # []\n",
    "    ```\n",
    "\n",
    "* **`del` Anahtar Kelimesi:** Belirtilen indeksteki öğeyi veya tüm listeyi siler.\n",
    "\n",
    "    ```python\n",
    "    list1 = [\"Ankara\", \"Konya\", \"İstanbul\"]\n",
    "    del list1[1]\n",
    "    print(list1)  # ['Ankara', 'İstanbul']\n",
    "    del list1\n",
    "    # print(list1)  # Hata: list1 tanımlı değil\n",
    "    ```\n",
    "\n",
    "Elbette, Python listeleri ile ilgili verdiğiniz bilgileri Markdown formatında düzenleyip, algoritma soruları ekliyorum:\n",
    "\n",
    "## Python Listelerinde Gezinme, Anlama, Sıralama ve Kopyalama\n",
    "\n",
    "### Listede Gezinme (Iterasyon)\n",
    "\n",
    "* **`for` Döngüsü ile:**\n",
    "    ```python\n",
    "    list1 = [\"Ankara\", \"Konya\", \"İstanbul\"]\n",
    "    for x in list1:\n",
    "        print(x)\n",
    "    ```\n",
    "    Çıktı:\n",
    "    ```\n",
    "    Ankara\n",
    "    Konya\n",
    "    İstanbul\n",
    "    ```\n",
    "* **İndeks Numaraları ile `for` Döngüsü:**\n",
    "    ```python\n",
    "    list1 = [\"Ankara\", \"Konya\", \"İstanbul\"]\n",
    "    for x in range(len(list1)):\n",
    "        print(list1[x])\n",
    "    ```\n",
    "    Çıktı:\n",
    "    ```\n",
    "    Ankara\n",
    "    Konya\n",
    "    İstanbul\n",
    "    ```\n",
    "* **`while` Döngüsü ile:**\n",
    "    ```python\n",
    "    list1 = [\"Ankara\", \"Konya\", \"İstanbul\"]\n",
    "    x = 0\n",
    "    while x < len(list1):\n",
    "        print(list1[x])\n",
    "        x += 1\n",
    "    ```\n",
    "    Çıktı:\n",
    "    ```\n",
    "    Ankara\n",
    "    Konya\n",
    "    İstanbul\n",
    "    ```\n",
    "* **Liste Anlama (Comprehension) ile:**\n",
    "    ```python\n",
    "    list1 = [\"Ankara\", \"Konya\", \"İstanbul\"]\n",
    "    [print(x) for x in list1]\n",
    "    ```\n",
    "    Çıktı:\n",
    "    ```\n",
    "    Ankara\n",
    "    Konya\n",
    "    İstanbul\n",
    "    ```\n",
    "\n",
    "### Liste Anlama (List Comprehension)\n",
    "\n",
    "* **Koşullu Liste Anlama:**\n",
    "    ```python\n",
    "    list1 = [\"Ankara\", \"İzmir\", \"İstanbul\"]\n",
    "    newlist = [x for x in list1 if \"a\" in x]\n",
    "    print(newlist)  # ['Ankara', 'İstanbul']\n",
    "    ```\n",
    "* **Koşulsuz Liste Anlama:**\n",
    "    ```python\n",
    "    list1 = [\"Ankara\", \"İzmir\", \"İstanbul\"]\n",
    "    newlist = [x for x in list1]  # Yeni bir liste oluşturulur\n",
    "    print(newlist)  # ['Ankara', 'İzmir', 'İstanbul']\n",
    "    ```\n",
    "* **`range()` Fonksiyonu ile Liste Oluşturma:**\n",
    "    ```python\n",
    "    list1 = [x for x in range(10)]\n",
    "    print(list1)  # [0, 1, 2, 3, 4, 5, 6, 7, 8, 9]\n",
    "    list1 = [x for x in range(10) if x < 5]\n",
    "    print(list1)  # [0, 1, 2, 3, 4]\n",
    "    ```\n",
    "* **`upper()` Metodu ile Liste Oluşturma:**\n",
    "    ```python\n",
    "    list1 = [\"Ankara\", \"İzmir\", \"İstanbul\"]\n",
    "    newlist = [x.upper() for x in list1]\n",
    "    print(newlist)  # ['ANKARA', 'İZMIR', 'İSTANBUL']\n",
    "    ```\n",
    "* **Sabit Değerlerle Liste Oluşturma:**\n",
    "    ```python\n",
    "    list1 = [\"Ankara\", \"İzmir\", \"İstanbul\"]\n",
    "    newlist = ['merhaba' for x in list1]\n",
    "    print(newlist)  # ['merhaba', 'merhaba', 'merhaba']\n",
    "    ```\n",
    "* **Koşullu Değiştirme ile Liste Oluşturma:**\n",
    "    ```python\n",
    "    list1 = [\"Ankara\", \"İzmir\", \"İstanbul\"]\n",
    "    newlist = [x if x != \"İzmir\" else \"Konya\" for x in list1]\n",
    "    print(newlist)  # ['Ankara', 'Konya', 'İstanbul']\n",
    "    ```\n",
    "\n",
    "### Liste Sıralama\n",
    "\n",
    "* **`sort()` Metodu (Artan Sıra):**\n",
    "    ```python\n",
    "    list1 = [\"Ankara\", \"Konya\", \"Bursa\"]\n",
    "    list1.sort()\n",
    "    print(list1)  # ['Ankara', 'Bursa', 'Konya']\n",
    "    ```\n",
    "* **`sort()` Metodu (Azalan Sıra):**\n",
    "    ```python\n",
    "    list1 = [\"Ankara\", \"Konya\", \"Bursa\"]\n",
    "    list1.sort(reverse=True)\n",
    "    print(list1)  # ['Konya', 'Bursa', 'Ankara']\n",
    "    ```\n",
    "* **`reverse()` Metodu (Ters Çevirme):**\n",
    "    ```python\n",
    "    list1 = [\"ankara\", \"Konya\", \"bursa\"]\n",
    "    list1.reverse()\n",
    "    print(list1)  # ['bursa', 'Konya', 'ankara']\n",
    "    ```\n",
    "* **`sort()` Metodu (Büyük/Küçük Harf Duyarsız):**\n",
    "    ```python\n",
    "    list1 = [\"ankara\", \"Konya\", \"bursa\"]\n",
    "    list1.sort(key=str.lower)\n",
    "    print(list1)  # ['ankara', 'bursa', 'Konya']\n",
    "    ```\n",
    "\n",
    "### Liste Kopyalama\n",
    "\n",
    "* **`copy()` Metodu:**\n",
    "    ```python\n",
    "    list1 = [\"ankara\", \"Konya\", \"bursa\"]\n",
    "    newlist = list1.copy()\n",
    "    print(newlist)  # ['ankara', 'Konya', 'bursa']\n",
    "    ```\n",
    "* **`list()` Yapıcısı ile:**\n",
    "    ```python\n",
    "    mylist = [\"ankara\", \"Konya\", \"bursa\"]\n",
    "    newlist = list(mylist)\n",
    "    ```\n",
    "\n",
    "### Listeleri Birleştirme\n",
    "\n",
    "* **`+` Operatörü ile:**\n",
    "    ```python\n",
    "    list1 = [\"a\", \"b\", \"c\"]\n",
    "    list2 = [1, 2, 3]\n",
    "    list3 = list1 + list2\n",
    "    print(list3)  # ['a', 'b', 'c', 1, 2, 3]\n",
    "    ```\n",
    "* **`append()` ile:**\n",
    "    ```python\n",
    "    list1 = [\"a\", \"b\", \"c\"]\n",
    "    list2 = [1, 2, 3]\n",
    "    for x in list2:\n",
    "        list1.append(x)\n",
    "    print(list1)  # ['a', 'b', 'c', 1, 2, 3]\n",
    "    ```\n",
    "* **`extend()` Metodu ile:**\n",
    "    ```python\n",
    "    list1 = [\"a\", \"b\", \"c\"]\n",
    "    list2 = [1, 2, 3]\n",
    "    list1.extend(list2)\n",
    "    print(list1)  # ['a', 'b', 'c', 1, 2, 3]\n",
    "    ```\n",
    "\n",
    "### Liste Metodları\n",
    "\n",
    "* `append()`: Listenin sonuna bir eleman ekler.\n",
    "* `clear()`: Listedeki tüm elemanları siler.\n",
    "* `copy()`: Listenin bir kopyasını döndürür.\n",
    "* `count()`: Belirtilen değerdeki elemanların sayısını döndürür.\n",
    "* `extend()`: Bir listenin (veya herhangi bir iterable'ın) elemanlarını mevcut listenin sonuna ekler.\n",
    "* `index()`: Belirtilen değere sahip ilk elemanın indeksini döndürür.\n",
    "* `insert()`: Belirtilen konuma bir eleman ekler.\n",
    "* `pop()`: Belirtilen konumdaki elemanı kaldırır.\n",
    "* `remove()`: Belirtilen değere sahip öğeyi kaldırır.\n",
    "* `reverse()`: Listenin sırasını tersine çevirir.\n",
    "* `sort()`: Listeyi sıralar.\n",
    "\n",
    "## Liste Algoritma Soruları\n",
    "\n",
    "1.  Verilen bir listedeki en büyük ve en küçük sayıyı bulan bir fonksiyon yazın.\n",
    "2.  Verilen bir listedeki tekrar eden elemanları bulan bir fonksiyon yazın.\n",
    "3.  Verilen iki listeyi birleştirip sıralayan bir fonksiyon yazın.\n",
    "4.  Verilen bir listedeki tüm çift sayıları kaldıran bir fonksiyon yazın.\n",
    "5.  Verilen bir listedeki tüm string elemanları tersine çeviren bir fonksiyon yazın.\n",
    "6.  Verilen bir listedeki palindromik kelimeleri bulan bir fonksiyon yazın.\n",
    "7.  Verilen bir listedeki asal sayıları bulan bir fonksiyon yazın.\n",
    "8.  Verilen bir listedeki elemanların frekansını (kaç kez tekrar ettiğini) bulan bir fonksiyon yazın.\n",
    "9.  Verilen bir listedeki elemanların ortalamasını hesaplayan bir fonksiyon yazın.\n",
    "10. Verilen bir listedeki elemanların medyanını hesaplayan bir fonksiyon yazın.\n"
   ],
   "id": "c8af3f77e457f54b"
  },
  {
   "metadata": {
    "ExecuteTime": {
     "end_time": "2025-03-06T16:31:26.938031Z",
     "start_time": "2025-03-06T16:31:26.933432Z"
    }
   },
   "cell_type": "code",
   "source": [
    "# Soru 1\n",
    "import random as rnd\n",
    "my_list = [int((rnd.random() * 100) + 1) for _ in range(100)] # rastgele 1 ile 100 arasında sayı ürettik.\n",
    "sorted_list = sorted(my_list)\n",
    "bigger_number, smaller_number = sorted_list[0], sorted_list[-1]\n",
    "print(bigger_number, smaller_number)"
   ],
   "id": "8390d563d980a70c",
   "outputs": [
    {
     "name": "stdout",
     "output_type": "stream",
     "text": [
      "2 100\n"
     ]
    }
   ],
   "execution_count": 9
  },
  {
   "metadata": {
    "ExecuteTime": {
     "end_time": "2025-03-06T16:31:26.978873Z",
     "start_time": "2025-03-06T16:31:26.960308Z"
    }
   },
   "cell_type": "code",
   "source": [
    "# Soru 2\n",
    "number_bag = list()\n",
    "trash = list()\n",
    "new_list = my_list.copy()\n",
    "new_list.sort()\n",
    "print(new_list)\n",
    "for number in new_list:\n",
    "    if number in trash and number not in number_bag:\n",
    "        number_bag.append(number)\n",
    "    else:\n",
    "        trash.append(number)\n",
    "print(number_bag)"
   ],
   "id": "260f4abe4cc94472",
   "outputs": [
    {
     "name": "stdout",
     "output_type": "stream",
     "text": [
      "[2, 3, 3, 5, 5, 7, 10, 11, 11, 12, 12, 14, 15, 15, 16, 17, 18, 20, 20, 20, 22, 22, 23, 23, 24, 25, 27, 27, 28, 29, 30, 31, 34, 34, 34, 36, 36, 37, 39, 41, 41, 42, 42, 44, 45, 45, 45, 46, 46, 47, 49, 49, 50, 50, 50, 51, 52, 53, 55, 56, 57, 57, 58, 59, 59, 61, 61, 63, 64, 64, 65, 65, 66, 67, 68, 69, 70, 70, 71, 73, 73, 73, 75, 76, 76, 77, 79, 81, 83, 85, 85, 86, 88, 90, 91, 92, 93, 96, 99, 100]\n",
      "[3, 5, 11, 12, 15, 20, 22, 23, 27, 34, 36, 41, 42, 45, 46, 49, 50, 57, 59, 61, 64, 65, 70, 73, 76, 85]\n"
     ]
    }
   ],
   "execution_count": 10
  },
  {
   "metadata": {
    "ExecuteTime": {
     "end_time": "2025-03-06T16:31:27.004197Z",
     "start_time": "2025-03-06T16:31:26.992120Z"
    }
   },
   "cell_type": "code",
   "source": [
    "# Soru 3\n",
    "my_list_2 = [int(rnd.random() * 100) + 1 for _ in range(100)]\n",
    "copy_list = my_list.copy()\n",
    "copy_list.extend(my_list_2)\n",
    "copy_list.sort()\n",
    "print(copy_list)"
   ],
   "id": "6f22c2c6cb27cd1c",
   "outputs": [
    {
     "name": "stdout",
     "output_type": "stream",
     "text": [
      "[1, 2, 2, 2, 2, 3, 3, 4, 5, 5, 5, 5, 5, 5, 6, 6, 7, 7, 7, 7, 9, 9, 9, 10, 11, 11, 12, 12, 13, 13, 13, 14, 14, 14, 15, 15, 16, 16, 17, 18, 19, 19, 20, 20, 20, 20, 21, 22, 22, 23, 23, 23, 24, 24, 24, 24, 25, 25, 26, 27, 27, 28, 28, 29, 29, 30, 30, 30, 31, 31, 31, 33, 33, 34, 34, 34, 34, 34, 36, 36, 36, 36, 37, 39, 40, 41, 41, 41, 42, 42, 42, 44, 44, 45, 45, 45, 46, 46, 46, 46, 46, 47, 47, 47, 49, 49, 49, 50, 50, 50, 50, 50, 51, 51, 52, 52, 52, 53, 54, 54, 54, 54, 55, 56, 57, 57, 57, 58, 58, 59, 59, 59, 59, 61, 61, 61, 62, 63, 63, 63, 64, 64, 64, 65, 65, 65, 65, 66, 67, 68, 68, 68, 69, 70, 70, 70, 71, 72, 73, 73, 73, 73, 74, 74, 75, 76, 76, 76, 77, 78, 78, 79, 79, 81, 81, 83, 84, 84, 84, 85, 85, 86, 86, 88, 88, 90, 91, 92, 92, 93, 94, 94, 94, 96, 96, 96, 98, 98, 99, 100]\n"
     ]
    }
   ],
   "execution_count": 11
  },
  {
   "metadata": {
    "ExecuteTime": {
     "end_time": "2025-03-06T16:31:27.028911Z",
     "start_time": "2025-03-06T16:31:27.023952Z"
    }
   },
   "cell_type": "code",
   "source": [
    "# Soru 4\n",
    "sorted_copy_list = sorted(copy_list)\n",
    "\n",
    "copy_list = [x for x in copy_list if x % 2 != 0] # Kısa yazımı!!\n",
    "\"\"\"\n",
    "for item in sorted_copy_list:\n",
    "    if item % 2 == 0:\n",
    "        copy_list.remove(item)\n",
    "\"\"\"\n",
    "print(copy_list)"
   ],
   "id": "5fc5f17d82070204",
   "outputs": [
    {
     "name": "stdout",
     "output_type": "stream",
     "text": [
      "[1, 3, 3, 5, 5, 5, 5, 5, 5, 7, 7, 7, 7, 9, 9, 9, 11, 11, 13, 13, 13, 15, 15, 17, 19, 19, 21, 23, 23, 23, 25, 25, 27, 27, 29, 29, 31, 31, 31, 33, 33, 37, 39, 41, 41, 41, 45, 45, 45, 47, 47, 47, 49, 49, 49, 51, 51, 53, 55, 57, 57, 57, 59, 59, 59, 59, 61, 61, 61, 63, 63, 63, 65, 65, 65, 65, 67, 69, 71, 73, 73, 73, 73, 75, 77, 79, 79, 81, 81, 83, 85, 85, 91, 93, 99]\n"
     ]
    }
   ],
   "execution_count": 12
  },
  {
   "metadata": {
    "ExecuteTime": {
     "end_time": "2025-03-06T16:31:27.056070Z",
     "start_time": "2025-03-06T16:31:27.039862Z"
    }
   },
   "cell_type": "code",
   "source": [
    "# Soru 6\n",
    "data_set = [\n",
    "    \"kayak\", \"radar\", \"level\", \"kek\", \"python\", \"madam\",\n",
    "    \"robot\", \"racecar\", \"hello\", \"refer\", \"world\", \"civic\",\n",
    "    \"openai\", \"stats\", \"deified\", \"noon\", \"rotor\", \"palindrome\"\n",
    "]\n",
    "def find_palindrome_words(words):\n",
    "    palindrome_words = [x for x in words if x[::-1] == x]\n",
    "    return palindrome_words\n",
    "result = find_palindrome_words(data_set)\n",
    "print(result)\n",
    "result.pop() #Listdeki son elemanı siler\n",
    "print(result)\n",
    "\n",
    "# Diğer sorular çözülmeyecektir. Örnek olarak verilmiştir.\n"
   ],
   "id": "e9509f064b3a37e",
   "outputs": [
    {
     "name": "stdout",
     "output_type": "stream",
     "text": [
      "['kayak', 'radar', 'level', 'kek', 'madam', 'racecar', 'refer', 'civic', 'stats', 'deified', 'noon', 'rotor']\n",
      "['kayak', 'radar', 'level', 'kek', 'madam', 'racecar', 'refer', 'civic', 'stats', 'deified', 'noon']\n"
     ]
    }
   ],
   "execution_count": 13
  },
  {
   "metadata": {},
   "cell_type": "markdown",
   "source": [
    "# Tuple\n",
    "\n",
    "**Tuple:**\n",
    "\n",
    "* **Değiştirilemez (Immutable):**\n",
    "    * Listelerden en büyük farkı, elemanlarının silinemez, değiştirilemez veya güncellenemez olmasıdır. (Ekleme, silme, güncelleme işlemleri yapılamaz).\n",
    "* **Metotlar:**\n",
    "    * Sadece `count()` ve `index()` metotlarını içerir.\n",
    "* **Performans:**\n",
    "    * Performans konusunda listelere göre daha iyidir.\n",
    "* **Sıralı:**\n",
    "    * Tuples sıralı veri yapılarıdır.\n",
    "* **Parantez:**\n",
    "    * Genellikle normal parantez () ile tanımlanırlar.\n",
    "\n",
    "**Özetle:** Tuples, verilerin değişmesini istemediğiniz durumlarda kullanılan, hızlı ve güvenli bir veri yapısıdır.\n"
   ],
   "id": "465d0dfd85bf2e54"
  },
  {
   "metadata": {
    "ExecuteTime": {
     "end_time": "2025-03-06T16:31:27.095974Z",
     "start_time": "2025-03-06T16:31:27.087028Z"
    }
   },
   "cell_type": "code",
   "source": [
    "my_tuple = (1, 2, 3, 4, 5, 6, 7, 8, 9)\n",
    "#my_tuple[0] = 10 # Burada hata alırız!\n",
    "my_tuple.index(2)\n",
    "\n",
    "# Tuple ekleme çıkarma ancak onu bir listeye çevirerek mümkündür\n",
    "tuple_list = list(my_tuple)\n",
    "tuple_list[2] = 10\n",
    "print(tuple_list)\n",
    "\n",
    "#Tuple Unpack\n",
    "my_tuple2 = (1, 2, 3, 4)\n",
    "(x, y, z, d) = my_tuple2\n",
    "print(f\"X: {x}, Y: {y}, Z: {z}, D: {d}\")\n",
    "(x, y, *z) = my_tuple2\n",
    "print(f\"X: {x}, Y: {y}, Z: {z}\")"
   ],
   "id": "25e48a22bbfdcdf8",
   "outputs": [
    {
     "name": "stdout",
     "output_type": "stream",
     "text": [
      "[1, 2, 10, 4, 5, 6, 7, 8, 9]\n",
      "X: 1, Y: 2, Z: 3, D: 4\n",
      "X: 1, Y: 2, Z: [3, 4]\n"
     ]
    }
   ],
   "execution_count": 14
  },
  {
   "metadata": {},
   "cell_type": "markdown",
   "source": [
    "# Set / Küme\n",
    "\n",
    "## Kümeler (Sets)\n",
    "\n",
    "Kümeler, birden çok öğeyi tek bir değişkende saklamak için kullanılır. Kümeler şu özelliklere sahiptir:\n",
    "\n",
    "* **Sırasız (Unordered):** Kümelerdeki öğelerin belirli bir sırası yoktur. Bu nedenle, öğelere indeks veya anahtar ile erişilemez. Her kullanıldığında farklı bir sırada görünebilirler.\n",
    "* **Değiştirilemez (Immutable):** Kümeler oluşturulduktan sonra içindeki öğeler değiştirilemez. Ancak, kümeye yeni öğeler eklenebilir veya mevcut öğeler kaldırılabilir.\n",
    "* **Yinelenen Değerlere İzin Vermez (No Duplicate Values):** Bir küme içinde aynı değer birden fazla kez bulunamaz. Her değer yalnızca bir kez saklanır.\n",
    "* **Küme Parantezleri ile Tanımlanır (Defined with Curly Braces):** Kümeler, küme parantezleri `{}` içinde virgülle ayrılmış öğelerle tanımlanır.\n",
    "\n",
    "### Kümelerin Temel Özellikleri\n",
    "\n",
    "* Kümeler, matematiksel kümelerin bilgisayar bilimlerindeki karşılığıdır.\n",
    "* Veri yapısı olarak, benzersiz öğelerin koleksiyonunu temsil ederler.\n",
    "* Kümeler, elemanlarının varlığını hızlı bir şekilde kontrol etmek için kullanılabilir.\n",
    "\n",
    "### Kümeler ve Diğer Veri Yapıları Arasındaki Farklar\n",
    "\n",
    "| Veri Yapısı | Sıralı mı? | Değiştirilebilir mi? | Yinelenen Değerlere İzin Verir mi? |\n",
    "|:------------| :-------- | :------------------ | :---------------------------------- |\n",
    "| Liste       | Evet      | Evet                | Evet                                |\n",
    "| Tuple       | Evet      | Hayır               | Evet                                |\n",
    "| Küme        | Hayır     | Kısmen (öğeler değiştirilemez, ancak eklenebilir/çıkarılabilir) | Hayır                               |\n",
    "| Sözlük      | 3.7 den önce hayır. 3.7 den sonra evet. | Evet                | Anahtarlar hayır, değerler evet. |\n",
    "\n",
    "### Kümelerle Yapılabilecek Bazı İşlemler\n",
    "\n",
    "## Set Metotları\n",
    "\n",
    "| Metot                       | Açıklama                                                                                                   |\n",
    "|-----------------------------|-------------------------------------------------------------------------------------------------------------|\n",
    "| `add()`                     | Kümeye bir eleman ekler.                                                                                     |\n",
    "| `clear()`                   | Kümedeki tüm elemanları siler.                                                                              |\n",
    "| `copy()`                    | Kümenin bir kopyasını döndürür.                                                                             |\n",
    "| `difference()`              | İki veya daha fazla küme arasındaki farkı içeren bir küme döndürür.                                          |\n",
    "| `difference_update()`       | Bu kümede, belirtilen diğer kümede de bulunan öğeleri siler.                                              |\n",
    "| `discard()`                 | Belirtilen öğeyi siler (eğer varsa).                                                                        |\n",
    "| `intersection()`            | İki kümenin kesişimini içeren bir küme döndürür.                                                            |\n",
    "| `intersection_update()`     | Bu kümede, belirtilen diğer kümede(lerde) bulunmayan öğeleri siler.                                        |\n",
    "| `isdisjoint()`              | İki kümenin kesişimi olup olmadığını döndürür.                                                              |\n",
    "| `issubset()`                | Başka bir kümenin bu kümeyi içerip içermediğini döndürür.                                                   |\n",
    "| `issuperset()`              | Bu kümenin başka bir kümeyi içerip içermediğini döndürür.                                                   |\n",
    "| `pop()`                     | Kümeden rastgele bir eleman siler.                                                                           |\n",
    "| `remove()`                  | Belirtilen elemanı siler (eğer yoksa hata verir).                                                            |\n",
    "| `symmetric_difference()`    | İki kümenin simetrik farklarını içeren bir küme döndürür.                                                     |\n",
    "| `symmetric_difference_update()` | Bu küme ve başka bir kümenin simetrik farklarını bu kümeye ekler.                                            |\n",
    "| `union()`                   | Kümelerin birleşimini içeren bir küme döndürür.                                                               |\n",
    "| `update()`                  | Bu kümeyi, bu küme ve diğer kümelerin birleşimiyle günceller.                                                |\n"
   ],
   "id": "58952ff117ebaf20"
  },
  {
   "metadata": {
    "ExecuteTime": {
     "end_time": "2025-03-06T16:31:27.123100Z",
     "start_time": "2025-03-06T16:31:27.118197Z"
    }
   },
   "cell_type": "code",
   "source": [
    "fruits = {\"apple\", \"orange\", \"banana\"}\n",
    "fruits.isdisjoint({\"apple\", \"orange\", \"banana\", \"cherry\"})\n",
    "new_set = fruits.intersection({\"apple\", \"orange\" , 12 , 20})\n",
    "new_set"
   ],
   "id": "112d5af16f8d8738",
   "outputs": [
    {
     "data": {
      "text/plain": [
       "{'apple', 'orange'}"
      ]
     },
     "execution_count": 15,
     "metadata": {},
     "output_type": "execute_result"
    }
   ],
   "execution_count": 15
  },
  {
   "metadata": {},
   "cell_type": "markdown",
   "source": [
    "# Dictionary\n",
    "\n",
    "## Sözlükler (Dictionaries)\n",
    "\n",
    "Sözlükler, veri değerlerini **key:value** çiftlerinde depolamak için kullanılır.\n",
    "\n",
    "### Temel Özellikler\n",
    "\n",
    "* **Sıralı\\***: Python 3.7 sürümünden itibaren sözlükler sıralanmıştır. Python 3.6 ve önceki sürümlerde sözlükler sırasızdır.\n",
    "    * Sıralı (Ordered): Öğelerin belirli bir sırası vardır ve bu sıra korunur.\n",
    "    * Sırasız (Unordered): Öğelerin belirli bir sırası yoktur.\n",
    "* **Değiştirilebilir (Mutable):** Sözlükler, oluşturulduktan sonra değiştirilebilir. Yani, key-value çiftleri eklenebilir, silinebilir veya güncellenebilir.\n",
    "* **Yinelemelere İzin Vermez (No Duplicates):** Sözlüklerde anahtarlar (keys) benzersiz olmalıdır. Aynı anahtar birden fazla kez kullanılamaz. Ancak, değerler (values) yinelenen olabilir.\n",
    "\n",
    "### Önemli Not\n",
    "\n",
    "* Python 3.7'den önce, sözlüklerin sıralı olup olmadığı garanti edilmiyordu. Bu nedenle, key-value çiftlerinin sırasına güvenmek mümkün değildi.\n",
    "* Python 3.7 ve sonraki sürümlerde, sözlükler ekleme sırasını korur. Bu, key-value çiftlerinin eklendiği sırayla tutulduğu anlamına gelir.\n",
    "* Sözlükler, verileri hızlı bir şekilde aramak ve erişmek için kullanışlı bir veri yapısıdır.\n",
    "\n",
    "## Sözlük (Dictionary) Metotları\n",
    "\n",
    "| Metot          | Açıklama                                                                                                                              |\n",
    "|----------------|---------------------------------------------------------------------------------------------------------------------------------------|\n",
    "| `clear()`      | Sözlükteki tüm öğeleri siler.                                                                                                        |\n",
    "| `copy()`       | Sözlüğün bir kopyasını döndürür.                                                                                                     |\n",
    "| `fromkeys()`   | Belirtilen anahtarlar ve değer ile bir sözlük döndürür.                                                                              |\n",
    "| `get()`        | Belirtilen anahtarın değerini döndürür.                                                                                              |\n",
    "| `items()`      | Her anahtar-değer çifti için bir demet içeren bir liste döndürür.                                                                      |\n",
    "| `keys()`       | Sözlüğün anahtarlarını içeren bir liste döndürür.                                                                                    |\n",
    "| `pop()`        | Belirtilen anahtara sahip öğeyi siler.                                                                                                |\n",
    "| `popitem()`    | En son eklenen anahtar-değer çiftini siler.                                                                                            |\n",
    "| `setdefault()` | Belirtilen anahtarın değerini döndürür. Anahtar yoksa, belirtilen değerle anahtarı ekler.                                            |\n",
    "| `update()`     | Sözlüğü belirtilen anahtar-değer çiftleriyle günceller.                                                                               |\n",
    "| `values()`     | Sözlükteki tüm değerlerin bir listesini döndürür.                                                                                     |"
   ],
   "id": "4b48a803e915f6ef"
  },
  {
   "metadata": {
    "ExecuteTime": {
     "end_time": "2025-03-06T16:52:10.186368Z",
     "start_time": "2025-03-06T16:52:10.176742Z"
    }
   },
   "cell_type": "code",
   "source": [
    "dict1 = {\"brand\": \"Ford\", \"model\": \"mustang\", \"year\": 1964, \"year\": 2020} #yinelenmeye izin vermez üstüne yazar!!\n",
    "print(dict1)\n",
    "dict2 = {\"brand\": \"Ford\", \"model\": \"mustang\", \"year\": 1964}\n",
    "dict2.update({\"Color\": \"Red\"})\n",
    "print(dict2)\n",
    "keys = dict2.keys()\n",
    "values = dict2.values()\n",
    "items = dict2.items()\n",
    "print(f\"Keys: {list(keys)}, Values: {list(values)}, Items: {list(items)}\")\n",
    "dict2[\"color\"] = \"white\"\n",
    "print(f\"Keys: {list(keys)}, Values: {list(values)}, Items: {list(items)}\") # Sözlük içindeki bir değişiklik direkt yansır\n",
    "dict2.popitem()\n",
    "print(f\"Keys: {list(keys)}, Values: {list(values)}, Items: {list(items)}\")\n",
    "dict2.clear()\n",
    "print(f\"Keys: {list(keys)}, Values: {list(values)}, Items: {list(items)}\")\n",
    "\n",
    "# Copy metodu değer olarak kopyalama yapar. Direkt atama yapılırsa referans ataması yapılmış olunur. Ayrıca sözlükler iç içe de tanımlanabilir. Bir dictionary içine her türden veri yazılabilir!!"
   ],
   "id": "d9c059d03798511e",
   "outputs": [
    {
     "name": "stdout",
     "output_type": "stream",
     "text": [
      "{'brand': 'Ford', 'model': 'mustang', 'year': 2020}\n",
      "{'brand': 'Ford', 'model': 'mustang', 'year': 1964, 'Color': 'Red'}\n",
      "Keys: ['brand', 'model', 'year', 'Color'], Values: ['Ford', 'mustang', 1964, 'Red'], Items: [('brand', 'Ford'), ('model', 'mustang'), ('year', 1964), ('Color', 'Red')]\n",
      "Keys: ['brand', 'model', 'year', 'Color', 'color'], Values: ['Ford', 'mustang', 1964, 'Red', 'white'], Items: [('brand', 'Ford'), ('model', 'mustang'), ('year', 1964), ('Color', 'Red'), ('color', 'white')]\n",
      "Keys: ['brand', 'model', 'year', 'Color'], Values: ['Ford', 'mustang', 1964, 'Red'], Items: [('brand', 'Ford'), ('model', 'mustang'), ('year', 1964), ('Color', 'Red')]\n",
      "Keys: [], Values: [], Items: []\n"
     ]
    }
   ],
   "execution_count": 22
  },
  {
   "metadata": {
    "ExecuteTime": {
     "end_time": "2025-03-06T16:31:27.290958Z",
     "start_time": "2025-03-06T16:31:27.287937Z"
    }
   },
   "cell_type": "code",
   "source": "",
   "id": "a07dbe9f2f076a2a",
   "outputs": [],
   "execution_count": null
  }
 ],
 "metadata": {
  "kernelspec": {
   "display_name": "Python 3",
   "language": "python",
   "name": "python3"
  },
  "language_info": {
   "codemirror_mode": {
    "name": "ipython",
    "version": 2
   },
   "file_extension": ".py",
   "mimetype": "text/x-python",
   "name": "python",
   "nbconvert_exporter": "python",
   "pygments_lexer": "ipython2",
   "version": "2.7.6"
  }
 },
 "nbformat": 4,
 "nbformat_minor": 5
}
