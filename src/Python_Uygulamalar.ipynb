{
 "cells": [
  {
   "metadata": {},
   "cell_type": "markdown",
   "source": [
    "İşte **1. Hafta** için gün gün detaylandırılmış plan. Her gün maksimum 3-4 saatlik çalışma içerecek şekilde bölünmüştür:\n",
    "\n",
    "---\n",
    "\n",
    "### **Gün 1: Temel Grid Yapısını Oluşturma**\n",
    "**Hedef:** 4x4 grid oluştur ve konsolda görselleştir.\n",
    "**Yapılacaklar:**\n",
    "1. Python'da 4x4'lük bir liste (matris) oluştur:\n",
    "   ```python\n",
    "   grid = [[{} for _ in range(4)] for _ in range(4)]\n",
    "   ```\n",
    "2. Her hücreye koordinat bilgisi ekle (örneğin, `(0,0)` sol üst köşe).\n",
    "3. Grid'i konsola basit sembollerle yazdır:\n",
    "   ```\n",
    "   +---+---+---+---+\n",
    "   |   |   |   |   |\n",
    "   +---+---+---+---+\n",
    "   |   |   |   |   |\n",
    "   +---+---+---+---+\n",
    "   |   |   |   |   |\n",
    "   +---+---+---+---+\n",
    "   |   |   |   |   |\n",
    "   +---+---+---+---+\n",
    "   ```\n",
    "**Test:** `print_grid()` fonksiyonu grid’i doğru şekilde yazdırmalı.\n",
    "\n",
    "---\n",
    "\n",
    "### **Gün 2: Rastgele Altın Yerleştirme**\n",
    "**Hedef:** Grid’de rastgele bir hücreye altın ekle.\n",
    "**Yapılacaklar:**\n",
    "1. `random` kütüphanesi ile rastgele bir koordinat seç:\n",
    "   ```python\n",
    "   import random\n",
    "   gold_row = random.randint(0, 3)\n",
    "   gold_col = random.randint(0, 3)\n",
    "   grid[gold_row][gold_col][\"gold\"] = True\n",
    "   ```\n",
    "2. Altın’ın sadece **1 hücrede** olmasını garanti et.\n",
    "3. Grid’i altın simgesi (`G`) ile güncelle:\n",
    "   ```\n",
    "   +---+---+---+---+\n",
    "   |   | G |   |   |\n",
    "   +---+---+---+---+\n",
    "   ... (diğer satırlar)\n",
    "   ```\n",
    "**Test:** Altın her seferinde farklı bir hücrede oluşmalı.\n",
    "\n",
    "---\n",
    "\n",
    "### **Gün 3: Wumpus ve Çukurları Yerleştir**\n",
    "**Hedef:** 1 Wumpus ve 3 çukur rastgele yerleştir.\n",
    "**Kurallar:**\n",
    "- Wumpus ve Altın aynı hücrede olamaz.\n",
    "- Çukurlar Wumpus/Altın ile çakışmamalı.\n",
    "**Yapılacaklar:**\n",
    "1. Wumpus için rastgele koordinat seç (Altın olmayan bir hücrede).\n",
    "2. 3 çukur için rastgele koordinatlar seç (Wumpus ve Altın’dan farklı).\n",
    "3. Grid’i `W` (Wumpus) ve `P` (Pit) ile güncelle.\n",
    "**Test:** Tüm nesneler çakışmadan yerleşmeli.\n",
    "\n",
    "---\n",
    "\n",
    "### **Gün 4: Ajanı Başlangıç Konumuna Yerleştir**\n",
    "**Hedef:** Ajanı `(0,0)` konumuna yerleştir ve yön bilgisini ekle.\n",
    "**Yapılacaklar:**\n",
    "1. Ajanın konum ve yön bilgilerini tutan bir sözlük oluştur:\n",
    "   ```python\n",
    "   agent = {\n",
    "       \"row\": 0,\n",
    "       \"col\": 0,\n",
    "       \"direction\": \"right\",  # right/left/up/down\n",
    "       \"arrow\": 1\n",
    "   }\n",
    "   ```\n",
    "2. Ajanın bulunduğu hücreyi konsolda `A` ile işaretle.\n",
    "**Test:** Ajan başlangıçta `(0,0)`’da görünmeli.\n",
    "\n",
    "---\n",
    "\n",
    "### **Gün 5: Algı Sistemini Kodla**\n",
    "**Hedef:** Ajanın bulunduğu hücrenin komşularını kontrol edip algıları raporla.\n",
    "**Yapılacaklar:**\n",
    "1. Ajanın mevcut hücresinin komşularını kontrol et:\n",
    "   - Wumpus komşuda ise → \"Koku\" algıla.\n",
    "   - Çukur komşuda ise → \"Rüzgar\" algıla.\n",
    "   - Altın bulunduğu hücrede ise → \"Parıltı\" algıla.\n",
    "2. Algıları konsola yazdır:\n",
    "   ```\n",
    "   Algılar: [Parıltı, Rüzgar]\n",
    "   ```\n",
    "**Test:** Altın’ın olduğu hücrede \"Parıltı\" algılanmalı.\n",
    "\n",
    "---\n",
    "\n",
    "### **Gün 6: Ajan Hareket Mekaniği**\n",
    "**Hedef:** Ajanın ileri gitme ve sağa/sola dönme fonksiyonlarını ekle.\n",
    "**Yapılacaklar:**\n",
    "1. `move_forward()` fonksiyonu:\n",
    "   - Yön bilgisine göre konumu güncelle (örneğin, yön \"right\" ise `col += 1`).\n",
    "2. `turn_left()` ve `turn_right()` fonksiyonları:\n",
    "   - Yönü güncelle (örneğin, \"right\" → \"up\" sola dönüşte).\n",
    "3. Grid sınırlarını kontrol et (ajan dışarı çıkamaz).\n",
    "**Test:** Ajan grid içinde hareket edebilmeli.\n",
    "\n",
    "---\n",
    "\n",
    "### **Gün 7: Ölüm/Kazanma Kontrolü**\n",
    "**Hedef:** Ajanın Wumpus/Çukura düşmesini veya altını almasını kontrol et.\n",
    "**Yapılacaklar:**\n",
    "1. Her hareket sonrası kontrol:\n",
    "   - Ajan Wumpus/Çukur hücresindeyse → Oyunu kaybetti.\n",
    "   - Ajan Altın’ı aldıysa → Oyunu kazandı.\n",
    "2. Sonucu konsola yazdır:\n",
    "   ```\n",
    "   Oyun Bitti! Sebep: Wumpus tarafından yenildiniz!\n",
    "   ```\n",
    "**Test:** Ajan tehlikeli hücreye adım atınca oyun bitmeli.\n",
    "\n",
    "---\n",
    "\n",
    "### **1. Hafta Sonu Beklenen Çıktı**\n",
    "- **Konsol Tabanlı Oyun:**\n",
    "  ```\n",
    "  +---+---+---+---+\n",
    "  | A | W | P |   |\n",
    "  +---+---+---+---+\n",
    "  | P |   | G |   |\n",
    "  +---+---+---+---+\n",
    "  |   |   | P |   |\n",
    "  +---+---+---+---+\n",
    "  |   |   |   |   |\n",
    "  +---+---+---+---+\n",
    "  Algılar: [Koku]\n",
    "  Komutlar: ileri, sol, sağ, al\n",
    "  ```\n",
    "\n",
    "---\n",
    "\n",
    "### 🛠️ **İpuçları**\n",
    "- Her günün sonunda kodu GitHub'a yükle.\n",
    "- Hata ayıklama için `print()` fonksiyonunu bolca kullan.\n",
    "- Basit tut: İlk hafta görselleştirme yerine konsol çıktısına odaklan.\n",
    "\n",
    "Bu planla 1. haftanın sonunda **temel oyun motorunu** tamamlamış olacaksın. 🚀"
   ],
   "id": "2363030e264997cc"
  },
  {
   "metadata": {
    "ExecuteTime": {
     "end_time": "2025-03-07T08:55:12.297130Z",
     "start_time": "2025-03-07T08:55:12.285851Z"
    }
   },
   "cell_type": "code",
   "source": [
    "from sqlalchemy import false\n",
    "\n",
    "cell = {\n",
    "    \"x\": 0,\n",
    "    \"y\": 0,\n",
    "    \"stench\": 0,\n",
    "    \"breeze\": 0,\n",
    "    \"gold\": 0,\n",
    "    \"wumpus\": 0,\n",
    "    \"pit\": 0,\n",
    "    \"agent\": 0,\n",
    "}\n",
    "grid = [[{**cell, \"x\": j, \"y\": i} for i in range(4)] for j in range(4)]\n",
    "\n",
    "def print_grid(grid):\n",
    "    max_letter = 1\n",
    "    for row in grid:\n",
    "        for cell in row:\n",
    "            cell_max_letter = cell[\"stench\"] + cell[\"breeze\"] + cell[\"gold\"] + cell[\"pit\"] + cell[\"agent\"] + cell[\"wumpus\"]\n",
    "            if cell_max_letter > max_letter:\n",
    "                max_letter = cell_max_letter\n",
    "\n",
    "    cell_width = max_letter * 3\n",
    "\n",
    "    for row in grid:\n",
    "        print((\"+\" + \"-\" * cell_width) * len(row) + \"+\")\n",
    "        for current_cell in row:\n",
    "            letters = []\n",
    "            for key, value in current_cell.items():\n",
    "                if key != \"x\" and key != \"y\" and value == 1:\n",
    "                    letters.append(print_letter(key))\n",
    "            content = \" \".join(letters)\n",
    "            padding = \" \" * (cell_width - len(content) - 1)\n",
    "            print(f\"! {content}{padding}\", end=\"\")\n",
    "        print(\"!\")\n",
    "    print((\"+\" + \"-\" * cell_width) * len(grid[0]) + \"+\")\n",
    "\n",
    "def print_letter(name):\n",
    "    if name == \"gold\":\n",
    "        return \"G\"\n",
    "    if name == \"breeze\":\n",
    "        return \"B\"\n",
    "    if name == \"pit\":\n",
    "        return \"P\"\n",
    "    if name == \"agent\":\n",
    "        return \"A\"\n",
    "    if name == \"wumpus\":\n",
    "        return \"W\"\n",
    "    if name == \"stench\":\n",
    "        return \"S\"\n",
    "print_grid(grid)"
   ],
   "id": "c51d9e7dd41d7bc7",
   "outputs": [
    {
     "name": "stdout",
     "output_type": "stream",
     "text": [
      "+---+---+---+---+\n",
      "!   !   !   !   !\n",
      "+---+---+---+---+\n",
      "!   !   !   !   !\n",
      "+---+---+---+---+\n",
      "!   !   !   !   !\n",
      "+---+---+---+---+\n",
      "!   !   !   !   !\n",
      "+---+---+---+---+\n"
     ]
    }
   ],
   "execution_count": 88
  },
  {
   "metadata": {
    "ExecuteTime": {
     "end_time": "2025-03-07T08:55:12.884973Z",
     "start_time": "2025-03-07T08:55:12.877332Z"
    }
   },
   "cell_type": "code",
   "source": [
    "import random as rnd\n",
    "\n",
    "\"\"\"\n",
    "def place_random_gold(grid):\n",
    "    x, y = rnd.randint(0, len(grid) - 1), rnd.randint(0, len(grid) - 1)\n",
    "    cell = grid[x][y]\n",
    "    cell[\"gold\"] = 1\n",
    "    for loc in find_neighbours(cell):\n",
    "        neighbour_cell = grid[loc[\"x\"]][loc[\"y\"]]\n",
    "        neighbour_cell[\"glitter\"] = 1\n",
    "\"\"\"\n",
    "\n",
    "def find_neighbours(cell):\n",
    "    x, y = cell[\"x\"], cell[\"y\"]\n",
    "    neighbours = [{\"x\": x + 1 if x + 1 < len(grid) else None, \"y\": y}, {\"x\": x - 1 if x -1 > 0 else None, \"y\": y}, {\"x\": x, \"y\": y + 1 if y + 1 < len(grid[0]) else None}, {\"x\": x, \"y\": y - 1 if y - 1 > 0 else None}]\n",
    "    return [neighbour for neighbour in neighbours if neighbour[\"x\"] is not None and neighbour[\"y\"] is not None]\n",
    "\n",
    "#place_random_gold(grid)\n",
    "print_grid(grid)"
   ],
   "id": "494d63333409b455",
   "outputs": [
    {
     "name": "stdout",
     "output_type": "stream",
     "text": [
      "+---+---+---+---+\n",
      "!   !   !   !   !\n",
      "+---+---+---+---+\n",
      "!   !   !   !   !\n",
      "+---+---+---+---+\n",
      "!   !   !   !   !\n",
      "+---+---+---+---+\n",
      "!   !   !   !   !\n",
      "+---+---+---+---+\n"
     ]
    }
   ],
   "execution_count": 89
  },
  {
   "metadata": {
    "ExecuteTime": {
     "end_time": "2025-03-07T08:55:40.022360Z",
     "start_time": "2025-03-07T08:55:40.011484Z"
    }
   },
   "cell_type": "code",
   "source": [
    "# Rastgele wumpus, altın ve pit yerleşimi (3 pit)\n",
    "grid = [[{**cell, \"x\": j, \"y\": i} for i in range(4)] for j in range(4)]\n",
    "\n",
    "def place_random_gold(grid):\n",
    "    # Random location üret\n",
    "    # Bu lokasyonda wumpus ya da pit var mı kontrol et, varsa yeni bir random yer seç\n",
    "    is_legal_place = False\n",
    "    current_cell = {}\n",
    "    while not is_legal_place:\n",
    "        x, y = rnd.randint(0, len(grid) -1), rnd.randint(0, len(grid) - 1)\n",
    "        current_cell = grid[x][y]\n",
    "        if current_cell[\"wumpus\"] == 1 or current_cell[\"pit\"] == 1:\n",
    "            is_legal_place = False\n",
    "        else:\n",
    "            is_legal_place = True\n",
    "    current_cell[\"gold\"] = 1\n",
    "\n",
    "def place_random_pit(grid, pit_number):\n",
    "    # Bunu pit_number kadar tekrarla!\n",
    "    for _ in range(pit_number):\n",
    "        # Random bir yer üret\n",
    "        # Bu yerde gold olup olmadığını kontrol et varsa başka bir yer seç.\n",
    "        is_legal_place = False\n",
    "        current_cell = {}\n",
    "        while not is_legal_place:\n",
    "            x, y = rnd.randint(0, len(grid) -1), rnd.randint(0, len(grid) - 1)\n",
    "            current_cell = grid[x][y]\n",
    "            if current_cell[\"gold\"] == 1:\n",
    "                is_legal_place = False\n",
    "            else:\n",
    "                is_legal_place = True\n",
    "\n",
    "        current_cell[\"pit\"] = 1\n",
    "        # Grid'de ilgili yer ve komşuları için bilgileri güncelle.\n",
    "        for neighbour_loc in find_neighbours(current_cell):\n",
    "            neighbour_cell = grid[neighbour_loc[\"x\"]][neighbour_loc[\"y\"]]\n",
    "            neighbour_cell[\"breeze\"] = 1\n",
    "\n",
    "def place_random_wumpus(grid):\n",
    "    is_legal_place = False\n",
    "    current_cell = {}\n",
    "    while not is_legal_place:\n",
    "        x, y = rnd.randint(0, len(grid) -1), rnd.randint(0, len(grid) - 1)\n",
    "        current_cell = grid[x][y]\n",
    "        if current_cell[\"gold\"] == 1:\n",
    "            is_legal_place = False\n",
    "        else:\n",
    "            is_legal_place = True\n",
    "    current_cell[\"wumpus\"] = 1\n",
    "    for neighbour_loc in find_neighbours(current_cell):\n",
    "        neighbour_cell = grid[neighbour_loc[\"x\"]][neighbour_loc[\"y\"]]\n",
    "        neighbour_cell[\"stench\"] = 1\n",
    "\n",
    "place_random_wumpus(grid)\n",
    "place_random_gold(grid)\n",
    "place_random_pit(grid, 3)\n",
    "\n",
    "print_grid(grid)"
   ],
   "id": "6f904f5b2329540",
   "outputs": [
    {
     "name": "stdout",
     "output_type": "stream",
     "text": [
      "+------+------+------+------+\n",
      "! P    ! B    ! B    ! P    !\n",
      "+------+------+------+------+\n",
      "! S B  !      ! B    ! B P  !\n",
      "+------+------+------+------+\n",
      "! W    ! S    !      ! B    !\n",
      "+------+------+------+------+\n",
      "! S    !      ! G    !      !\n",
      "+------+------+------+------+\n"
     ]
    }
   ],
   "execution_count": 93
  },
  {
   "metadata": {
    "ExecuteTime": {
     "end_time": "2025-03-07T09:29:22.526468Z",
     "start_time": "2025-03-07T09:29:22.513407Z"
    }
   },
   "cell_type": "code",
   "source": [
    "# Map Sınıfı\n",
    "class Map:\n",
    "    cell = {\n",
    "        \"x\": 0,\n",
    "        \"y\": 0,\n",
    "        \"stench\": 0,\n",
    "        \"breeze\": 0,\n",
    "        \"gold\": 0,\n",
    "        \"wumpus\": 0,\n",
    "        \"pit\": 0,\n",
    "        \"agent\": 0\n",
    "    }\n",
    "    map_letters = {\n",
    "        \"stench\": \"A\",\n",
    "        \"breeze\": \"B\",\n",
    "        \"gold\": \"G\",\n",
    "        \"wumpus\": \"W\",\n",
    "        \"pit\": \"P\",\n",
    "        \"agent\": \"A\"\n",
    "    }\n",
    "    def __init__(self, map_size = 4, pit_number = 3, wumpus_number = 1):\n",
    "        self.map = [[{**self.cell, \"x\": i, \"y\": j} for j in range(map_size)] for i in range(map_size)]\n",
    "        self.map_size = map_size\n",
    "        self.pit_num = pit_number\n",
    "        self.wumpus_num = wumpus_number\n",
    "\n",
    "    def print_map(self):\n",
    "        max_letter = 1\n",
    "        for row in self.map:\n",
    "            for current_cell in row:\n",
    "                cell_max_letter = current_cell[\"stench\"] + current_cell[\"breeze\"] + current_cell[\"gold\"] + current_cell[\"pit\"] + current_cell[\"agent\"] + current_cell[\"wumpus\"]\n",
    "                if cell_max_letter > max_letter:\n",
    "                    max_letter = cell_max_letter\n",
    "        cell_width = max_letter * 3\n",
    "\n",
    "        for row in self.map:\n",
    "            print((\"+\" + \"-\" * cell_width) * self.map_size + \"+\")\n",
    "            for current_cell in row:\n",
    "                letters = []\n",
    "                for key, value in current_cell.items():\n",
    "                    if key != \"x\" and key != \"y\" and value == 1:\n",
    "                        letters.append(self.map_letters.get(key))\n",
    "                content = \" \".join(letters)\n",
    "                padding = \" \" * (cell_width - len(content) - 1)\n",
    "                print(f\"! {content}{padding}\", end=\"\")\n",
    "            print(\"!\")\n",
    "\n",
    "        print((\"+\" + \"-\" * cell_width) * self.map_size + \"+\")\n",
    "\n",
    "    def find_neighbours(self, current_cell):\n",
    "        x, y = current_cell[\"x\"], current_cell[\"y\"]\n",
    "        neighbours = [{\"x\": x + 1 if x + 1 < self.map_size else None, \"y\": y}, {\"x\": x - 1 if x -1 > 0 else None, \"y\": y}, {\"x\": x, \"y\": y + 1 if y + 1 < self.map_size else None}, {\"x\": x, \"y\": y - 1 if y - 1 > 0 else None}]\n",
    "        return [neighbour for neighbour in neighbours if neighbour[\"x\"] is not None and neighbour[\"y\"] is not None]\n",
    "\n",
    "    def place_random_gold(self):\n",
    "        is_legal_place = False\n",
    "        current_cell = {}\n",
    "        while not is_legal_place:\n",
    "            x, y = rnd.randint(0, self.map_size -1), rnd.randint(0, self.map_size - 1)\n",
    "            current_cell = self.map[x][y]\n",
    "            if current_cell[\"wumpus\"] == 1 or current_cell[\"pit\"] == 1:\n",
    "                is_legal_place = False\n",
    "            else:\n",
    "                is_legal_place = True\n",
    "        current_cell[\"gold\"] = 1\n",
    "\n",
    "    def place_random_pit(self):\n",
    "        for _ in range(self.pit_num):\n",
    "            is_legal_place = False\n",
    "            current_cell = {}\n",
    "            while not is_legal_place:\n",
    "                x, y = rnd.randint(0, self.map_size -1), rnd.randint(0, self.map_size - 1)\n",
    "                current_cell = self.map[x][y]\n",
    "                if current_cell[\"gold\"] == 1:\n",
    "                    is_legal_place = False\n",
    "                else:\n",
    "                    is_legal_place = True\n",
    "\n",
    "            current_cell[\"pit\"] = 1\n",
    "            for neighbour_loc in self.find_neighbours(current_cell):\n",
    "                neighbour_cell = self.map[neighbour_loc[\"x\"]][neighbour_loc[\"y\"]]\n",
    "                neighbour_cell[\"breeze\"] = 1\n",
    "\n",
    "    def place_random_wumpus(self):\n",
    "        is_legal_place = False\n",
    "        current_cell = {}\n",
    "        while not is_legal_place:\n",
    "            x, y = rnd.randint(0, self.map_size -1), rnd.randint(0, self.map_size - 1)\n",
    "            current_cell = self.map[x][y]\n",
    "            if current_cell[\"gold\"] == 1:\n",
    "                is_legal_place = False\n",
    "            else:\n",
    "                is_legal_place = True\n",
    "        current_cell[\"wumpus\"] = 1\n",
    "        for neighbour_loc in self.find_neighbours(current_cell):\n",
    "            neighbour_cell = self.map[neighbour_loc[\"x\"]][neighbour_loc[\"y\"]]\n",
    "            neighbour_cell[\"stench\"] = 1\n",
    "\n",
    "    def clear_map(self):\n",
    "        self.map = [[{**cell, \"x\": i, \"y\": j} for j in range(self.map_size)] for i in range(self.map_size)]\n",
    "        return\n",
    "\n",
    "    def fill_the_map(self):\n",
    "        self.place_random_gold()\n",
    "        self.place_random_wumpus()\n",
    "        self.place_random_pit()"
   ],
   "id": "decf4ce2e34465db",
   "outputs": [],
   "execution_count": 97
  },
  {
   "metadata": {
    "ExecuteTime": {
     "end_time": "2025-03-07T09:29:23.052163Z",
     "start_time": "2025-03-07T09:29:23.044143Z"
    }
   },
   "cell_type": "code",
   "source": [
    "map = Map()\n",
    "map.fill_the_map()\n",
    "map.print_map()"
   ],
   "id": "bda026b5e380f2bd",
   "outputs": [
    {
     "name": "stdout",
     "output_type": "stream",
     "text": [
      "+------+------+------+------+\n",
      "!      ! B P  ! B P  ! B    !\n",
      "+------+------+------+------+\n",
      "!      ! B G  ! B    !      !\n",
      "+------+------+------+------+\n",
      "!      ! A P  ! B    !      !\n",
      "+------+------+------+------+\n",
      "!      ! B W  ! A    !      !\n",
      "+------+------+------+------+\n"
     ]
    }
   ],
   "execution_count": 98
  },
  {
   "metadata": {
    "ExecuteTime": {
     "end_time": "2025-03-07T09:30:58.280775Z",
     "start_time": "2025-03-07T09:30:58.268934Z"
    }
   },
   "cell_type": "code",
   "source": [
    "# Simülation\n",
    "class Simulation:\n",
    "    def __init__(self):\n",
    "        self.agent= {\n",
    "            \"x\": 0,\n",
    "            \"y\": 0,\n",
    "            \"direction\": \"\",\n",
    "            \"arrow\": 1\n",
    "        }\n",
    "        self.map = Map()\n",
    "        self.map.fill_the_map()\n",
    "    def game_loop(self):\n",
    "        while True:\n",
    "            pass\n",
    "            # actions = from agent\n",
    "            # apply actions\n",
    "            # Harita durumunu güncelle\n",
    "            # Agent'ın konumuna göre sensörlerine ilgili birileri ilet."
   ],
   "id": "3f0a1d4114f468b5",
   "outputs": [],
   "execution_count": 99
  },
  {
   "metadata": {},
   "cell_type": "code",
   "outputs": [],
   "execution_count": null,
   "source": [
    "# Agent\n",
    "# https://github.com/aimacode/aima-python/blob/master/logic4e.py#L557 incele!!\n",
    "class KnowledgeBaseAgent:\n",
    "    def __init__(self):\n",
    "        self.KB = {}\n",
    "        pass\n",
    "\n",
    "    def program(self):\n",
    "        pass"
   ],
   "id": "ff8d6f27a1374cf0"
  },
  {
   "metadata": {
    "ExecuteTime": {
     "end_time": "2025-03-25T07:20:25.505977Z",
     "start_time": "2025-03-25T07:20:25.496931Z"
    }
   },
   "cell_type": "code",
   "source": [
    "x = [\n",
    "    \"a\",\n",
    "    \"b\",\n",
    "    {\n",
    "        \"AA\": 1,\n",
    "        \"BB\": { \"x\": 10, \"y\": 20, \"z\": 30 },\n",
    "        \"CC\": 3\n",
    "    },\n",
    "    \"c\",\n",
    "    \"d\"\n",
    "]\n",
    "\n",
    "print(\"z\" in x[2][\"BB\"])\n",
    "print(x[2][\"BB\"])"
   ],
   "id": "a38597114391aa20",
   "outputs": [
    {
     "name": "stdout",
     "output_type": "stream",
     "text": [
      "True\n",
      "{'x': 10, 'y': 20, 'z': 30}\n"
     ]
    }
   ],
   "execution_count": 19
  },
  {
   "metadata": {
    "ExecuteTime": {
     "end_time": "2025-03-25T07:23:29.269312Z",
     "start_time": "2025-03-25T07:23:29.260815Z"
    }
   },
   "cell_type": "code",
   "source": [
    "s = \"\"\n",
    "n = 5\n",
    "while n > 0:\n",
    "    n -= 1\n",
    "    if (n % 2) == 0:\n",
    "        continue\n",
    "    a = [\"A\",\"B\",\"C\"]\n",
    "    while a:\n",
    "        s += str(n) + a.pop(0)\n",
    "        if len(a) < 2:\n",
    "            break\n",
    "print(s)"
   ],
   "id": "3f5186780b69d1d9",
   "outputs": [
    {
     "name": "stdout",
     "output_type": "stream",
     "text": [
      "3A3B1A1B\n"
     ]
    }
   ],
   "execution_count": 21
  },
  {
   "metadata": {
    "ExecuteTime": {
     "end_time": "2025-03-25T07:25:40.077891Z",
     "start_time": "2025-03-25T07:25:40.063309Z"
    }
   },
   "cell_type": "code",
   "source": [
    "s = {\"renk\": \"mavi\", \"meyve\": \"elma\", \"hayvan\": \"kedi\" }\n",
    "for key in s:\n",
    "    print(key)"
   ],
   "id": "8d69fd2889abe716",
   "outputs": [
    {
     "name": "stdout",
     "output_type": "stream",
     "text": [
      "renk\n",
      "meyve\n",
      "hayvan\n"
     ]
    }
   ],
   "execution_count": 22
  },
  {
   "metadata": {
    "ExecuteTime": {
     "end_time": "2025-03-25T07:29:42.568533Z",
     "start_time": "2025-03-25T07:29:42.560151Z"
    }
   },
   "cell_type": "code",
   "source": [
    "s = {\"A\": 12, \"B\": 8, \"C\": 15}\n",
    "while s:\n",
    "    print(s.popitem())\n",
    "print(\"Done\")"
   ],
   "id": "ee449b1e7a4a8e07",
   "outputs": [
    {
     "name": "stdout",
     "output_type": "stream",
     "text": [
      "('C', 15)\n",
      "('B', 8)\n",
      "('A', 12)\n",
      "Done\n"
     ]
    }
   ],
   "execution_count": 27
  },
  {
   "metadata": {
    "ExecuteTime": {
     "end_time": "2025-03-25T07:31:07.737737Z",
     "start_time": "2025-03-25T07:31:07.729095Z"
    }
   },
   "cell_type": "code",
   "source": "{1, 2, 3, 4, 5} - {3, 4} ^ {5, 6, 7}",
   "id": "671da5f2909591c3",
   "outputs": [
    {
     "data": {
      "text/plain": [
       "{1, 2, 6, 7}"
      ]
     },
     "execution_count": 30,
     "metadata": {},
     "output_type": "execute_result"
    }
   ],
   "execution_count": 30
  },
  {
   "metadata": {
    "ExecuteTime": {
     "end_time": "2025-03-25T07:38:04.263330Z",
     "start_time": "2025-03-25T07:38:04.254408Z"
    }
   },
   "cell_type": "code",
   "source": [
    "dizi = [1,2,3,4,5]\n",
    "a = dizi[::-1]\n",
    "x = 10\n",
    "y = 20\n",
    "(x, y) = (y, x) [::-1]\n",
    "print(f\"X: {x}, Y: {y}\")"
   ],
   "id": "8c5b29c64b0e27fb",
   "outputs": [
    {
     "name": "stdout",
     "output_type": "stream",
     "text": [
      "X: 10, Y: 20\n"
     ]
    }
   ],
   "execution_count": 75
  },
  {
   "metadata": {
    "ExecuteTime": {
     "end_time": "2025-03-25T07:45:15.120752Z",
     "start_time": "2025-03-25T07:45:15.114905Z"
    }
   },
   "cell_type": "code",
   "source": [
    "import math\n",
    "(lambda x: (x + 3) * 6 / 5)(3)\n",
    "x = -100\n",
    "x > 0 and math.sqrt(x)"
   ],
   "id": "4e6d3cfcde74308f",
   "outputs": [
    {
     "data": {
      "text/plain": [
       "False"
      ]
     },
     "execution_count": 85,
     "metadata": {},
     "output_type": "execute_result"
    }
   ],
   "execution_count": 85
  },
  {
   "metadata": {
    "ExecuteTime": {
     "end_time": "2025-03-25T07:46:17.959095Z",
     "start_time": "2025-03-25T07:46:17.941517Z"
    }
   },
   "cell_type": "code",
   "source": [
    "s = {\"elma\": 0.4, \"portakal\": 0.35, \"muz\": 0.25}\n",
    "for key in s.keys():\n",
    "    if key == \"portakal\":\n",
    "        del s[key]"
   ],
   "id": "a7370a99de3a5a79",
   "outputs": [
    {
     "ename": "RuntimeError",
     "evalue": "dictionary changed size during iteration",
     "output_type": "error",
     "traceback": [
      "\u001B[1;31m---------------------------------------------------------------------------\u001B[0m",
      "\u001B[1;31mRuntimeError\u001B[0m                              Traceback (most recent call last)",
      "Cell \u001B[1;32mIn[86], line 2\u001B[0m\n\u001B[0;32m      1\u001B[0m s \u001B[38;5;241m=\u001B[39m {\u001B[38;5;124m\"\u001B[39m\u001B[38;5;124melma\u001B[39m\u001B[38;5;124m\"\u001B[39m: \u001B[38;5;241m0.4\u001B[39m, \u001B[38;5;124m\"\u001B[39m\u001B[38;5;124mportakal\u001B[39m\u001B[38;5;124m\"\u001B[39m: \u001B[38;5;241m0.35\u001B[39m, \u001B[38;5;124m\"\u001B[39m\u001B[38;5;124mmuz\u001B[39m\u001B[38;5;124m\"\u001B[39m: \u001B[38;5;241m0.25\u001B[39m}\n\u001B[1;32m----> 2\u001B[0m \u001B[38;5;28;01mfor\u001B[39;00m key \u001B[38;5;129;01min\u001B[39;00m s\u001B[38;5;241m.\u001B[39mkeys():\n\u001B[0;32m      3\u001B[0m     \u001B[38;5;28;01mif\u001B[39;00m key \u001B[38;5;241m==\u001B[39m \u001B[38;5;124m\"\u001B[39m\u001B[38;5;124mportakal\u001B[39m\u001B[38;5;124m\"\u001B[39m:\n\u001B[0;32m      4\u001B[0m         \u001B[38;5;28;01mdel\u001B[39;00m s[key]\n",
      "\u001B[1;31mRuntimeError\u001B[0m: dictionary changed size during iteration"
     ]
    }
   ],
   "execution_count": 86
  },
  {
   "metadata": {
    "ExecuteTime": {
     "end_time": "2025-03-25T07:48:10.249712Z",
     "start_time": "2025-03-25T07:48:10.241116Z"
    }
   },
   "cell_type": "code",
   "source": [
    "s = \"python\"\n",
    "s[::-1][::-5]"
   ],
   "id": "3d26d46b258d3a75",
   "outputs": [
    {
     "data": {
      "text/plain": [
       "'pn'"
      ]
     },
     "execution_count": 99,
     "metadata": {},
     "output_type": "execute_result"
    }
   ],
   "execution_count": 99
  },
  {
   "metadata": {
    "ExecuteTime": {
     "end_time": "2025-03-26T16:55:27.582558Z",
     "start_time": "2025-03-26T16:55:22.154829Z"
    }
   },
   "cell_type": "code",
   "source": [
    "text = input(\"Metin giriniz\")\n",
    "for word in text.split(\" \")[::-1]:\n",
    "    print(word)\n",
    "text.split(\" \")"
   ],
   "id": "a987436c8778912b",
   "outputs": [
    {
     "name": "stdout",
     "output_type": "stream",
     "text": [
      "Fidan\n",
      "Tahiri\n"
     ]
    },
    {
     "data": {
      "text/plain": [
       "['Tahiri', 'Fidan']"
      ]
     },
     "execution_count": 3,
     "metadata": {},
     "output_type": "execute_result"
    }
   ],
   "execution_count": 3
  },
  {
   "metadata": {
    "ExecuteTime": {
     "end_time": "2025-03-26T16:59:13.657547Z",
     "start_time": "2025-03-26T16:59:13.641153Z"
    }
   },
   "cell_type": "code",
   "source": [
    "import random as rnd\n",
    "rnd.randint(1, 100)\n",
    "\"aAa\".islower()"
   ],
   "id": "4dcc1193108a6999",
   "outputs": [
    {
     "data": {
      "text/plain": [
       "False"
      ]
     },
     "execution_count": 27,
     "metadata": {},
     "output_type": "execute_result"
    }
   ],
   "execution_count": 27
  },
  {
   "metadata": {
    "ExecuteTime": {
     "end_time": "2025-03-26T17:02:46.628853Z",
     "start_time": "2025-03-26T17:02:46.611804Z"
    }
   },
   "cell_type": "code",
   "source": [
    "a = range(1, 3)\n",
    "a[0]"
   ],
   "id": "29c85e1fe2fa16ae",
   "outputs": [
    {
     "data": {
      "text/plain": [
       "1"
      ]
     },
     "execution_count": 41,
     "metadata": {},
     "output_type": "execute_result"
    }
   ],
   "execution_count": 41
  },
  {
   "metadata": {
    "ExecuteTime": {
     "end_time": "2025-03-26T17:04:01.457289Z",
     "start_time": "2025-03-26T17:04:01.445020Z"
    }
   },
   "cell_type": "code",
   "source": "[number for number in range(1, 101) if number % 2 == 0 and number % 5 == 0]",
   "id": "16a669ce6412b56c",
   "outputs": [
    {
     "data": {
      "text/plain": [
       "[10, 20, 30, 40, 50, 60, 70, 80, 90, 100]"
      ]
     },
     "execution_count": 42,
     "metadata": {},
     "output_type": "execute_result"
    }
   ],
   "execution_count": 42
  },
  {
   "metadata": {
    "ExecuteTime": {
     "end_time": "2025-03-26T17:16:35.803060Z",
     "start_time": "2025-03-26T17:16:35.784584Z"
    }
   },
   "cell_type": "code",
   "source": [
    "text = \"kitaP.txt\"\n",
    "count = 0\n",
    "for character in text:\n",
    "    if not character.islower() and character.isalpha():\n",
    "        print(character)\n",
    "        count += 1\n",
    "count"
   ],
   "id": "122c95ef3668889d",
   "outputs": [
    {
     "name": "stdout",
     "output_type": "stream",
     "text": [
      "P\n"
     ]
    },
    {
     "data": {
      "text/plain": [
       "1"
      ]
     },
     "execution_count": 46,
     "metadata": {},
     "output_type": "execute_result"
    }
   ],
   "execution_count": 46
  },
  {
   "metadata": {
    "ExecuteTime": {
     "end_time": "2025-03-26T17:34:28.583865Z",
     "start_time": "2025-03-26T17:34:28.571566Z"
    }
   },
   "cell_type": "code",
   "source": [
    "def myFunction(tc_no):\n",
    "    matrix = [[0] * 3 for i in range(3)]\n",
    "    k = 0\n",
    "    for i in range(3):\n",
    "        for j in range(3):\n",
    "            matrix[i][j] = tc_no[0]\n",
    "            k += 1\n",
    "    last_two = int(tc_no[-2:])\n",
    "    if last_two > 50:\n",
    "        pass\n",
    "myFunction(\"25985235100\")"
   ],
   "id": "a31ef3c23b8e1224",
   "outputs": [],
   "execution_count": 73
  },
  {
   "metadata": {
    "ExecuteTime": {
     "end_time": "2025-03-26T17:37:34.612796Z",
     "start_time": "2025-03-26T17:37:34.603040Z"
    }
   },
   "cell_type": "code",
   "source": [
    "if (1, 2):\n",
    "    print(\"Python\")"
   ],
   "id": "ceefc852749b7ddf",
   "outputs": [
    {
     "ename": "SyntaxError",
     "evalue": "unterminated string literal (detected at line 2) (3049247225.py, line 2)",
     "output_type": "error",
     "traceback": [
      "\u001B[1;36m  Cell \u001B[1;32mIn[5], line 2\u001B[1;36m\u001B[0m\n\u001B[1;33m    print(\"Python)\u001B[0m\n\u001B[1;37m          ^\u001B[0m\n\u001B[1;31mSyntaxError\u001B[0m\u001B[1;31m:\u001B[0m unterminated string literal (detected at line 2)\n"
     ]
    }
   ],
   "execution_count": 5
  },
  {
   "metadata": {
    "ExecuteTime": {
     "end_time": "2025-03-26T17:41:20.086789Z",
     "start_time": "2025-03-26T17:41:20.078103Z"
    }
   },
   "cell_type": "code",
   "source": [
    "d = {\"a\": 0, \"b\": 1, \"c\": 2}\n",
    "if d[\"a\"] > 0:\n",
    "    print(\"Ok\")\n",
    "elif d[\"b\"] > 0:\n",
    "    print(\"Ok\")\n",
    "elif d[\"c\"] > 0:\n",
    "    print(\"Ok\")\n",
    "elif d[\"d\"] > 0:\n",
    "    print(\"Ok\")\n",
    "else:\n",
    "    print(\"Not Ok\")"
   ],
   "id": "eb5624277286b8ed",
   "outputs": [
    {
     "name": "stdout",
     "output_type": "stream",
     "text": [
      "Ok\n"
     ]
    }
   ],
   "execution_count": 11
  },
  {
   "metadata": {
    "ExecuteTime": {
     "end_time": "2025-03-26T17:42:19.282997Z",
     "start_time": "2025-03-26T17:42:19.273892Z"
    }
   },
   "cell_type": "code",
   "source": "print(r'foo\\\\bar\\nbaz')",
   "id": "a6deaa99630412d",
   "outputs": [
    {
     "name": "stdout",
     "output_type": "stream",
     "text": [
      "foo\\\\bar\\nbaz\n"
     ]
    }
   ],
   "execution_count": 15
  },
  {
   "metadata": {
    "ExecuteTime": {
     "end_time": "2025-03-26T17:43:20.711938Z",
     "start_time": "2025-03-26T17:43:20.702493Z"
    }
   },
   "cell_type": "code",
   "source": [
    "a, b, c = (1,2,3,4,5,6,7,8,9)[1::3]\n",
    "b"
   ],
   "id": "9a879b7e5656b386",
   "outputs": [
    {
     "data": {
      "text/plain": [
       "5"
      ]
     },
     "execution_count": 20,
     "metadata": {},
     "output_type": "execute_result"
    }
   ],
   "execution_count": 20
  },
  {
   "metadata": {
    "ExecuteTime": {
     "end_time": "2025-03-26T17:45:11.561489Z",
     "start_time": "2025-03-26T17:45:11.554017Z"
    }
   },
   "cell_type": "code",
   "source": [
    "s = set([\n",
    "    \"A\",\n",
    "    \"B\", #comment\n",
    "    \"C\"\n",
    "])\n",
    "print(s)"
   ],
   "id": "d119231645daccf0",
   "outputs": [
    {
     "name": "stdout",
     "output_type": "stream",
     "text": [
      "{'B', 'C', 'A'}\n"
     ]
    }
   ],
   "execution_count": 22
  },
  {
   "metadata": {
    "ExecuteTime": {
     "end_time": "2025-03-26T17:45:58.970187Z",
     "start_time": "2025-03-26T17:45:58.962197Z"
    }
   },
   "cell_type": "code",
   "source": "d = {\"a\": 1, \"b\": 2, \"c\": 3}",
   "id": "de027497774c1788",
   "outputs": [],
   "execution_count": 25
  },
  {
   "metadata": {
    "ExecuteTime": {
     "end_time": "2025-03-26T18:55:23.331547Z",
     "start_time": "2025-03-26T18:55:23.315095Z"
    }
   },
   "cell_type": "code",
   "source": [
    "def fibonacci(n):\n",
    "\n",
    "    return fibonacci(n + (n + 1))\n"
   ],
   "id": "399bec40e8a94072",
   "outputs": [],
   "execution_count": 2
  },
  {
   "metadata": {
    "ExecuteTime": {
     "end_time": "2025-03-27T01:25:57.964148Z",
     "start_time": "2025-03-27T01:25:57.958499Z"
    }
   },
   "cell_type": "code",
   "source": [
    "def myFunction(tc_no):\n",
    "    matrix = [[0] * 3 for i in range(3)]\n",
    "    k = 0\n",
    "    for i in range(3):\n",
    "        for j in range(3):\n",
    "            matrix[i][j] = tc_no[k]\n",
    "            k += 1\n",
    "    last_two = int(tc_no[-2:])\n",
    "    mylist = list()\n",
    "    if last_two > 50:\n",
    "        for i in range(3):\n",
    "            for j in range(3):\n",
    "                mylist.append(int(matrix[j][i]))\n",
    "        print(max(mylist))\n",
    "    elif last_two <= 50:\n",
    "        for i in range(3):\n",
    "            satır = [int(num) for num in matrix[i]]\n",
    "            print(max(matrix[i]))\n",
    "\n",
    "myFunction(\"25985235100\")"
   ],
   "id": "eae348d90eafca65",
   "outputs": [
    {
     "name": "stdout",
     "output_type": "stream",
     "text": [
      "9\n",
      "8\n",
      "5\n"
     ]
    }
   ],
   "execution_count": 6
  },
  {
   "metadata": {},
   "cell_type": "code",
   "outputs": [],
   "execution_count": null,
   "source": "",
   "id": "40c263ff90518ee4"
  }
 ],
 "metadata": {
  "kernelspec": {
   "display_name": "Python 3",
   "language": "python",
   "name": "python3"
  },
  "language_info": {
   "codemirror_mode": {
    "name": "ipython",
    "version": 2
   },
   "file_extension": ".py",
   "mimetype": "text/x-python",
   "name": "python",
   "nbconvert_exporter": "python",
   "pygments_lexer": "ipython2",
   "version": "2.7.6"
  }
 },
 "nbformat": 4,
 "nbformat_minor": 5
}
