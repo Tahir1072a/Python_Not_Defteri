{
 "cells": [
  {
   "metadata": {},
   "cell_type": "markdown",
   "source": [
    "### DateTime Modülü\n",
    "Kısaca datetime modülü üstünde duracağız. Date modülü ile oluşturabileceğimiz kullanışlı yapıları inceleyelim."
   ],
   "id": "29e3929d257b32d9"
  },
  {
   "cell_type": "code",
   "id": "initial_id",
   "metadata": {
    "collapsed": true,
    "ExecuteTime": {
     "end_time": "2025-06-02T20:27:29.470708Z",
     "start_time": "2025-06-02T20:27:29.465483Z"
    }
   },
   "source": [
    "import datetime\n",
    "\n",
    "simdiki_zaman = datetime.datetime.now() # Bilgisayar saatine göre şu anki zamanı sanyesine kadar alır.\n",
    "print(simdiki_zaman)\n",
    "simdiki_zaman"
   ],
   "outputs": [
    {
     "name": "stdout",
     "output_type": "stream",
     "text": [
      "2025-06-02 23:27:29.465483\n"
     ]
    },
    {
     "data": {
      "text/plain": [
       "datetime.datetime(2025, 6, 2, 23, 27, 29, 465483)"
      ]
     },
     "execution_count": 7,
     "metadata": {},
     "output_type": "execute_result"
    }
   ],
   "execution_count": 7
  },
  {
   "metadata": {
    "ExecuteTime": {
     "end_time": "2025-06-02T20:28:18.993632Z",
     "start_time": "2025-06-02T20:28:18.987489Z"
    }
   },
   "cell_type": "code",
   "source": [
    "bugün = datetime.date.today()\n",
    "print(bugün)\n",
    "bugün"
   ],
   "id": "41248755389f007b",
   "outputs": [
    {
     "name": "stdout",
     "output_type": "stream",
     "text": [
      "2025-06-02\n"
     ]
    },
    {
     "data": {
      "text/plain": [
       "datetime.date(2025, 6, 2)"
      ]
     },
     "execution_count": 8,
     "metadata": {},
     "output_type": "execute_result"
    }
   ],
   "execution_count": 8
  },
  {
   "metadata": {
    "ExecuteTime": {
     "end_time": "2025-06-02T20:31:44.949061Z",
     "start_time": "2025-06-02T20:31:44.942534Z"
    }
   },
   "cell_type": "code",
   "source": [
    "# simdiki zmaan üzerinden tarih ve saati parçalama\n",
    "print(f\"Yıl: {simdiki_zaman.year}\")\n",
    "print(f\"Ay: {simdiki_zaman.month}\")\n",
    "print(f\"Gün: {simdiki_zaman.day}\")\n",
    "print(f\"Saat: {simdiki_zaman.hour}\")\n",
    "print(f\"Dakika: {simdiki_zaman.minute}\")\n",
    "print(f\"Saniye: {simdiki_zaman.second}\")\n",
    "print(f\"Mikrosaniye: {simdiki_zaman.microsecond}\")\n",
    "print(f\"Haftanın günü (Pazartesi = 0, Pazar = 6): {simdiki_zaman.weekday()}\") # Pazartesi günündeyiz\n",
    "print(f\"Yılın günü: {simdiki_zaman.timetuple().tm_yday}\") # Yılın 153. günündeyiz..."
   ],
   "id": "bd1c2720ac3a7a64",
   "outputs": [
    {
     "name": "stdout",
     "output_type": "stream",
     "text": [
      "Yıl: 2025\n",
      "Ay: 6\n",
      "Gün: 2\n",
      "Saat: 23\n",
      "Dakika: 27\n",
      "Saniye: 29\n",
      "Mikrosaniye: 465483\n",
      "Haftanın günü (Pazartesi = 0, Pazar = 6): 0\n",
      "Yılın günü: 153\n"
     ]
    }
   ],
   "execution_count": 9
  },
  {
   "metadata": {
    "ExecuteTime": {
     "end_time": "2025-06-02T20:35:01.866826Z",
     "start_time": "2025-06-02T20:35:01.862695Z"
    }
   },
   "cell_type": "code",
   "source": [
    "formatlanmıs_zaman = simdiki_zaman.strftime(\"%Y/%m/%d %H:%M:%S\")\n",
    "print(formatlanmıs_zaman)\n",
    "\n",
    "tarih_stringi = \"2024-01-15 10:00:00\"\n",
    "ayristirilmis_zaman = datetime.datetime.strptime(tarih_stringi, \"%Y-%m-%d %H:%M:%S\") # Bu şekilde string bir ifade içindeki tarih değerini, datetime'a dönüştürebiliyoruz.\n",
    "# Ayrıştırmada verilen format önemlidir!!\n",
    "print(f\"Ayrıştırılmış zaman: {ayristirilmis_zaman}\")"
   ],
   "id": "8e632c6226d120bc",
   "outputs": [
    {
     "name": "stdout",
     "output_type": "stream",
     "text": [
      "2025/06/02 23:27:29\n",
      "Ayrıştırılmış zaman: <class 'datetime.datetime'>\n"
     ]
    }
   ],
   "execution_count": 12
  },
  {
   "metadata": {
    "ExecuteTime": {
     "end_time": "2025-06-02T20:38:41.608106Z",
     "start_time": "2025-06-02T20:38:41.598430Z"
    }
   },
   "cell_type": "code",
   "source": [
    "# timedelta ile çalışma...\n",
    "one_week_later = simdiki_zaman + datetime.timedelta(weeks=1)\n",
    "print(f\"Bir hafta sonra: {one_week_later}\")\n",
    "two_days_ago = simdiki_zaman - datetime.timedelta(days=2)\n",
    "print(f\"2 gün önce: {two_days_ago}\")\n",
    "\n",
    "# İki tarih arasındaki fark\n",
    "fark = one_week_later - simdiki_zaman\n",
    "print(f\"Bir hafta sonra ile şimdi arasındaki fark: {fark}\")\n",
    "print(f\"Fark (gün olarak): {fark.days}\")\n",
    "print(f\"Fark (saniye olarak): {fark.total_seconds()}\")"
   ],
   "id": "3bf681a3843e7aff",
   "outputs": [
    {
     "name": "stdout",
     "output_type": "stream",
     "text": [
      "Bir hafta sonra: 2025-06-09 23:27:29.465483\n",
      "2 gün önce: 2025-05-31 23:27:29.465483\n",
      "Bir hafta sonra ile şimdi arasındaki fark: 7 days, 0:00:00\n",
      "Fark (gün olarak): 7\n",
      "Fark (saniye olarak): 604800.0\n"
     ]
    }
   ],
   "execution_count": 16
  },
  {
   "metadata": {
    "ExecuteTime": {
     "end_time": "2025-06-02T20:39:33.006335Z",
     "start_time": "2025-06-02T20:39:33.000873Z"
    }
   },
   "cell_type": "code",
   "source": [
    "zaman_damgası = simdiki_zaman.timestamp()\n",
    "zaman_damgası # 1 Ocak 1970'den beri geçen saniye..."
   ],
   "id": "fd70eb55d3cdaf5b",
   "outputs": [
    {
     "data": {
      "text/plain": [
       "1748896049.465483"
      ]
     },
     "execution_count": 17,
     "metadata": {},
     "output_type": "execute_result"
    }
   ],
   "execution_count": 17
  },
  {
   "metadata": {
    "ExecuteTime": {
     "end_time": "2025-06-02T20:40:24.088571Z",
     "start_time": "2025-06-02T20:40:24.080454Z"
    }
   },
   "cell_type": "code",
   "source": [
    "# UTC (Koordineli Evrensel Zaman) ile çalışmak isterseniz:\n",
    "utc_simdi = datetime.datetime.now(datetime.timezone.utc)\n",
    "print(f\"Şu anki UTC zamanı: {utc_simdi}\")"
   ],
   "id": "de792d7d82ff2e08",
   "outputs": [
    {
     "name": "stdout",
     "output_type": "stream",
     "text": [
      "Şu anki UTC zamanı: 2025-06-02 20:40:24.080454+00:00\n"
     ]
    }
   ],
   "execution_count": 18
  },
  {
   "metadata": {},
   "cell_type": "code",
   "outputs": [],
   "execution_count": null,
   "source": "",
   "id": "8f4a0048d2159d18"
  }
 ],
 "metadata": {
  "kernelspec": {
   "display_name": "Python 3",
   "language": "python",
   "name": "python3"
  },
  "language_info": {
   "codemirror_mode": {
    "name": "ipython",
    "version": 2
   },
   "file_extension": ".py",
   "mimetype": "text/x-python",
   "name": "python",
   "nbconvert_exporter": "python",
   "pygments_lexer": "ipython2",
   "version": "2.7.6"
  }
 },
 "nbformat": 4,
 "nbformat_minor": 5
}
