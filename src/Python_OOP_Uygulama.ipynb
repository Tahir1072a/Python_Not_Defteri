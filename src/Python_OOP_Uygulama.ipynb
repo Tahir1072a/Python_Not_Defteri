{
 "cells": [
  {
   "metadata": {},
   "cell_type": "markdown",
   "source": "### Uygulamalar",
   "id": "10f5b934af977541"
  },
  {
   "metadata": {
    "ExecuteTime": {
     "end_time": "2025-03-16T09:43:12.009005Z",
     "start_time": "2025-03-16T09:43:11.993911Z"
    }
   },
   "cell_type": "code",
   "source": [
    "import datetime\n",
    "\n",
    "class Student:\n",
    "    def __init__(self, name: str, last_name: str, birthday : int):\n",
    "        self.name = name\n",
    "        self.last_name = last_name\n",
    "        self.age = datetime.datetime.now().year - birthday\n",
    "\n",
    "class Lisans(Student):\n",
    "    def __init__(self, name: str, last_name: str, birthday: int):\n",
    "        super().__init__(name, last_name, birthday)\n",
    "        self.homeworks = None\n",
    "        self._vize_not = None\n",
    "        self._final_not = None\n",
    "\n",
    "    @property\n",
    "    def vize_not(self):\n",
    "        return self._vize_not\n",
    "\n",
    "    @vize_not.setter\n",
    "    def vize_not(self, value):\n",
    "        try:\n",
    "            if type(value) != int:\n",
    "                raise TypeError(\"Lütfen sayısal bir değer giriniz!\")\n",
    "            elif value > 100 or value < 0:\n",
    "                raise ValueError(\"Geçersiz değer: 0 ile 100 arasında bir değer girmeniz gerekiyor.\")\n",
    "            else:\n",
    "                self._vize_not = value\n",
    "        except Exception as e:\n",
    "            print(e)\n",
    "\n",
    "    @property\n",
    "    def final_not(self):\n",
    "        return self._final_not\n",
    "    @final_not.setter\n",
    "    def final_not(self, value):\n",
    "        try:\n",
    "            if type(value) != int:\n",
    "                raise TypeError(\"Lütfen sayısal bir değer giriniz!\")\n",
    "            elif value > 100 or value < 0:\n",
    "                raise ValueError(\"Geçersiz değer: 0 ile 100 arasında bir değer girmeniz gerekiyor.\")\n",
    "            else:\n",
    "                self._final_not = value\n",
    "        except Exception as e:\n",
    "            print(e)\n",
    "\n",
    "    def enter_homeworks_nots(self, nots : list = None):\n",
    "        if nots is None:\n",
    "            entered_not_list = list(input(\"Hazır bir note listesi vermediniz. Lütfen lisans öğrencinin notlarını verilen sırayla giriniz (6 tane) . Her bir not arasında bir boşluk bırakınız!\").split(\" \"))\n",
    "            entered_not_list = [int(note) for note in entered_not_list]\n",
    "            try:\n",
    "                if len(entered_not_list) != 6:\n",
    "                    raise Exception(\"Lütfen en 6 tane ödev notu giriniz. Ne eksik ne fazla!\")\n",
    "                elif any(not isinstance(note, (int, float)) for note in entered_not_list):\n",
    "                    raise TypeError(\"Lütfen girdiğiniz tüm notların sayısal olduğuna önem gösteriniz!\")\n",
    "                elif any(False if (100 >= note >= 0) else True for note in entered_not_list):\n",
    "                    raise ValueError(\"Lütfen 0 ile 100 arasında not eğerleri giriniz!\")\n",
    "                else:\n",
    "                    self.homeworks = entered_not_list\n",
    "                    print(\"Notlar başarıyla girilmiştir\")\n",
    "                    [print(f\"Ödev {i + 1}: {note}\") for i, note in enumerate(entered_not_list)]\n",
    "            except Exception as e:\n",
    "                print(e)\n",
    "        else:\n",
    "            self.homeworks = nots\n",
    "\n",
    "    def calculate_not(self):\n",
    "        if self._vize_not is None or self._final_not is None or self.homeworks is None:\n",
    "            print(\"Öğrencinin girilmemiş notları var. Not hesaplamadan önce bu eksiklikleri tamamlayınız lütfen.\")\n",
    "            raise Exception()\n",
    "        total_nots = self.vize_not + self.final_not + sum(self.homeworks)\n",
    "        return total_nots / (len(self.homeworks) + 2)\n",
    "\n",
    "class Lisansustu(Student):\n",
    "    def __init__(self, name: str, last_name: str, birthday: int):\n",
    "        super().__init__(name, last_name, birthday)\n",
    "        self.homeworks = None\n",
    "        self._sunum = None\n",
    "\n",
    "    @property\n",
    "    def sunum(self):\n",
    "        return self._sunum\n",
    "\n",
    "    @sunum.setter\n",
    "    def sunum(self, value):\n",
    "        try:\n",
    "            if type(value) != int:\n",
    "                raise TypeError(\"Lütfen sayısal bir değer giriniz!\")\n",
    "            elif value > 100 or value < 0:\n",
    "                raise ValueError(\"Geçersiz değer: 0 ile 100 arasında bir değer girmeniz gerekiyor.\")\n",
    "            else:\n",
    "                self._sunum = value\n",
    "        except Exception as e:\n",
    "            print(e)\n",
    "\n",
    "    def enter_homeworks_nots(self, nots : list = None):\n",
    "        if nots is None:\n",
    "            entered_not_list = list(input(\"Hazır bir note listesi vermediniz. Lütfen lisansüstü öğrencinin notlarını verilen sırayla giriniz (2 tane) . Her bir not arasında bir boşluk bırakınız!\").split(\" \"))\n",
    "            entered_not_list = [int(note) for note in entered_not_list]\n",
    "            try:\n",
    "                if len(entered_not_list) != 2:\n",
    "                    raise Exception(\"Lütfen en 6 tane ödev notu giriniz. Ne eksik ne fazla!\")\n",
    "                elif any(not isinstance(note, (int, float)) for note in entered_not_list):\n",
    "                    raise TypeError(\"Lütfen girdiğiniz tüm notların sayısal olduğuna önem gösteriniz!\")\n",
    "                elif any(False if (100 >= note >= 0) else True for note in entered_not_list):\n",
    "                    raise ValueError(\"Lütfen 0 ile 100 arasında not eğerleri giriniz!\")\n",
    "                else:\n",
    "                    self.homeworks = entered_not_list\n",
    "                    print(\"Notlar başarıyla girilmiştir\")\n",
    "                    [print(f\"Ödev {i + 1}: {note}\") for i, note in enumerate(entered_not_list)]\n",
    "            except Exception as e:\n",
    "                print(e)\n",
    "        else:\n",
    "            self.homeworks = nots\n",
    "\n",
    "    def calculate_not(self):\n",
    "        if self._sunum is None or self.homeworks is None:\n",
    "            print(\"Öğrencinin girilmemiş notları var. Not hesaplamadan önce bu eksiklikleri tamamlayınız lütfen.\")\n",
    "            raise Exception()\n",
    "        total_nots = self.sunum + sum(self.homeworks)\n",
    "        return total_nots / (len(self.homeworks) + 1)"
   ],
   "id": "437d3bada24640e1",
   "outputs": [],
   "execution_count": 50
  },
  {
   "metadata": {
    "ExecuteTime": {
     "end_time": "2025-03-16T09:43:20.190606Z",
     "start_time": "2025-03-16T09:43:12.583497Z"
    }
   },
   "cell_type": "code",
   "source": [
    "student = Lisans(\"Ahmet\", \"Ekin\", 2004)\n",
    "student.vize_not = 100\n",
    "student.final_not = 100\n",
    "student.enter_homeworks_nots()\n",
    "a = student.__dict__\n",
    "print(a)\n",
    "student.calculate_not()\n",
    "\n",
    "student2 = Lisansustu(\"Ahmet\", \"Ekin\", 2000)\n",
    "student2.sunum = 100\n",
    "student2.enter_homeworks_nots()\n",
    "student2.calculate_not()"
   ],
   "id": "d453dbd9f3f9cac3",
   "outputs": [
    {
     "name": "stdout",
     "output_type": "stream",
     "text": [
      "Notlar başarıyla girilmiştir\n",
      "Ödev 1: 0\n",
      "Ödev 2: 0\n",
      "Ödev 3: 0\n",
      "Ödev 4: 0\n",
      "Ödev 5: 0\n",
      "Ödev 6: 0\n",
      "{'name': 'Ahmet', 'last_name': 'Ekin', 'age': 21, 'homeworks': [0, 0, 0, 0, 0, 0], '_vize_not': 100, '_final_not': 100}\n",
      "Notlar başarıyla girilmiştir\n",
      "Ödev 1: 100\n",
      "Ödev 2: 90\n"
     ]
    },
    {
     "data": {
      "text/plain": [
       "96.66666666666667"
      ]
     },
     "execution_count": 51,
     "metadata": {},
     "output_type": "execute_result"
    }
   ],
   "execution_count": 51
  },
  {
   "metadata": {
    "ExecuteTime": {
     "end_time": "2025-03-16T09:34:16.334920Z",
     "start_time": "2025-03-16T09:34:16.329358Z"
    }
   },
   "cell_type": "code",
   "source": [
    "a = [12, 20 ,40]\n",
    "b = 10\n",
    "c = 20\n",
    "total = sum(a) + b + c\n",
    "print(total)"
   ],
   "id": "d66a80daa39a628e",
   "outputs": [
    {
     "name": "stdout",
     "output_type": "stream",
     "text": [
      "102\n"
     ]
    }
   ],
   "execution_count": 30
  },
  {
   "metadata": {},
   "cell_type": "code",
   "outputs": [],
   "execution_count": null,
   "source": "",
   "id": "a4311cc2fb315a6d"
  }
 ],
 "metadata": {
  "kernelspec": {
   "display_name": "Python 3",
   "language": "python",
   "name": "python3"
  },
  "language_info": {
   "codemirror_mode": {
    "name": "ipython",
    "version": 2
   },
   "file_extension": ".py",
   "mimetype": "text/x-python",
   "name": "python",
   "nbconvert_exporter": "python",
   "pygments_lexer": "ipython2",
   "version": "2.7.6"
  }
 },
 "nbformat": 4,
 "nbformat_minor": 5
}
