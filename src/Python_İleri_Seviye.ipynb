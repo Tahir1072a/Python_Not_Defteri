{
 "cells": [
  {
   "metadata": {},
   "cell_type": "markdown",
   "source": [
    "# **Python'da List Comprehension (Liste Üretme)**\n",
    "## 📌 **1. List Comprehension Nedir?**\n",
    "List comprehension, Python’da **daha kısa ve okunabilir bir şekilde liste oluşturmayı** sağlayan bir tekniktir. Normalde bir liste oluşturmak için `for` döngüsü kullanılırken, list comprehension sayesinde tek satırda liste oluşturabiliriz.\n",
    "\n",
    "---\n",
    "\n",
    "## 🛠 **2. Temel Kullanım**\n",
    "**Genel sözdizimi (syntax):**\n",
    "```python\n",
    "[ifade for öğe in iterable]\n",
    "```\n",
    "Bu yapı şu anlama gelir:\n",
    "- `ifade` → Listeye eklemek istediğimiz öğe (dönüştürülmüş veya işlenmiş haliyle).\n",
    "- `for öğe in iterable` → Belirtilen **iterable** (örneğin, bir liste veya range) üzerinde döngü oluşturur.\n",
    "\n",
    "**Örnek:**\n",
    "Bir listeyi 2 ile çarparak yeni bir liste oluşturalım:\n",
    "```python\n",
    "numbers = [1, 2, 3, 4, 5]\n",
    "squared = [x * 2 for x in numbers]\n",
    "print(squared)  # Çıktı: [2, 4, 6, 8, 10]\n",
    "```\n",
    "Aynı işlemi `for` döngüsü ile yaparsak:\n",
    "```python\n",
    "squared = []\n",
    "for x in numbers:\n",
    "    squared.append(x * 2)\n",
    "print(squared)  # Çıktı: [2, 4, 6, 8, 10]\n",
    "```\n",
    "Gördüğünüz gibi list comprehension ile kod **daha kısa ve okunaklı** hale geldi.\n",
    "\n",
    "---\n",
    "\n",
    "## 🎯 **3. Koşullu (if) Kullanımı**\n",
    "List comprehension içinde `if` kullanarak **sadece belirli şartları sağlayan** öğeleri ekleyebiliriz.\n",
    "\n",
    "**Örnek:**\n",
    "Sadece çift sayıları içeren bir liste oluşturalım:\n",
    "```python\n",
    "numbers = [1, 2, 3, 4, 5, 6, 7, 8, 9, 10]\n",
    "even_numbers = [x for x in numbers if x % 2 == 0]\n",
    "print(even_numbers)  # Çıktı: [2, 4, 6, 8, 10]\n",
    "```\n",
    "Bunu klasik `for` döngüsü ile şöyle yazardık:\n",
    "```python\n",
    "even_numbers = []\n",
    "for x in numbers:\n",
    "    if x % 2 == 0:\n",
    "        even_numbers.append(x)\n",
    "print(even_numbers)  # Çıktı: [2, 4, 6, 8, 10]\n",
    "```\n",
    "\n",
    "---\n",
    "\n",
    "## 🔄 **4. Koşullu (if-else) Kullanımı**\n",
    "Eğer her öğe için farklı bir dönüşüm yapacaksak `if-else` kullanabiliriz.\n",
    "\n",
    "**Örnek:**\n",
    "Bir listedeki sayılar **çiftse \"çift\", tekse \"tek\"** olarak bir liste oluşturalım:\n",
    "```python\n",
    "numbers = [1, 2, 3, 4, 5, 6]\n",
    "result = [\"çift\" if x % 2 == 0 else \"tek\" for x in numbers]\n",
    "print(result)  # Çıktı: ['tek', 'çift', 'tek', 'çift', 'tek', 'çift']\n",
    "```\n",
    "Dikkat edilmesi gereken nokta:\n",
    "- **Koşullu ifadede `if` ve `else` kullanıyorsak, `for` döngüsünden önce yazılmalıdır.**\n",
    "\n",
    "Yanlış kullanım:\n",
    "```python\n",
    "# Hatalı kod\n",
    "result = [x for x in numbers if x % 2 == 0 else \"tek\"]\n",
    "```\n",
    "\n",
    "---\n",
    "\n",
    "## 🎛 **5. İç İçe Döngüler (Nested Loops)**\n",
    "List comprehension içinde birden fazla döngü kullanarak **iç içe listelerden eleman çekebiliriz.**\n",
    "\n",
    "**Örnek:**\n",
    "Çarpım tablosu oluşturalım (1’den 3’e kadar olan sayıların çarpımı):\n",
    "```python\n",
    "carpim_tablosu = [(x, y, x * y) for x in range(1, 4) for y in range(1, 4)]\n",
    "print(carpim_tablosu)\n",
    "# Çıktı: [(1, 1, 1), (1, 2, 2), (1, 3, 3), (2, 1, 2), (2, 2, 4), (2, 3, 6), (3, 1, 3), (3, 2, 6), (3, 3, 9)]\n",
    "```\n",
    "Aynı işlemi normal `for` döngüsü ile yaparsak:\n",
    "```python\n",
    "carpim_tablosu = []\n",
    "for x in range(1, 4):\n",
    "    for y in range(1, 4):\n",
    "        carpim_tablosu.append((x, y, x * y))\n",
    "print(carpim_tablosu)\n",
    "```\n",
    "\n",
    "---\n",
    "\n",
    "## 🏗 **6. List Comprehension ile Matris İşlemleri**\n",
    "Bir matrisi (2D listeyi) düz bir liste haline getirebiliriz.\n",
    "\n",
    "**Örnek:**\n",
    "```python\n",
    "matrix = [[1, 2, 3], [4, 5, 6], [7, 8, 9]]\n",
    "flat_matrix = [num for row in matrix for num in row]\n",
    "print(flat_matrix)  # Çıktı: [1, 2, 3, 4, 5, 6, 7, 8, 9]\n",
    "```\n",
    "Bu, normal `for` döngüsü ile şu şekilde yazılır:\n",
    "```python\n",
    "flat_matrix = []\n",
    "for row in matrix:\n",
    "    for num in row:\n",
    "        flat_matrix.append(num)\n",
    "print(flat_matrix)\n",
    "```\n",
    "\n",
    "---\n",
    "\n",
    "## 🚀 **7. Set ve Dictionary Comprehension**\n",
    "List comprehension mantığı sadece listeler için değil, **set (küme) ve dictionary (sözlük) yapıları için de** kullanılabilir.\n",
    "\n",
    "### **Set Comprehension (Küme Üretme)**\n",
    "Tekrar eden elemanları çıkartıp bir küme oluşturalım:\n",
    "```python\n",
    "numbers = [1, 2, 2, 3, 4, 4, 5]\n",
    "unique_numbers = {x for x in numbers}\n",
    "print(unique_numbers)  # Çıktı: {1, 2, 3, 4, 5}\n",
    "```\n",
    "\n",
    "### **Dictionary Comprehension (Sözlük Üretme)**\n",
    "Bir sözlük oluşturalım (1’den 5’e kadar olan sayıların karelerini içeren bir sözlük):\n",
    "```python\n",
    "squares = {x: x**2 for x in range(1, 6)}\n",
    "print(squares)  # Çıktı: {1: 1, 2: 4, 3: 9, 4: 16, 5: 25}\n",
    "```\n",
    "\n",
    "---\n",
    "\n",
    "## 🎯 **8. Performans Karşılaştırması**\n",
    "List comprehension, genellikle `for` döngüsüne göre daha hızlı çalışır. Çünkü Python’un optimize edilmiş C seviyesindeki fonksiyonlarını kullanır.\n",
    "\n",
    "Örnek karşılaştırma:\n",
    "```python\n",
    "import time\n",
    "\n",
    "# List comprehension\n",
    "start = time.time()\n",
    "squared = [x**2 for x in range(1000000)]\n",
    "end = time.time()\n",
    "print(\"List Comprehension süresi:\", end - start)\n",
    "\n",
    "# For döngüsü ile\n",
    "start = time.time()\n",
    "squared = []\n",
    "for x in range(1000000):\n",
    "    squared.append(x**2)\n",
    "end = time.time()\n",
    "print(\"For döngüsü süresi:\", end - start)\n",
    "```\n",
    "Sonuç olarak, **list comprehension daha hızlıdır** çünkü bellekte daha verimli çalışır."
   ],
   "id": "62b3b7d59d827bd9"
  },
  {
   "metadata": {
    "ExecuteTime": {
     "end_time": "2025-03-13T13:10:57.866171Z",
     "start_time": "2025-03-13T13:10:57.857169Z"
    }
   },
   "cell_type": "code",
   "source": [
    "from itertools import count\n",
    "\n",
    "from numba.typed.dictobject import new_dict\n",
    "from openpyxl.styles.builtins import total\n",
    "\n",
    "# Alıştırma\n",
    "\n",
    "numbers = [num for num in range(5)]\n",
    "print(numbers)\n",
    "\n",
    "animals = [\"Rabbit\", \"Cat\", \"Dog\", \"Elephant\", \"Tiger\", \"Crow\", \"Cow\"]\n",
    "my_animal_list = [animal for animal in animals if animal.lower().startswith(\"c\")]\n",
    "print(my_animal_list)"
   ],
   "id": "66be9706925bcb97",
   "outputs": [
    {
     "name": "stdout",
     "output_type": "stream",
     "text": [
      "[0, 1, 2, 3, 4]\n",
      "['Cat', 'Crow', 'Cow']\n"
     ]
    }
   ],
   "execution_count": 5
  },
  {
   "metadata": {},
   "cell_type": "markdown",
   "source": [
    "# **📌 Matematiksel İspat - Asal Sayı Bulma**\n",
    "### **Bir Sayının Çarpanları Neden `√n`'e Kadar Kontrol Edilir?**\n",
    "\n",
    "Bir **bileşik sayı** (asal olmayan sayı) `n`, en az iki pozitif bölenin çarpımı şeklinde yazılabilir:\n",
    "\n",
    "$$\n",
    "n = a \\times b\n",
    "$$\n",
    "\n",
    "Burada ( a \\) ve \\( b \\), \\( n \\)’in **çarpanlarıdır**. Şimdi iki farklı durum düşünelim:\n",
    "\n",
    "---\n",
    "\n",
    "### **🔹 Durum 1: `a` ve `b` eşitse (Tam kare sayılar için)**\n",
    "Eğer \\( n \\) bir tam kare ise, örneğin \\( n = 36 \\) için:\n",
    "\n",
    "$$\n",
    "n = 6 \\times 6\n",
    "$$\n",
    "\n",
    "Burada **çarpanlardan biri \\( \\sqrt{n} \\)'e eşittir**. **Yani en büyük bölen \\( \\sqrt{n} \\) olabilir**.\n",
    "\n",
    "---\n",
    "\n",
    "### **🔹 Durum 2: `a` ve `b` farklıysa (`n` tam kare değilse)**\n",
    "Eğer \\( a \\) ve \\( b \\) farklıysa, bunlardan **biri mutlaka \\( \\sqrt{n} \\)'den küçük olmalıdır**.\n",
    "Bunu göstermek için, \\( a \\leq b \\) olacak şekilde çarpanları sıralayalım:\n",
    "\n",
    "$$\n",
    "a \\times b = n\n",
    "$$\n",
    "\n",
    "Eğer **her iki çarpan da \\( \\sqrt{n} \\)'den büyük olsaydı**, o zaman:\n",
    "\n",
    "$$\n",
    "a > \\sqrt{n}, \\quad b > \\sqrt{n}\n",
    "$$\n",
    "\n",
    "olurdu. Ancak bu durumda çarpımları:\n",
    "\n",
    "$$\n",
    "a \\times b > \\sqrt{n} \\times \\sqrt{n} = n\n",
    "$$\n",
    "\n",
    "olurdu, ki bu **çelişkidir**! Çünkü $$( a \\times b)’nin (n)’e$$  eşit olması gerekiyordu.\n",
    "\n",
    "Bu nedenle, **eğer \\( n \\) bir bileşik sayıysa, çarpanlardan biri mutlaka $$( \\sqrt{n} )$$ veya daha küçüktür**.\n",
    "\n",
    "---\n",
    "\n",
    "## **🔹 Sonuç ve Çıkarsama**\n",
    "Bu ispat bize şunu gösteriyor:\n",
    "- Eğer \\( n \\) bir bileşik sayı ise, \\( n = a \\times b \\) olacak şekilde bir \\( a \\) ve \\( b \\) çifti bulunur.\n",
    "- **Bu çiftlerden biri mutlaka \\( \\sqrt{n} \\) veya daha küçüktür**.\n",
    "- Eğer \\( \\sqrt{n} \\)'den küçük hiçbir bölen yoksa, \\( n \\) **kesinlikle asal** olmalıdır.\n",
    "\n",
    "Bu yüzden **\\( n \\)’in asal olup olmadığını test etmek için \\( \\sqrt{n} \\)'e kadar olan bölenleri kontrol etmek yeterlidir**. Daha büyük bölenleri kontrol etmeye gerek yoktur, çünkü eğer büyük bir bölen varsa, onun daha küçük bir eşi \\( \\sqrt{n} \\)'den küçük bir bölen olarak zaten test edilmiştir. 🚀"
   ],
   "id": "a9d0344b0eb8e8cf"
  },
  {
   "metadata": {
    "ExecuteTime": {
     "end_time": "2025-03-13T13:38:08.545062Z",
     "start_time": "2025-03-13T13:38:08.533520Z"
    }
   },
   "cell_type": "code",
   "source": [
    "# Alıştırma\n",
    "import random as rnd\n",
    "# Bir sayı a * b = n şeklinde yazılabiliyorsa buradaki çarpanlardan en az biri kök(n)'ne eşit veya küçük çıkması gerekir.\n",
    "random_prime_numbers = [num for num in (rnd.randint(0, 1000) for _ in range(100)) if num > 1 and all(num % divide != 0 for divide in range(2, int(num ** 0.5) + 1))]\n",
    "print(random_prime_numbers)\n"
   ],
   "id": "2fb3e0b4292db547",
   "outputs": [
    {
     "name": "stdout",
     "output_type": "stream",
     "text": [
      "[887, 643, 419, 947, 7, 151, 953, 457, 3, 211, 101, 31, 379, 443, 419, 653, 919, 263, 947, 229, 283]\n"
     ]
    }
   ],
   "execution_count": 18
  },
  {
   "metadata": {
    "ExecuteTime": {
     "end_time": "2025-03-13T13:57:10.478757Z",
     "start_time": "2025-03-13T13:57:10.473921Z"
    }
   },
   "cell_type": "code",
   "source": [
    "# Alıştırma\n",
    "text = \"Hello 12345 Hello\"\n",
    "\n",
    "new_list = [number for number in range(1, 100) if number % 12 == 0]\n",
    "print(new_list)\n",
    "new_list_2 = [int(character) for character in text if character.isnumeric()]\n",
    "print(new_list_2)\n",
    "\n",
    "students = [\"ali\", \"ahmet\", \"canan\"]\n",
    "notlar = [50, 60, 80]\n",
    "\n",
    "new_dict = {student: nots for student, nots in zip(students, notlar) if nots > 50} # zip iki listeyi eşleştirir.\n",
    "print(new_dict)\n",
    "\n",
    "result = [(i, j) for i in range(3) for j in range(3)]\n",
    "print(result)"
   ],
   "id": "131471709e1a3d59",
   "outputs": [
    {
     "name": "stdout",
     "output_type": "stream",
     "text": [
      "[12, 24, 36, 48, 60, 72, 84, 96]\n",
      "[1, 2, 3, 4, 5]\n",
      "{'ahmet': 60, 'canan': 80}\n",
      "[(0, 0), (0, 1), (0, 2), (1, 0), (1, 1), (1, 2), (2, 0), (2, 1), (2, 2)]\n"
     ]
    }
   ],
   "execution_count": 26
  },
  {
   "metadata": {},
   "cell_type": "markdown",
   "source": "### Lambda Arguments",
   "id": "69f90cddb9270f64"
  },
  {
   "metadata": {
    "ExecuteTime": {
     "end_time": "2025-03-13T14:44:12.174679Z",
     "start_time": "2025-03-13T14:44:12.168283Z"
    }
   },
   "cell_type": "code",
   "source": [
    "func = lambda a: a ** 2 #delegate\n",
    "func(2)\n",
    "\n",
    "# bir sayının n'nci kuvvetini alan fonksiyonu döndüren fonksiyon\n",
    "def my_func(n):\n",
    "    return lambda a: a ** n\n",
    "\n",
    "func_2 = my_func(3) # sayıların 3. kuvvetini alan fonksiyon.\n",
    "func_2(2)"
   ],
   "id": "f7b63cda012e8e98",
   "outputs": [
    {
     "data": {
      "text/plain": [
       "8"
      ]
     },
     "execution_count": 28,
     "metadata": {},
     "output_type": "execute_result"
    }
   ],
   "execution_count": 28
  },
  {
   "metadata": {
    "ExecuteTime": {
     "end_time": "2025-03-13T14:53:10.788614Z",
     "start_time": "2025-03-13T14:53:10.780062Z"
    }
   },
   "cell_type": "code",
   "source": [
    "# Map Function Kullanımı\n",
    "numbers = [num for num in range(10)]\n",
    "\n",
    "def square(x):\n",
    "    return x ** 2\n",
    "\n",
    "result = list(map(lambda x: x ** 2, numbers)) #2. eleman olarak iterable bir nesne alır.\n",
    "print(result)"
   ],
   "id": "77ad05831abe454e",
   "outputs": [
    {
     "name": "stdout",
     "output_type": "stream",
     "text": [
      "[0, 1, 4, 9, 16, 25, 36, 49, 64, 81]\n"
     ]
    }
   ],
   "execution_count": 31
  },
  {
   "metadata": {
    "ExecuteTime": {
     "end_time": "2025-03-13T15:09:27.918166Z",
     "start_time": "2025-03-13T15:09:27.911057Z"
    }
   },
   "cell_type": "code",
   "source": [
    "# Filters Kullanımı\n",
    "\n",
    "numbers = [1, 5, 7, -5, -10, 1, 5]\n",
    "numbers_2 = [x for x in range(100)]\n",
    "\n",
    "result = list(filter(lambda x: x > 0, numbers))\n",
    "print(result)\n",
    "\n",
    "filtered_result = list(filter(lambda x: all(x % y != 0 for y in range(2, int(x ** 0.5) + 1)) and x > 1, numbers_2))\n",
    "print(filtered_result)\n",
    "\n",
    "result = list(map(lambda a: a + 2, filtered_result))\n",
    "print(result)"
   ],
   "id": "6870c4b1786336a7",
   "outputs": [
    {
     "name": "stdout",
     "output_type": "stream",
     "text": [
      "[1, 5, 7, 1, 5]\n",
      "[2, 3, 5, 7, 11, 13, 17, 19, 23, 29, 31, 37, 41, 43, 47, 53, 59, 61, 67, 71, 73, 79, 83, 89, 97]\n",
      "[4, 5, 7, 9, 13, 15, 19, 21, 25, 31, 33, 39, 43, 45, 49, 55, 61, 63, 69, 73, 75, 81, 85, 91, 99]\n"
     ]
    }
   ],
   "execution_count": 35
  },
  {
   "metadata": {
    "ExecuteTime": {
     "end_time": "2025-03-13T15:14:42.660654Z",
     "start_time": "2025-03-13T15:14:42.652624Z"
    }
   },
   "cell_type": "code",
   "source": [
    "users = [\n",
    "    {\"name\": \"sadık\", \"posts\": [\"post1\", \"post2\"]},\n",
    "    {\"name\": \"ahmet\", \"posts\": [\"post1\", \"post2\", \"post3\"]},\n",
    "    {\"name\": \"ali\", \"posts\": [\"post1\", \"post2\", \"post3\", \"post4\"]}\n",
    "]\n",
    "\n",
    "filtered = list(filter(lambda u: len(u[\"posts\"]) > 2, users))\n",
    "result = list(map(lambda x: x[\"name\"], filtered))\n",
    "print(result)"
   ],
   "id": "9e66488f6f44f216",
   "outputs": [
    {
     "name": "stdout",
     "output_type": "stream",
     "text": [
      "['ahmet', 'ali']\n"
     ]
    }
   ],
   "execution_count": 38
  },
  {
   "metadata": {
    "ExecuteTime": {
     "end_time": "2025-03-13T16:45:02.359339Z",
     "start_time": "2025-03-13T16:45:02.343150Z"
    }
   },
   "cell_type": "code",
   "source": [
    "# Sorted Function\n",
    "# Bu fonskiyon orjinal listeyi değiştirmeden sıralama işlemi yapar.\n",
    "\n",
    "sorted_numbers = sorted([rnd.randint(0, 100) for _ in range(10)])\n",
    "sorted_list = sorted(users, key=lambda u: u[\"name\"])\n",
    "print(sorted_list)\n",
    "print(sorted_numbers)\n",
    "\n",
    "kurslar = [\n",
    "    {\"title\": \"python\", \"count\": 100000},\n",
    "    {\"title\": \"web geliştirme\", \"count\": 20000},\n",
    "    {\"title\": \"javascript\", \"count\": 5000},\n",
    "]\n",
    "\n",
    "sonuc = list(map(lambda x: x[\"title\"], sorted(kurslar, key=lambda u: u[\"count\"], reverse=True)))\n",
    "print(sonuc)\n"
   ],
   "id": "43fdbd9d5e94fe20",
   "outputs": [
    {
     "name": "stdout",
     "output_type": "stream",
     "text": [
      "[{'name': 'ahmet', 'posts': ['post1', 'post2', 'post3']}, {'name': 'ali', 'posts': ['post1', 'post2', 'post3', 'post4']}, {'name': 'sadık', 'posts': ['post1', 'post2']}]\n",
      "[7, 30, 33, 33, 36, 38, 42, 49, 57, 85]\n",
      "['python', 'web geliştirme', 'javascript']\n"
     ]
    }
   ],
   "execution_count": 43
  },
  {
   "metadata": {},
   "cell_type": "markdown",
   "source": "# CLASSLAR - OOP",
   "id": "56795517c8ae5c5c"
  },
  {
   "metadata": {
    "ExecuteTime": {
     "end_time": "2025-03-14T13:18:59.310906Z",
     "start_time": "2025-03-14T13:18:59.306441Z"
    }
   },
   "cell_type": "code",
   "source": [
    "class CarItem:\n",
    "    # static attributes / field\n",
    "    discount_rate = 0.8\n",
    "\n",
    "    # constructor\n",
    "    def __init__(self, name, price):\n",
    "        #instance attributes/ fields\n",
    "        self.name = name\n",
    "        self.price = price\n",
    "\n",
    "    # instance method\n",
    "    def print_hello(self):\n",
    "        print(f\"Hello {self.name}\")\n",
    "\n",
    "    @classmethod # => static method ancak nesneler üzerinden de erişilebilir.\n",
    "    def print_hello_2(cls):\n",
    "        print(f\"Discount rate: {cls.discount_rate}\")\n",
    "\n",
    "item1 = CarItem(\"python\", 100)\n",
    "item2 = CarItem(\"javascript\", 200)\n",
    "\n",
    "print(f\"Item 1:{item1.name} and Item 2:{item2.name}\")\n",
    "print(item1.__dict__) # magic func => item1 fieldlarını bir dict'e aktarır ve return eder.\n",
    "\n",
    "CarItem.print_hello(item2)\n",
    "CarItem.print_hello_2()"
   ],
   "id": "f75bb657251f9b28",
   "outputs": [
    {
     "name": "stdout",
     "output_type": "stream",
     "text": [
      "Item 1:python and Item 2:javascript\n",
      "{'name': 'python', 'price': 100}\n",
      "Hello javascript\n",
      "Discount rate: 0.8\n",
      "Discount rate: 0.8\n"
     ]
    }
   ],
   "execution_count": 12
  },
  {
   "metadata": {},
   "cell_type": "code",
   "outputs": [],
   "execution_count": null,
   "source": [
    "# Basit Uygulama\n",
    "class ShoppingCart:\n",
    "    def __init__(self, product_list):\n",
    "        self.product_list = product_list\n",
    "\n",
    "    def add_item(self, product):\n",
    "        self.product_list.append(product)\n",
    "        print(\"Ürün başarıyla eklendi!\")\n",
    "\n",
    "    def display_products(self):\n",
    "        print(f\"Products in list: {self.product_list}\")\n",
    "\n",
    "    def remove_product(self, product):\n",
    "        self.product_list.remove(product)\n",
    "\n",
    "    def clear_products(self):\n",
    "        self.product_list.clear()\n",
    "\n",
    "    def calculate_total_price(self):\n",
    "        return sum([product.price for product in self.product_list])"
   ],
   "id": "7880ca742061dc45"
  }
 ],
 "metadata": {
  "kernelspec": {
   "display_name": "Python 3",
   "language": "python",
   "name": "python3"
  },
  "language_info": {
   "codemirror_mode": {
    "name": "ipython",
    "version": 2
   },
   "file_extension": ".py",
   "mimetype": "text/x-python",
   "name": "python",
   "nbconvert_exporter": "python",
   "pygments_lexer": "ipython2",
   "version": "2.7.6"
  }
 },
 "nbformat": 4,
 "nbformat_minor": 5
}
